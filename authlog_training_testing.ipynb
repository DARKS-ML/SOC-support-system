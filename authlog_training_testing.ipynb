{
  "nbformat": 4,
  "nbformat_minor": 0,
  "metadata": {
    "colab": {
      "name": "authlog_training_testing.ipynb",
      "provenance": [],
      "authorship_tag": "ABX9TyMNcyLFd9QrpumPdO6k8+zZ",
      "include_colab_link": true
    },
    "kernelspec": {
      "name": "python3",
      "display_name": "Python 3"
    },
    "language_info": {
      "name": "python"
    }
  },
  "cells": [
    {
      "cell_type": "markdown",
      "metadata": {
        "id": "view-in-github",
        "colab_type": "text"
      },
      "source": [
        "<a href=\"https://colab.research.google.com/github/kashindra-mahato/SOC-support-system/blob/kashindra/authlog_training_testing.ipynb\" target=\"_parent\"><img src=\"https://colab.research.google.com/assets/colab-badge.svg\" alt=\"Open In Colab\"/></a>"
      ]
    },
    {
      "cell_type": "code",
      "execution_count": 522,
      "metadata": {
        "colab": {
          "base_uri": "https://localhost:8080/"
        },
        "id": "K9YadfRrno8E",
        "outputId": "faaecdd2-5756-42bd-b82c-ab9d9575ae1e"
      },
      "outputs": [
        {
          "output_type": "stream",
          "name": "stdout",
          "text": [
            "Drive already mounted at /content/drive; to attempt to forcibly remount, call drive.mount(\"/content/drive\", force_remount=True).\n"
          ]
        }
      ],
      "source": [
        "from google.colab import drive\n",
        "drive.mount('/content/drive')"
      ]
    },
    {
      "cell_type": "markdown",
      "source": [
        "##Imports"
      ],
      "metadata": {
        "id": "hxIrS_0BoOWK"
      }
    },
    {
      "cell_type": "code",
      "source": [
        "import pandas as pd\n",
        "import numpy as np\n",
        "import re\n",
        "from sklearn.feature_extraction.text import TfidfVectorizer\n",
        "from sklearn.decomposition import PCA\n",
        "from sklearn.cluster import KMeans\n",
        "from scipy.spatial import distance\n",
        "import matplotlib.pyplot as plt\n",
        "import pickle"
      ],
      "metadata": {
        "id": "13wC8EpZn2Z1"
      },
      "execution_count": 523,
      "outputs": []
    },
    {
      "cell_type": "markdown",
      "source": [
        "##Parser for auth"
      ],
      "metadata": {
        "id": "R-nr8ItxoMHd"
      }
    },
    {
      "cell_type": "code",
      "source": [
        "def authParser(log_file):\n",
        "  file_name = log_file\n",
        "  file = open(file_name, \"r\")\n",
        "  data = []\n",
        "  order = [\"date\", \"time\", \"ip\", \"process\", \"event\"]\n",
        "  \n",
        "  for line in file.readlines():\n",
        "    split1 = re.split(\":\", line, 3)\n",
        "    event = split1[3]\n",
        "    date = re.findall(\"^\\S+\\s+[0-9]{2}\", line)\n",
        "    time = re.findall(\"([0-9]{2}\\\\:[0-9]{2}\\\\:[0-9]{2})\", line)[0]\n",
        "    ip = re.findall(\"([a-z]{2}\\\\-[0-9]*\\\\-[0-9]*\\\\-[0-9]*\\\\-[0-9]*)\", line)[0]\n",
        "    process = re.findall(\"([a-zA-Z]*\\\\[[0-9]*\\\\])\", line)[0]\n",
        "    details = [date, time, ip, process, event]\n",
        "    structure = {key:value for key, value in zip(order, details)}\n",
        "    data.append(structure)\n",
        "  return data"
      ],
      "metadata": {
        "id": "hb0jBu1doYVx"
      },
      "execution_count": 524,
      "outputs": []
    },
    {
      "cell_type": "markdown",
      "source": [
        "##parser for single line(string)"
      ],
      "metadata": {
        "id": "VqAk7Tje7-CJ"
      }
    },
    {
      "cell_type": "code",
      "source": [
        "def authParserLine(line):\n",
        "  order = [\"date\", \"time\", \"ip\", \"process\", \"event\"]\n",
        "  \n",
        "  split1 = re.split(\":\", line, 3)\n",
        "  event = split1[3]\n",
        "  date = re.findall(\"^\\S+\\s+[0-9]{2}\", line)\n",
        "  time = re.findall(\"([0-9]{2}\\\\:[0-9]{2}\\\\:[0-9]{2})\", line)[0]\n",
        "  ip = re.findall(\"([a-z]{2}\\\\-[0-9]*\\\\-[0-9]*\\\\-[0-9]*\\\\-[0-9]*)\", line)[0]\n",
        "  process = re.findall(\"([a-zA-Z]*\\\\[[0-9]*\\\\])\", line)[0]\n",
        "  details = [date, time, ip, process, event]\n",
        "  structure = {key:value for key, value in zip(order, details)}\n",
        "  \n",
        "  return structure"
      ],
      "metadata": {
        "id": "FXL4bcsZ8DJw"
      },
      "execution_count": 525,
      "outputs": []
    },
    {
      "cell_type": "markdown",
      "source": [
        "##function for Cleaning"
      ],
      "metadata": {
        "id": "ER1J2eC0ocLx"
      }
    },
    {
      "cell_type": "code",
      "source": [
        "def clean(dataframe, column_name):\n",
        "  dataframe[column_name] = dataframe[column_name].str.lower()\n",
        "  # Remove numbers and special-characters from Event\n",
        "  dataframe[column_name] = dataframe[column_name].str.replace('\\d+', '')\n",
        "  dataframe[column_name] = dataframe[column_name].str.replace(r'[^\\w\\s]+', '')\n",
        "  # remove after 'user' including user :(\n",
        "  dataframe[column_name] = dataframe[column_name].apply(lambda x: x.split(' user ')[0])\n",
        "  return dataframe"
      ],
      "metadata": {
        "id": "21kKorxCohr6"
      },
      "execution_count": 526,
      "outputs": []
    },
    {
      "cell_type": "markdown",
      "source": [
        "##Stop word remover"
      ],
      "metadata": {
        "id": "aJjteRZvoild"
      }
    },
    {
      "cell_type": "code",
      "source": [
        "def remStopWord(dataframe, column_name, s_words):\n",
        "  import nltk\n",
        "  from nltk.corpus import stopwords\n",
        "  nltk.download('stopwords')\n",
        "  all_stopwords = stopwords.words('english')\n",
        "  all_stopwords.extend(s_words)\n",
        "  dataframe[column_name] = dataframe[column_name].apply(lambda x: ' '.join([word for word in x.split() if word not in (all_stopwords)]))\n",
        "  return dataframe"
      ],
      "metadata": {
        "id": "TsCeyfdkojY1"
      },
      "execution_count": 527,
      "outputs": []
    },
    {
      "cell_type": "markdown",
      "source": [
        "##Tokenizer"
      ],
      "metadata": {
        "id": "j4ZnY6gDo1u6"
      }
    },
    {
      "cell_type": "code",
      "source": [
        "def authToken(input_data):\n",
        "  return list(set(str(input_data).split(' ')))"
      ],
      "metadata": {
        "id": "8S6CjLz8ojV6"
      },
      "execution_count": 528,
      "outputs": []
    },
    {
      "cell_type": "markdown",
      "source": [
        "##Vectorizer"
      ],
      "metadata": {
        "id": "6HPYd3LXpA4E"
      }
    },
    {
      "cell_type": "code",
      "source": [
        "def authVectorizer(input_data):\n",
        "  vectorizer = TfidfVectorizer(tokenizer=authToken)\n",
        "  vectorizer.fit(input_data)\n",
        "  vector_op = vectorizer.transform(input_data)\n",
        "  return vector_op, vectorizer"
      ],
      "metadata": {
        "id": "NLDeR3_FpDks"
      },
      "execution_count": 529,
      "outputs": []
    },
    {
      "cell_type": "markdown",
      "source": [
        "##principle component analyzer"
      ],
      "metadata": {
        "id": "y2SQLUITpHL5"
      }
    },
    {
      "cell_type": "code",
      "source": [
        "def pca(input_data):\n",
        "  pca = PCA(n_components=0.95) \n",
        "  pca.fit(input_data)\n",
        "  data = pca.transform(input_data)\n",
        "  return data, pca"
      ],
      "metadata": {
        "id": "3muAERsIpNHV"
      },
      "execution_count": 530,
      "outputs": []
    },
    {
      "cell_type": "markdown",
      "source": [
        "##kmeans clustering(training) model"
      ],
      "metadata": {
        "id": "FP8HU_KVpQnE"
      }
    },
    {
      "cell_type": "code",
      "source": [
        "def train(input_data):\n",
        "  model = KMeans(7)\n",
        "  model.fit(input_data)\n",
        "  data = model.transform(input_data)\n",
        "  return data, model"
      ],
      "metadata": {
        "id": "ZuF3B2rapYsF"
      },
      "execution_count": 531,
      "outputs": []
    },
    {
      "cell_type": "markdown",
      "source": [
        "##function to calculate distance between each instance and their respective centroids"
      ],
      "metadata": {
        "id": "-7FX7yoDpfTs"
      }
    },
    {
      "cell_type": "code",
      "source": [
        "def fromCentDistance(pca_data, model):\n",
        "  centroids = model.cluster_centers_\n",
        "  df_cent = pd.DataFrame(centroids)\n",
        "  df_cent['label'] = [i for i in range(len(centroids))]\n",
        "  df_pca_data = pd.DataFrame(pca_data)\n",
        "  df_pca_data['label'] = model.predict(pca_data)\n",
        "  df_pca_data_join = df_pca_data.join(df_cent, \n",
        "                                      on='label', \n",
        "                                      how='left', \n",
        "                                      lsuffix='_pca',\n",
        "                                      rsuffix='_cent')\n",
        "  df_pca_1 = df_pca_data_join.loc[:, \"0_pca\":\"label_pca\"]\n",
        "  df_pca_1.drop('label_pca', axis=1, inplace=True)\n",
        "  df_cent_1 = df_pca_data_join.loc[:, \"0_cent\":\"label_cent\"]\n",
        "  df_cent_1.drop('label_cent', axis=1, inplace=True)\n",
        "  list1 = df_pca_1.to_numpy().tolist()\n",
        "  list2 = df_cent_1.to_numpy().tolist()\n",
        "  distances = []\n",
        "  for i in range(len(list1)):\n",
        "    dist = distance.euclidean(list1[i],list2[i])\n",
        "    distances.append(dist)\n",
        "  \n",
        "  return distances"
      ],
      "metadata": {
        "id": "tmuJ9kNxppvN"
      },
      "execution_count": 532,
      "outputs": []
    },
    {
      "cell_type": "markdown",
      "source": [
        "##function to calculate modified_score"
      ],
      "metadata": {
        "id": "U7u-0ZJVpslu"
      }
    },
    {
      "cell_type": "code",
      "source": [
        "def modified_zscore(distance, consistency_correction=1.4826):\n",
        "    \n",
        "    median = np.median(distance)\n",
        "    \n",
        "    deviation_from_med = np.array(distance) - median\n",
        "    \n",
        "    mad = np.mean(np.abs(deviation_from_med))\n",
        "    mod_zscore = deviation_from_med/(consistency_correction*mad)\n",
        "    \n",
        "    return mod_zscore, mad"
      ],
      "metadata": {
        "id": "IdZLllw7p6mQ"
      },
      "execution_count": 533,
      "outputs": []
    },
    {
      "cell_type": "markdown",
      "source": [
        "##function to plot anomalies(z>3)"
      ],
      "metadata": {
        "id": "sxewzBYVp_ip"
      }
    },
    {
      "cell_type": "code",
      "source": [
        "def plot_anomaly(data, threshold):\n",
        "    data = data.copy().sort_values(ascending=False).values\n",
        "    ranks = np.linspace(1, len(data), len(data))\n",
        "    mask_outliers = (data > threshold)\n",
        "    \n",
        "    plt.figure(dpi=100)\n",
        "    plt.plot(ranks[mask_outliers], data[mask_outliers],'o', color='r',label='anomalies')\n",
        "    plt.plot(ranks[~mask_outliers], data[~mask_outliers],'o', color='b', label='normal')\n",
        "    plt.axhline(threshold,color='r',label='threshold', alpha=0.5)\n",
        "    plt.legend(loc = 'upper right')\n",
        "    plt.title('Modified z-score vs. Log Event', fontweight='bold')\n",
        "    plt.xticks(np.arange(0, 21, step=2.0))\n",
        "    plt.xlabel('Event')\n",
        "    plt.ylabel('Modified z-score')\n",
        "    plt.show()"
      ],
      "metadata": {
        "id": "G677KdMkqIs1"
      },
      "execution_count": 534,
      "outputs": []
    },
    {
      "cell_type": "markdown",
      "source": [
        "#Training"
      ],
      "metadata": {
        "id": "6oYrZqHgqhUL"
      }
    },
    {
      "cell_type": "code",
      "source": [
        "log = \"/content/drive/MyDrive/Colab Notebooks/DATASET/auth.log\""
      ],
      "metadata": {
        "id": "xtAowK1grywV"
      },
      "execution_count": 535,
      "outputs": []
    },
    {
      "cell_type": "code",
      "source": [
        "data = authParser(log)"
      ],
      "metadata": {
        "id": "thXptgWEs-v3"
      },
      "execution_count": 536,
      "outputs": []
    },
    {
      "cell_type": "code",
      "source": [
        "df = pd.DataFrame(data)"
      ],
      "metadata": {
        "id": "5ol_GQWRr1z6"
      },
      "execution_count": 537,
      "outputs": []
    },
    {
      "cell_type": "code",
      "source": [
        "df_copy = df.copy()"
      ],
      "metadata": {
        "id": "eef88PVay_kV"
      },
      "execution_count": 538,
      "outputs": []
    },
    {
      "cell_type": "code",
      "source": [
        "df_clean = clean(df,\"event\")"
      ],
      "metadata": {
        "colab": {
          "base_uri": "https://localhost:8080/"
        },
        "id": "ImT_9r8pr3fp",
        "outputId": "aad2d404-63b6-40f2-aebd-8944c5860905"
      },
      "execution_count": 539,
      "outputs": [
        {
          "output_type": "stream",
          "name": "stderr",
          "text": [
            "/usr/local/lib/python3.7/dist-packages/ipykernel_launcher.py:4: FutureWarning: The default value of regex will change from True to False in a future version.\n",
            "  after removing the cwd from sys.path.\n",
            "/usr/local/lib/python3.7/dist-packages/ipykernel_launcher.py:5: FutureWarning: The default value of regex will change from True to False in a future version.\n",
            "  \"\"\"\n"
          ]
        }
      ]
    },
    {
      "cell_type": "code",
      "source": [
        "stopwords = ['pam_unixcronsession' 'by', 'string', 'from', 'bye', 'for', 'port', 'sshd', 'ssh', 'root', 'preauth']"
      ],
      "metadata": {
        "id": "0BxppdfHr5CT"
      },
      "execution_count": 540,
      "outputs": []
    },
    {
      "cell_type": "code",
      "source": [
        "df_clean = remStopWord(df_clean, \"event\", stopwords)"
      ],
      "metadata": {
        "colab": {
          "base_uri": "https://localhost:8080/"
        },
        "id": "PBxrUlKnr8Lk",
        "outputId": "8cdb3941-b44b-4438-c8a2-2bcf9beea777"
      },
      "execution_count": 541,
      "outputs": [
        {
          "output_type": "stream",
          "name": "stderr",
          "text": [
            "[nltk_data] Downloading package stopwords to /root/nltk_data...\n",
            "[nltk_data]   Package stopwords is already up-to-date!\n"
          ]
        }
      ]
    },
    {
      "cell_type": "code",
      "source": [
        "path = '/content/drive/MyDrive/Colab Notebooks/models/'"
      ],
      "metadata": {
        "id": "_3ShwCxB1e7d"
      },
      "execution_count": 542,
      "outputs": []
    },
    {
      "cell_type": "code",
      "source": [
        "vector_op, vectorizer = authVectorizer(df_clean['event'])"
      ],
      "metadata": {
        "colab": {
          "base_uri": "https://localhost:8080/"
        },
        "id": "F3PHBZGNsAZX",
        "outputId": "314fbc7a-013a-4367-aa48-96a0b68f6af5"
      },
      "execution_count": 543,
      "outputs": [
        {
          "output_type": "stream",
          "name": "stderr",
          "text": [
            "/usr/local/lib/python3.7/dist-packages/sklearn/feature_extraction/text.py:517: UserWarning: The parameter 'token_pattern' will not be used since 'tokenizer' is not None'\n",
            "  \"The parameter 'token_pattern' will not be used\"\n"
          ]
        }
      ]
    },
    {
      "cell_type": "code",
      "source": [
        "pickle.dump(vectorizer, open(path + 'auth_vectorizer.sav', 'wb'))"
      ],
      "metadata": {
        "id": "SFjnNqGsRX3R"
      },
      "execution_count": 544,
      "outputs": []
    },
    {
      "cell_type": "code",
      "source": [
        "pca_data, pca = pca(vector_op.todense())"
      ],
      "metadata": {
        "colab": {
          "base_uri": "https://localhost:8080/"
        },
        "id": "qEm0I89JsB11",
        "outputId": "f94e36f2-7bf4-4c09-bae3-cd0c99b839bf"
      },
      "execution_count": 545,
      "outputs": [
        {
          "output_type": "stream",
          "name": "stderr",
          "text": [
            "/usr/local/lib/python3.7/dist-packages/sklearn/utils/validation.py:598: FutureWarning: np.matrix usage is deprecated in 1.0 and will raise a TypeError in 1.2. Please convert to a numpy array with np.asarray. For more information see: https://numpy.org/doc/stable/reference/generated/numpy.matrix.html\n",
            "  FutureWarning,\n",
            "/usr/local/lib/python3.7/dist-packages/sklearn/utils/validation.py:598: FutureWarning: np.matrix usage is deprecated in 1.0 and will raise a TypeError in 1.2. Please convert to a numpy array with np.asarray. For more information see: https://numpy.org/doc/stable/reference/generated/numpy.matrix.html\n",
            "  FutureWarning,\n"
          ]
        }
      ]
    },
    {
      "cell_type": "code",
      "source": [
        "pickle.dump(pca, open(path + 'auth_pca.sav', 'wb'))"
      ],
      "metadata": {
        "id": "aG8JoBN7QKnm"
      },
      "execution_count": 546,
      "outputs": []
    },
    {
      "cell_type": "code",
      "source": [
        "model_data, model = train(pca_data)"
      ],
      "metadata": {
        "id": "8eo1RtFV1Uav"
      },
      "execution_count": 547,
      "outputs": []
    },
    {
      "cell_type": "code",
      "source": [
        "pickle.dump(model, open(path + 'auth_model.sav', 'wb'))"
      ],
      "metadata": {
        "id": "WcbeOjeM28mO"
      },
      "execution_count": 548,
      "outputs": []
    },
    {
      "cell_type": "code",
      "source": [
        "distance = fromCentDistance(pca_data, model)"
      ],
      "metadata": {
        "id": "bvrJ4HDEsFJf"
      },
      "execution_count": 549,
      "outputs": []
    },
    {
      "cell_type": "code",
      "source": [
        "df_copy['distance'] = distance"
      ],
      "metadata": {
        "id": "KIPjMVUusGfE"
      },
      "execution_count": 550,
      "outputs": []
    },
    {
      "cell_type": "code",
      "source": [
        "mod_zscore, mad = modified_zscore(df_copy['distance'])"
      ],
      "metadata": {
        "id": "ybEZdvyIsIOw"
      },
      "execution_count": 551,
      "outputs": []
    },
    {
      "cell_type": "code",
      "source": [
        "df_copy['mod_zscore'] = mod_zscore.tolist()"
      ],
      "metadata": {
        "id": "FZuX2EjWqkrF"
      },
      "execution_count": 552,
      "outputs": []
    },
    {
      "cell_type": "markdown",
      "source": [
        "#Output"
      ],
      "metadata": {
        "id": "BSgxCwu7rAIj"
      }
    },
    {
      "cell_type": "code",
      "source": [
        "plot_anomaly(df_copy['mod_zscore'],3)"
      ],
      "metadata": {
        "colab": {
          "base_uri": "https://localhost:8080/",
          "height": 404
        },
        "id": "VryDWt2GrDbe",
        "outputId": "07600b18-20d6-4370-8559-e6a1c76c5b2a"
      },
      "execution_count": 553,
      "outputs": [
        {
          "output_type": "display_data",
          "data": {
            "text/plain": [
              "<Figure size 600x400 with 1 Axes>"
            ],
            "image/png": "[encoded data removed]"
          },
          "metadata": {
            "needs_background": "light"
          }
        }
      ]
    },
    {
      "cell_type": "code",
      "source": [
        "df.loc[df_copy.mod_zscore>3].event.unique()"
      ],
      "metadata": {
        "id": "PZIr2OCNrFpY"
      },
      "execution_count": null,
      "outputs": []
    },
    {
      "cell_type": "code",
      "source": [
        "df_copy.loc[df_copy.mod_zscore>3].event.unique()"
      ],
      "metadata": {
        "id": "6__2Un6cx96b"
      },
      "execution_count": null,
      "outputs": []
    },
    {
      "cell_type": "markdown",
      "source": [
        "#Testing"
      ],
      "metadata": {
        "id": "G_hVJBU_0MjF"
      }
    },
    {
      "cell_type": "code",
      "source": [
        "input = \"Nov 30 09:22:03 ip-172-31-27-153 sshd[22218]: Did not receive identification string from 196.200.90.236\""
      ],
      "metadata": {
        "id": "fGRCpAKyKX9X"
      },
      "execution_count": 556,
      "outputs": []
    },
    {
      "cell_type": "code",
      "source": [
        "data1 = authParserLine(input)"
      ],
      "metadata": {
        "id": "c6D8r01qKz5W"
      },
      "execution_count": 557,
      "outputs": []
    },
    {
      "cell_type": "code",
      "source": [
        "df1 = pd.DataFrame(data1)"
      ],
      "metadata": {
        "id": "gpa6CmcDKz5Z"
      },
      "execution_count": 558,
      "outputs": []
    },
    {
      "cell_type": "code",
      "source": [
        "df1_copy = df1.copy()"
      ],
      "metadata": {
        "id": "skW8XXBoKz5c"
      },
      "execution_count": 559,
      "outputs": []
    },
    {
      "cell_type": "code",
      "source": [
        "df1_clean = clean(df1,\"event\")"
      ],
      "metadata": {
        "colab": {
          "base_uri": "https://localhost:8080/"
        },
        "outputId": "6c8a4ec3-0479-4ab6-a66d-768a70d22b35",
        "id": "LzqFDv3SKz5e"
      },
      "execution_count": 560,
      "outputs": [
        {
          "output_type": "stream",
          "name": "stderr",
          "text": [
            "/usr/local/lib/python3.7/dist-packages/ipykernel_launcher.py:4: FutureWarning: The default value of regex will change from True to False in a future version.\n",
            "  after removing the cwd from sys.path.\n",
            "/usr/local/lib/python3.7/dist-packages/ipykernel_launcher.py:5: FutureWarning: The default value of regex will change from True to False in a future version.\n",
            "  \"\"\"\n"
          ]
        }
      ]
    },
    {
      "cell_type": "code",
      "source": [
        "stopwords1 = ['pam_unixcronsession' 'by', 'string', 'from', 'bye', 'for', 'port', 'sshd', 'ssh', 'root', 'preauth']"
      ],
      "metadata": {
        "id": "CaO96lrDKz5h"
      },
      "execution_count": 561,
      "outputs": []
    },
    {
      "cell_type": "code",
      "source": [
        "df1_clean = remStopWord(df1_clean, \"event\", stopwords1)"
      ],
      "metadata": {
        "colab": {
          "base_uri": "https://localhost:8080/"
        },
        "outputId": "79e95572-7587-4f46-9bd9-32a58b44f54f",
        "id": "4jc77M6TKz5k"
      },
      "execution_count": 562,
      "outputs": [
        {
          "output_type": "stream",
          "name": "stderr",
          "text": [
            "[nltk_data] Downloading package stopwords to /root/nltk_data...\n",
            "[nltk_data]   Package stopwords is already up-to-date!\n"
          ]
        }
      ]
    },
    {
      "cell_type": "code",
      "source": [
        "loaded_vectorizer = pickle.load(open(path + 'auth_vectorizer.sav', 'rb'))"
      ],
      "metadata": {
        "id": "K8J0RgJORqYl"
      },
      "execution_count": 563,
      "outputs": []
    },
    {
      "cell_type": "code",
      "source": [
        "vector_op1 = loaded_vectorizer.transform(df1_clean['event'])"
      ],
      "metadata": {
        "id": "RlaqmstoYhmM"
      },
      "execution_count": 565,
      "outputs": []
    },
    {
      "cell_type": "code",
      "source": [
        "loaded_pca = pickle.load(open(path + 'auth_pca.sav', 'rb'))"
      ],
      "metadata": {
        "id": "OL0v1VRXKz5u"
      },
      "execution_count": 566,
      "outputs": []
    },
    {
      "cell_type": "code",
      "source": [
        "pca_data1 = loaded_pca.transform(vector_op1.todense())"
      ],
      "metadata": {
        "id": "3tx6gHXdRE2F"
      },
      "execution_count": null,
      "outputs": []
    },
    {
      "cell_type": "code",
      "source": [
        "pca_data1"
      ],
      "metadata": {
        "colab": {
          "base_uri": "https://localhost:8080/"
        },
        "id": "r8rALGK1aUWY",
        "outputId": "76bd7593-7eab-47d1-b064-18d16ef0a2aa"
      },
      "execution_count": 573,
      "outputs": [
        {
          "output_type": "execute_result",
          "data": {
            "text/plain": [
              "array([[ 2.91715370e-01,  4.19399885e-01,  3.09503096e-14,\n",
              "        -1.37348757e-01,  3.19870657e-02,  9.86573913e-02,\n",
              "         4.42114204e-01,  9.17158171e-01]])"
            ]
          },
          "metadata": {},
          "execution_count": 573
        }
      ]
    },
    {
      "cell_type": "code",
      "source": [
        "loaded_model = pickle.load(open(path + 'auth_model.sav', 'rb'))"
      ],
      "metadata": {
        "id": "aKXjemm_Kz5x"
      },
      "execution_count": 569,
      "outputs": []
    },
    {
      "cell_type": "code",
      "source": [
        "model_data1 = loaded_model.predict(pca_data1)"
      ],
      "metadata": {
        "id": "-vR7k8VYWMoi"
      },
      "execution_count": 570,
      "outputs": []
    },
    {
      "cell_type": "code",
      "source": [
        "model_data1"
      ],
      "metadata": {
        "colab": {
          "base_uri": "https://localhost:8080/"
        },
        "id": "U0p8KY2BW2LA",
        "outputId": "cbab9c7a-8932-4330-f8c8-757637f89cc7"
      },
      "execution_count": 571,
      "outputs": [
        {
          "output_type": "execute_result",
          "data": {
            "text/plain": [
              "array([5], dtype=int32)"
            ]
          },
          "metadata": {},
          "execution_count": 571
        }
      ]
    },
    {
      "cell_type": "code",
      "source": [
        "distance1 = fromCentDistance(pca_data1, loaded_model)"
      ],
      "metadata": {
        "colab": {
          "base_uri": "https://localhost:8080/",
          "height": 289
        },
        "id": "fjya-H0TKz52",
        "outputId": "f45493a8-cb69-4281-f62b-0826217f2ffe"
      },
      "execution_count": 572,
      "outputs": [
        {
          "output_type": "error",
          "ename": "AttributeError",
          "evalue": "ignored",
          "traceback": [
            "\u001b[0;31m---------------------------------------------------------------------------\u001b[0m",
            "\u001b[0;31mAttributeError\u001b[0m                            Traceback (most recent call last)",
            "\u001b[0;32m<ipython-input-572-4e37764f231e>\u001b[0m in \u001b[0;36m<module>\u001b[0;34m()\u001b[0m\n\u001b[0;32m----> 1\u001b[0;31m \u001b[0mdistance1\u001b[0m \u001b[0;34m=\u001b[0m \u001b[0mfromCentDistance\u001b[0m\u001b[0;34m(\u001b[0m\u001b[0mpca_data1\u001b[0m\u001b[0;34m,\u001b[0m \u001b[0mloaded_model\u001b[0m\u001b[0;34m)\u001b[0m\u001b[0;34m\u001b[0m\u001b[0;34m\u001b[0m\u001b[0m\n\u001b[0m",
            "\u001b[0;32m<ipython-input-532-303e619ea1d7>\u001b[0m in \u001b[0;36mfromCentDistance\u001b[0;34m(pca_data, model)\u001b[0m\n\u001b[1;32m     18\u001b[0m   \u001b[0mdistances\u001b[0m \u001b[0;34m=\u001b[0m \u001b[0;34m[\u001b[0m\u001b[0;34m]\u001b[0m\u001b[0;34m\u001b[0m\u001b[0;34m\u001b[0m\u001b[0m\n\u001b[1;32m     19\u001b[0m   \u001b[0;32mfor\u001b[0m \u001b[0mi\u001b[0m \u001b[0;32min\u001b[0m \u001b[0mrange\u001b[0m\u001b[0;34m(\u001b[0m\u001b[0mlen\u001b[0m\u001b[0;34m(\u001b[0m\u001b[0mlist1\u001b[0m\u001b[0;34m)\u001b[0m\u001b[0;34m)\u001b[0m\u001b[0;34m:\u001b[0m\u001b[0;34m\u001b[0m\u001b[0;34m\u001b[0m\u001b[0m\n\u001b[0;32m---> 20\u001b[0;31m     \u001b[0mdist\u001b[0m \u001b[0;34m=\u001b[0m \u001b[0mdistance\u001b[0m\u001b[0;34m.\u001b[0m\u001b[0meuclidean\u001b[0m\u001b[0;34m(\u001b[0m\u001b[0mlist1\u001b[0m\u001b[0;34m[\u001b[0m\u001b[0mi\u001b[0m\u001b[0;34m]\u001b[0m\u001b[0;34m,\u001b[0m\u001b[0mlist2\u001b[0m\u001b[0;34m[\u001b[0m\u001b[0mi\u001b[0m\u001b[0;34m]\u001b[0m\u001b[0;34m)\u001b[0m\u001b[0;34m\u001b[0m\u001b[0;34m\u001b[0m\u001b[0m\n\u001b[0m\u001b[1;32m     21\u001b[0m     \u001b[0mdistances\u001b[0m\u001b[0;34m.\u001b[0m\u001b[0mappend\u001b[0m\u001b[0;34m(\u001b[0m\u001b[0mdist\u001b[0m\u001b[0;34m)\u001b[0m\u001b[0;34m\u001b[0m\u001b[0;34m\u001b[0m\u001b[0m\n\u001b[1;32m     22\u001b[0m \u001b[0;34m\u001b[0m\u001b[0m\n",
            "\u001b[0;31mAttributeError\u001b[0m: 'list' object has no attribute 'euclidean'"
          ]
        }
      ]
    },
    {
      "cell_type": "code",
      "source": [
        "df1_copy['distance'] = distance1"
      ],
      "metadata": {
        "id": "cNpHfafsKz54"
      },
      "execution_count": null,
      "outputs": []
    },
    {
      "cell_type": "code",
      "source": [
        "mod_zscore1, mad1 = modified_zscore(df1_copy['distance'])"
      ],
      "metadata": {
        "id": "U3BN7Qa6Kz55"
      },
      "execution_count": null,
      "outputs": []
    },
    {
      "cell_type": "code",
      "source": [
        "df1_copy['mod_zscore'] = mod_zscore1.tolist()"
      ],
      "metadata": {
        "id": "GS7O04cZKz57"
      },
      "execution_count": null,
      "outputs": []
    }
  ]
}