{
  "nbformat": 4,
  "nbformat_minor": 0,
  "metadata": {
    "colab": {
      "name": "authlog_training_testing.ipynb",
      "provenance": [],
      "authorship_tag": "ABX9TyOtbjchb/L9M+BqcjQkoSlN",
      "include_colab_link": true
    },
    "kernelspec": {
      "name": "python3",
      "display_name": "Python 3"
    },
    "language_info": {
      "name": "python"
    }
  },
  "cells": [
    {
      "cell_type": "markdown",
      "metadata": {
        "id": "view-in-github",
        "colab_type": "text"
      },
      "source": [
        "<a href=\"https://colab.research.google.com/github/kashindra-mahato/SOC-support-system/blob/kashindra/authlog_training_testing.ipynb\" target=\"_parent\"><img src=\"https://colab.research.google.com/assets/colab-badge.svg\" alt=\"Open In Colab\"/></a>"
      ]
    },
    {
      "cell_type": "code",
      "execution_count": 522,
      "metadata": {
        "colab": {
          "base_uri": "https://localhost:8080/"
        },
        "id": "K9YadfRrno8E",
        "outputId": "faaecdd2-5756-42bd-b82c-ab9d9575ae1e"
      },
      "outputs": [
        {
          "output_type": "stream",
          "name": "stdout",
          "text": [
            "Drive already mounted at /content/drive; to attempt to forcibly remount, call drive.mount(\"/content/drive\", force_remount=True).\n"
          ]
        }
      ],
      "source": [
        "from google.colab import drive\n",
        "drive.mount('/content/drive')"
      ]
    },
    {
      "cell_type": "markdown",
      "source": [
        "##Imports"
      ],
      "metadata": {
        "id": "hxIrS_0BoOWK"
      }
    },
    {
      "cell_type": "code",
      "source": [
        "import pandas as pd\n",
        "import numpy as np\n",
        "import re\n",
        "from sklearn.feature_extraction.text import TfidfVectorizer\n",
        "from sklearn.decomposition import PCA\n",
        "from sklearn.cluster import KMeans\n",
        "from scipy.spatial import distance\n",
        "import matplotlib.pyplot as plt\n",
        "import pickle"
      ],
      "metadata": {
        "id": "13wC8EpZn2Z1"
      },
      "execution_count": 523,
      "outputs": []
    },
    {
      "cell_type": "markdown",
      "source": [
        "##Parser for auth"
      ],
      "metadata": {
        "id": "R-nr8ItxoMHd"
      }
    },
    {
      "cell_type": "code",
      "source": [
        "def authParser(log_file):\n",
        "  file_name = log_file\n",
        "  file = open(file_name, \"r\")\n",
        "  data = []\n",
        "  order = [\"date\", \"time\", \"ip\", \"process\", \"event\"]\n",
        "  \n",
        "  for line in file.readlines():\n",
        "    split1 = re.split(\":\", line, 3)\n",
        "    event = split1[3]\n",
        "    date = re.findall(\"^\\S+\\s+[0-9]{2}\", line)\n",
        "    time = re.findall(\"([0-9]{2}\\\\:[0-9]{2}\\\\:[0-9]{2})\", line)[0]\n",
        "    ip = re.findall(\"([a-z]{2}\\\\-[0-9]*\\\\-[0-9]*\\\\-[0-9]*\\\\-[0-9]*)\", line)[0]\n",
        "    process = re.findall(\"([a-zA-Z]*\\\\[[0-9]*\\\\])\", line)[0]\n",
        "    details = [date, time, ip, process, event]\n",
        "    structure = {key:value for key, value in zip(order, details)}\n",
        "    data.append(structure)\n",
        "  return data"
      ],
      "metadata": {
        "id": "hb0jBu1doYVx"
      },
      "execution_count": 524,
      "outputs": []
    },
    {
      "cell_type": "markdown",
      "source": [
        "##parser for single line(string)"
      ],
      "metadata": {
        "id": "VqAk7Tje7-CJ"
      }
    },
    {
      "cell_type": "code",
      "source": [
        "def authParserLine(line):\n",
        "  order = [\"date\", \"time\", \"ip\", \"process\", \"event\"]\n",
        "  \n",
        "  split1 = re.split(\":\", line, 3)\n",
        "  event = split1[3]\n",
        "  date = re.findall(\"^\\S+\\s+[0-9]{2}\", line)\n",
        "  time = re.findall(\"([0-9]{2}\\\\:[0-9]{2}\\\\:[0-9]{2})\", line)[0]\n",
        "  ip = re.findall(\"([a-z]{2}\\\\-[0-9]*\\\\-[0-9]*\\\\-[0-9]*\\\\-[0-9]*)\", line)[0]\n",
        "  process = re.findall(\"([a-zA-Z]*\\\\[[0-9]*\\\\])\", line)[0]\n",
        "  details = [date, time, ip, process, event]\n",
        "  structure = {key:value for key, value in zip(order, details)}\n",
        "  \n",
        "  return structure"
      ],
      "metadata": {
        "id": "FXL4bcsZ8DJw"
      },
      "execution_count": 525,
      "outputs": []
    },
    {
      "cell_type": "markdown",
      "source": [
        "##function for Cleaning"
      ],
      "metadata": {
        "id": "ER1J2eC0ocLx"
      }
    },
    {
      "cell_type": "code",
      "source": [
        "def clean(dataframe, column_name):\n",
        "  dataframe[column_name] = dataframe[column_name].str.lower()\n",
        "  # Remove numbers and special-characters from Event\n",
        "  dataframe[column_name] = dataframe[column_name].str.replace('\\d+', '')\n",
        "  dataframe[column_name] = dataframe[column_name].str.replace(r'[^\\w\\s]+', '')\n",
        "  # remove after 'user' including user :(\n",
        "  dataframe[column_name] = dataframe[column_name].apply(lambda x: x.split(' user ')[0])\n",
        "  return dataframe"
      ],
      "metadata": {
        "id": "21kKorxCohr6"
      },
      "execution_count": 526,
      "outputs": []
    },
    {
      "cell_type": "markdown",
      "source": [
        "##Stop word remover"
      ],
      "metadata": {
        "id": "aJjteRZvoild"
      }
    },
    {
      "cell_type": "code",
      "source": [
        "def remStopWord(dataframe, column_name, s_words):\n",
        "  import nltk\n",
        "  from nltk.corpus import stopwords\n",
        "  nltk.download('stopwords')\n",
        "  all_stopwords = stopwords.words('english')\n",
        "  all_stopwords.extend(s_words)\n",
        "  dataframe[column_name] = dataframe[column_name].apply(lambda x: ' '.join([word for word in x.split() if word not in (all_stopwords)]))\n",
        "  return dataframe"
      ],
      "metadata": {
        "id": "TsCeyfdkojY1"
      },
      "execution_count": 527,
      "outputs": []
    },
    {
      "cell_type": "markdown",
      "source": [
        "##Tokenizer"
      ],
      "metadata": {
        "id": "j4ZnY6gDo1u6"
      }
    },
    {
      "cell_type": "code",
      "source": [
        "def authToken(input_data):\n",
        "  return list(set(str(input_data).split(' ')))"
      ],
      "metadata": {
        "id": "8S6CjLz8ojV6"
      },
      "execution_count": 528,
      "outputs": []
    },
    {
      "cell_type": "markdown",
      "source": [
        "##Vectorizer"
      ],
      "metadata": {
        "id": "6HPYd3LXpA4E"
      }
    },
    {
      "cell_type": "code",
      "source": [
        "def authVectorizer(input_data):\n",
        "  vectorizer = TfidfVectorizer(tokenizer=authToken)\n",
        "  vectorizer.fit(input_data)\n",
        "  vector_op = vectorizer.transform(input_data)\n",
        "  return vector_op, vectorizer"
      ],
      "metadata": {
        "id": "NLDeR3_FpDks"
      },
      "execution_count": 529,
      "outputs": []
    },
    {
      "cell_type": "markdown",
      "source": [
        "##principle component analyzer"
      ],
      "metadata": {
        "id": "y2SQLUITpHL5"
      }
    },
    {
      "cell_type": "code",
      "source": [
        "def pca(input_data):\n",
        "  pca = PCA(n_components=0.95) \n",
        "  pca.fit(input_data)\n",
        "  data = pca.transform(input_data)\n",
        "  return data, pca"
      ],
      "metadata": {
        "id": "3muAERsIpNHV"
      },
      "execution_count": 530,
      "outputs": []
    },
    {
      "cell_type": "markdown",
      "source": [
        "##kmeans clustering(training) model"
      ],
      "metadata": {
        "id": "FP8HU_KVpQnE"
      }
    },
    {
      "cell_type": "code",
      "source": [
        "def train(input_data):\n",
        "  model = KMeans(7)\n",
        "  model.fit(input_data)\n",
        "  data = model.transform(input_data)\n",
        "  return data, model"
      ],
      "metadata": {
        "id": "ZuF3B2rapYsF"
      },
      "execution_count": 531,
      "outputs": []
    },
    {
      "cell_type": "markdown",
      "source": [
        "##function to calculate distance between each instance and their respective centroids"
      ],
      "metadata": {
        "id": "-7FX7yoDpfTs"
      }
    },
    {
      "cell_type": "code",
      "source": [
        "def fromCentDistance(pca_data, model):\n",
        "  centroids = model.cluster_centers_\n",
        "  df_cent = pd.DataFrame(centroids)\n",
        "  df_cent['label'] = [i for i in range(len(centroids))]\n",
        "  df_pca_data = pd.DataFrame(pca_data)\n",
        "  df_pca_data['label'] = model.predict(pca_data)\n",
        "  df_pca_data_join = df_pca_data.join(df_cent, \n",
        "                                      on='label', \n",
        "                                      how='left', \n",
        "                                      lsuffix='_pca',\n",
        "                                      rsuffix='_cent')\n",
        "  df_pca_1 = df_pca_data_join.loc[:, \"0_pca\":\"label_pca\"]\n",
        "  df_pca_1.drop('label_pca', axis=1, inplace=True)\n",
        "  df_cent_1 = df_pca_data_join.loc[:, \"0_cent\":\"label_cent\"]\n",
        "  df_cent_1.drop('label_cent', axis=1, inplace=True)\n",
        "  list1 = df_pca_1.to_numpy().tolist()\n",
        "  list2 = df_cent_1.to_numpy().tolist()\n",
        "  distances = []\n",
        "  for i in range(len(list1)):\n",
        "    dist = distance.euclidean(list1[i],list2[i])\n",
        "    distances.append(dist)\n",
        "  \n",
        "  return distances"
      ],
      "metadata": {
        "id": "tmuJ9kNxppvN"
      },
      "execution_count": 532,
      "outputs": []
    },
    {
      "cell_type": "markdown",
      "source": [
        "##function to calculate modified_score"
      ],
      "metadata": {
        "id": "U7u-0ZJVpslu"
      }
    },
    {
      "cell_type": "code",
      "source": [
        "def modified_zscore(distance, consistency_correction=1.4826):\n",
        "    \n",
        "    median = np.median(distance)\n",
        "    \n",
        "    deviation_from_med = np.array(distance) - median\n",
        "    \n",
        "    mad = np.mean(np.abs(deviation_from_med))\n",
        "    mod_zscore = deviation_from_med/(consistency_correction*mad)\n",
        "    \n",
        "    return mod_zscore, mad"
      ],
      "metadata": {
        "id": "IdZLllw7p6mQ"
      },
      "execution_count": 533,
      "outputs": []
    },
    {
      "cell_type": "markdown",
      "source": [
        "##function to plot anomalies(z>3)"
      ],
      "metadata": {
        "id": "sxewzBYVp_ip"
      }
    },
    {
      "cell_type": "code",
      "source": [
        "def plot_anomaly(data, threshold):\n",
        "    data = data.copy().sort_values(ascending=False).values\n",
        "    ranks = np.linspace(1, len(data), len(data))\n",
        "    mask_outliers = (data > threshold)\n",
        "    \n",
        "    plt.figure(dpi=100)\n",
        "    plt.plot(ranks[mask_outliers], data[mask_outliers],'o', color='r',label='anomalies')\n",
        "    plt.plot(ranks[~mask_outliers], data[~mask_outliers],'o', color='b', label='normal')\n",
        "    plt.axhline(threshold,color='r',label='threshold', alpha=0.5)\n",
        "    plt.legend(loc = 'upper right')\n",
        "    plt.title('Modified z-score vs. Log Event', fontweight='bold')\n",
        "    plt.xticks(np.arange(0, 21, step=2.0))\n",
        "    plt.xlabel('Event')\n",
        "    plt.ylabel('Modified z-score')\n",
        "    plt.show()"
      ],
      "metadata": {
        "id": "G677KdMkqIs1"
      },
      "execution_count": 534,
      "outputs": []
    },
    {
      "cell_type": "markdown",
      "source": [
        "#Training"
      ],
      "metadata": {
        "id": "6oYrZqHgqhUL"
      }
    },
    {
      "cell_type": "code",
      "source": [
        "log = \"/content/drive/MyDrive/Colab Notebooks/DATASET/auth.log\""
      ],
      "metadata": {
        "id": "xtAowK1grywV"
      },
      "execution_count": 535,
      "outputs": []
    },
    {
      "cell_type": "code",
      "source": [
        "data = authParser(log)"
      ],
      "metadata": {
        "id": "thXptgWEs-v3"
      },
      "execution_count": 536,
      "outputs": []
    },
    {
      "cell_type": "code",
      "source": [
        "df = pd.DataFrame(data)"
      ],
      "metadata": {
        "id": "5ol_GQWRr1z6"
      },
      "execution_count": 537,
      "outputs": []
    },
    {
      "cell_type": "code",
      "source": [
        "df_copy = df.copy()"
      ],
      "metadata": {
        "id": "eef88PVay_kV"
      },
      "execution_count": 538,
      "outputs": []
    },
    {
      "cell_type": "code",
      "source": [
        "df_clean = clean(df,\"event\")"
      ],
      "metadata": {
        "colab": {
          "base_uri": "https://localhost:8080/"
        },
        "id": "ImT_9r8pr3fp",
        "outputId": "aad2d404-63b6-40f2-aebd-8944c5860905"
      },
      "execution_count": 539,
      "outputs": [
        {
          "output_type": "stream",
          "name": "stderr",
          "text": [
            "/usr/local/lib/python3.7/dist-packages/ipykernel_launcher.py:4: FutureWarning: The default value of regex will change from True to False in a future version.\n",
            "  after removing the cwd from sys.path.\n",
            "/usr/local/lib/python3.7/dist-packages/ipykernel_launcher.py:5: FutureWarning: The default value of regex will change from True to False in a future version.\n",
            "  \"\"\"\n"
          ]
        }
      ]
    },
    {
      "cell_type": "code",
      "source": [
        "stopwords = ['pam_unixcronsession' 'by', 'string', 'from', 'bye', 'for', 'port', 'sshd', 'ssh', 'root', 'preauth']"
      ],
      "metadata": {
        "id": "0BxppdfHr5CT"
      },
      "execution_count": 540,
      "outputs": []
    },
    {
      "cell_type": "code",
      "source": [
        "df_clean = remStopWord(df_clean, \"event\", stopwords)"
      ],
      "metadata": {
        "colab": {
          "base_uri": "https://localhost:8080/"
        },
        "id": "PBxrUlKnr8Lk",
        "outputId": "8cdb3941-b44b-4438-c8a2-2bcf9beea777"
      },
      "execution_count": 541,
      "outputs": [
        {
          "output_type": "stream",
          "name": "stderr",
          "text": [
            "[nltk_data] Downloading package stopwords to /root/nltk_data...\n",
            "[nltk_data]   Package stopwords is already up-to-date!\n"
          ]
        }
      ]
    },
    {
      "cell_type": "code",
      "source": [
        "path = '/content/drive/MyDrive/Colab Notebooks/models/'"
      ],
      "metadata": {
        "id": "_3ShwCxB1e7d"
      },
      "execution_count": 542,
      "outputs": []
    },
    {
      "cell_type": "code",
      "source": [
        "vector_op, vectorizer = authVectorizer(df_clean['event'])"
      ],
      "metadata": {
        "colab": {
          "base_uri": "https://localhost:8080/"
        },
        "id": "F3PHBZGNsAZX",
        "outputId": "314fbc7a-013a-4367-aa48-96a0b68f6af5"
      },
      "execution_count": 543,
      "outputs": [
        {
          "output_type": "stream",
          "name": "stderr",
          "text": [
            "/usr/local/lib/python3.7/dist-packages/sklearn/feature_extraction/text.py:517: UserWarning: The parameter 'token_pattern' will not be used since 'tokenizer' is not None'\n",
            "  \"The parameter 'token_pattern' will not be used\"\n"
          ]
        }
      ]
    },
    {
      "cell_type": "code",
      "source": [
        "pickle.dump(vectorizer, open(path + 'auth_vectorizer.sav', 'wb'))"
      ],
      "metadata": {
        "id": "SFjnNqGsRX3R"
      },
      "execution_count": 544,
      "outputs": []
    },
    {
      "cell_type": "code",
      "source": [
        "pca_data, pca = pca(vector_op.todense())"
      ],
      "metadata": {
        "colab": {
          "base_uri": "https://localhost:8080/"
        },
        "id": "qEm0I89JsB11",
        "outputId": "f94e36f2-7bf4-4c09-bae3-cd0c99b839bf"
      },
      "execution_count": 545,
      "outputs": [
        {
          "output_type": "stream",
          "name": "stderr",
          "text": [
            "/usr/local/lib/python3.7/dist-packages/sklearn/utils/validation.py:598: FutureWarning: np.matrix usage is deprecated in 1.0 and will raise a TypeError in 1.2. Please convert to a numpy array with np.asarray. For more information see: https://numpy.org/doc/stable/reference/generated/numpy.matrix.html\n",
            "  FutureWarning,\n",
            "/usr/local/lib/python3.7/dist-packages/sklearn/utils/validation.py:598: FutureWarning: np.matrix usage is deprecated in 1.0 and will raise a TypeError in 1.2. Please convert to a numpy array with np.asarray. For more information see: https://numpy.org/doc/stable/reference/generated/numpy.matrix.html\n",
            "  FutureWarning,\n"
          ]
        }
      ]
    },
    {
      "cell_type": "code",
      "source": [
        "pickle.dump(pca, open(path + 'auth_pca.sav', 'wb'))"
      ],
      "metadata": {
        "id": "aG8JoBN7QKnm"
      },
      "execution_count": 546,
      "outputs": []
    },
    {
      "cell_type": "code",
      "source": [
        "model_data, model = train(pca_data)"
      ],
      "metadata": {
        "id": "8eo1RtFV1Uav"
      },
      "execution_count": 547,
      "outputs": []
    },
    {
      "cell_type": "code",
      "source": [
        "pickle.dump(model, open(path + 'auth_model.sav', 'wb'))"
      ],
      "metadata": {
        "id": "WcbeOjeM28mO"
      },
      "execution_count": 548,
      "outputs": []
    },
    {
      "cell_type": "code",
      "source": [
        "distance = fromCentDistance(pca_data, model)"
      ],
      "metadata": {
        "id": "bvrJ4HDEsFJf"
      },
      "execution_count": 549,
      "outputs": []
    },
    {
      "cell_type": "code",
      "source": [
        "df_copy['distance'] = distance"
      ],
      "metadata": {
        "id": "KIPjMVUusGfE"
      },
      "execution_count": 550,
      "outputs": []
    },
    {
      "cell_type": "code",
      "source": [
        "mod_zscore, mad = modified_zscore(df_copy['distance'])"
      ],
      "metadata": {
        "id": "ybEZdvyIsIOw"
      },
      "execution_count": 551,
      "outputs": []
    },
    {
      "cell_type": "code",
      "source": [
        "df_copy['mod_zscore'] = mod_zscore.tolist()"
      ],
      "metadata": {
        "id": "FZuX2EjWqkrF"
      },
      "execution_count": 552,
      "outputs": []
    },
    {
      "cell_type": "markdown",
      "source": [
        "#Output"
      ],
      "metadata": {
        "id": "BSgxCwu7rAIj"
      }
    },
    {
      "cell_type": "code",
      "source": [
        "plot_anomaly(df_copy['mod_zscore'],3)"
      ],
      "metadata": {
        "colab": {
          "base_uri": "https://localhost:8080/",
          "height": 404
        },
        "id": "VryDWt2GrDbe",
        "outputId": "07600b18-20d6-4370-8559-e6a1c76c5b2a"
      },
      "execution_count": 553,
      "outputs": [
        {
          "output_type": "display_data",
          "data": {
            "text/plain": [
              "<Figure size 600x400 with 1 Axes>"
            ],
            "image/png": "[encoded data removed]"
          },
          "metadata": {
            "needs_background": "light"
          }
        }
      ]
    },
    {
      "cell_type": "code",
      "source": [
        "df.loc[df_copy.mod_zscore>3].event.unique()"
      ],
      "metadata": {
        "colab": {
          "base_uri": "https://localhost:8080/"
        },
        "id": "PZIr2OCNrFpY",
        "outputId": "3f690b7e-14ed-4b84-d8ee-e42d0fcb6d53"
      },
      "execution_count": 554,
      "outputs": [
        {
          "output_type": "execute_result",
          "data": {
            "text/plain": [
              "array(['pam_unixcronsession session closed',\n",
              "       'pam_unixcronsession session opened', 'connection closed',\n",
              "       'receive identification',\n",
              "       'warning cant get client address connection reset peer',\n",
              "       'could write ident unknown', 'could write ident',\n",
              "       'received disconnect comjcraftjschjschexception auth fail',\n",
              "       'fatal write failed connection reset peer',\n",
              "       'address maps hostedbyleasewebcom map back address possible breakin attempt',\n",
              "       'bad protocol version identification',\n",
              "       'address maps stlinesiscom map back address possible breakin attempt',\n",
              "       'bad protocol version identification get http',\n",
              "       'address maps bnbr map back address possible breakin attempt',\n",
              "       'address maps reversecompletelnet map back address possible breakin attempt',\n",
              "       'corrupted mac input',\n",
              "       'address maps peditasailorprocom map back address possible breakin attempt',\n",
              "       'address maps servertrafficjockeycom map back address possible breakin attempt',\n",
              "       'address maps hostedbyhostbasketcom map back address possible breakin attempt',\n",
              "       'address maps cplhkcom map back address possible breakin attempt',\n",
              "       'address maps wwwtradingshedcouk map back address possible breakin attempt',\n",
              "       'address maps maistaffserviceru map back address possible breakin attempt',\n",
              "       'address maps tatilimtatilimcom map back address possible breakin attempt',\n",
              "       'address maps adslpoolsxcn map back address possible breakin attempt',\n",
              "       'address maps pleskwsmakproductionsnet map back address possible breakin attempt',\n",
              "       'address maps nskmkeymachinede map back address possible breakin attempt',\n",
              "       'address maps mailsolutionnetnet map back address possible breakin attempt',\n",
              "       'address maps yugoocomar map back address possible breakin attempt',\n",
              "       'address maps hostboegenetcom map back address possible breakin attempt',\n",
              "       'address maps noptrasnet map back address possible breakin attempt',\n",
              "       'address maps mailcevherhostcom map back address possible breakin attempt',\n",
              "       'address maps britishbladescom map back address possible breakin attempt',\n",
              "       'address maps blazestudiosca map back address possible breakin attempt',\n",
              "       'address maps nsikserverde map back address possible breakin attempt',\n",
              "       'address maps tfkabelcomua map back address possible breakin attempt',\n",
              "       'address maps orionbellwoodru map back address possible breakin attempt',\n",
              "       'address maps mathshubcomsg map back address possible breakin attempt',\n",
              "       'address maps hostallmedialimitedcom map back address possible breakin attempt',\n",
              "       'address maps wwwnordicwebde map back address possible breakin attempt',\n",
              "       'address maps mailstarmediaonlinede map back address possible breakin attempt',\n",
              "       'address maps serverproducerloopscom map back address possible breakin attempt',\n",
              "       'address maps staticvdcvn map back address possible breakin attempt',\n",
              "       'address maps wwwmedienhausde map back address possible breakin attempt',\n",
              "       'address maps wwwecutde map back address possible breakin attempt',\n",
              "       'address maps vpsmenholdnl map back address possible breakin attempt',\n",
              "       'address maps cocospacecom map back address possible breakin attempt',\n",
              "       'address maps structuredsettlementquotescom map back address possible breakin attempt',\n",
              "       'address maps aosorahanecom map back address possible breakin attempt',\n",
              "       'address maps hsdedicatedhostaliacom map back address possible breakin attempt',\n",
              "       'address maps parmoca map back address possible breakin attempt',\n",
              "       'address maps wwwleclairagecom map back address possible breakin attempt',\n",
              "       'address maps yingmediavizzhostcom map back address possible breakin attempt',\n",
              "       'address maps serverwebstarsgmbhde map back address possible breakin attempt',\n",
              "       'address maps jarjarinsideservercom map back address possible breakin attempt',\n",
              "       'address maps mailbolcotz map back address possible breakin attempt',\n",
              "       'address maps itcommonjp map back address possible breakin attempt',\n",
              "       'address maps nsaemolcom map back address possible breakin attempt',\n",
              "       'address maps emailhostingcom map back address possible breakin attempt',\n",
              "       'address maps usagetdatacom map back address possible breakin attempt',\n",
              "       'address maps blackrockgrillcom map back address possible breakin attempt',\n",
              "       'address maps mailalgeoscom map back address possible breakin attempt',\n",
              "       'address maps dedichidehostnet map back address possible breakin attempt',\n",
              "       'address maps aldanitinet map back address possible breakin attempt',\n",
              "       'address maps eelabnjupteducn map back address possible breakin attempt',\n",
              "       'address maps rackcentreredstationnetuk map back address possible breakin attempt',\n",
              "       'address maps customerkryptcom map back address possible breakin attempt',\n",
              "       'address maps vandasworldcom map back address possible breakin attempt',\n",
              "       'address maps nagareboshijp map back address possible breakin attempt',\n",
              "       'address maps wwwasiahostservicecom map back address possible breakin attempt',\n",
              "       'address maps rdnsmelbournecouk map back address possible breakin attempt',\n",
              "       'address maps hostcolocrossingcom map back address possible breakin attempt',\n",
              "       'address maps staticsnfrncchartercom map back address possible breakin attempt',\n",
              "       'received disconnect javanetsockettimeoutexception read timed',\n",
              "       'address maps nodnsyetsleeknet map back address possible breakin attempt',\n",
              "       'address maps ippabxschoolmanagementsystemnet map back address possible breakin attempt',\n",
              "       'received disconnect supported authentication methods available',\n",
              "       'address maps vimpactcom map back address possible breakin attempt',\n",
              "       'address maps dnstntsupportnet map back address possible breakin attempt',\n",
              "       'address maps smtpglobalewcom map back address possible breakin attempt',\n",
              "       'address maps staticedisat map back address possible breakin attempt',\n",
              "       'address maps webserverservonetsncnet map back address possible breakin attempt',\n",
              "       'address maps maildigimarknet map back address possible breakin attempt',\n",
              "       'address maps errorcdnzzcomcdnzznet map back address possible breakin attempt',\n",
              "       'address maps wwwwendenburgde map back address possible breakin attempt',\n",
              "       'received disconnect ok',\n",
              "       'address maps mailthenetmillionairesclubcom map back address possible breakin attempt',\n",
              "       'address maps vpnuserpyatigorskpotokkmvru map back address possible breakin attempt'],\n",
              "      dtype=object)"
            ]
          },
          "metadata": {},
          "execution_count": 554
        }
      ]
    },
    {
      "cell_type": "code",
      "source": [
        "df_copy.loc[df_copy.mod_zscore>3].event.unique()"
      ],
      "metadata": {
        "colab": {
          "base_uri": "https://localhost:8080/"
        },
        "id": "6__2Un6cx96b",
        "outputId": "f8127045-9d2f-4ec2-de7c-438021f18ed9"
      },
      "execution_count": 555,
      "outputs": [
        {
          "output_type": "execute_result",
          "data": {
            "text/plain": [
              "array([' pam_unix(cron:session): session closed for user root\\n',\n",
              "       ' pam_unix(cron:session): session opened for user root by (uid=0)\\n',\n",
              "       ' Connection closed by 122.225.103.87 [preauth]\\n',\n",
              "       ' Did not receive identification string from 187.12.249.74\\n',\n",
              "       ' Did not receive identification string from 196.200.90.236\\n',\n",
              "       ' Did not receive identification string from 1.93.26.70\\n',\n",
              "       ' Did not receive identification string from 122.225.109.208\\n',\n",
              "       ' Connection closed by 122.225.109.208 [preauth]\\n',\n",
              "       ' Connection closed by 122.225.109.123 [preauth]\\n',\n",
              "       ' Connection closed by 218.2.0.129 [preauth]\\n',\n",
              "       ' Connection closed by 218.2.0.121 [preauth]\\n',\n",
              "       ' Did not receive identification string from 218.75.153.170\\n',\n",
              "       \" warning: can't get client address: Connection reset by peer\\n\",\n",
              "       ' Could not write ident string to UNKNOWN\\n',\n",
              "       ' Could not write ident string to 218.75.153.170\\n',\n",
              "       ' Did not receive identification string from 124.95.165.186\\n',\n",
              "       ' Did not receive identification string from 41.191.240.6\\n',\n",
              "       ' Connection closed by 218.21.227.251 [preauth]\\n',\n",
              "       ' Connection closed by 101.64.236.230 [preauth]\\n',\n",
              "       ' Connection closed by 122.225.103.89 [preauth]\\n',\n",
              "       ' Connection closed by 101.64.236.201 [preauth]\\n',\n",
              "       ' Connection closed by 101.64.236.194 [preauth]\\n',\n",
              "       ' Connection closed by 101.64.236.146 [preauth]\\n',\n",
              "       ' Connection closed by 122.225.109.196 [preauth]\\n',\n",
              "       ' Connection closed by 117.27.158.78 [preauth]\\n',\n",
              "       ' Connection closed by 61.174.50.227 [preauth]\\n',\n",
              "       ' Did not receive identification string from 222.186.21.42\\n',\n",
              "       ' Connection closed by 222.186.21.42 [preauth]\\n',\n",
              "       ' Did not receive identification string from 176.38.95.52\\n',\n",
              "       ' Received disconnect from 189.203.240.24: 3: com.jcraft.jsch.JSchException: Auth fail [preauth]\\n',\n",
              "       ' Connection closed by 183.82.1.229 [preauth]\\n',\n",
              "       ' Connection closed by 122.225.109.214 [preauth]\\n',\n",
              "       ' Connection closed by 122.225.109.104 [preauth]\\n',\n",
              "       ' Connection closed by 54.235.213.78 [preauth]\\n',\n",
              "       ' Connection closed by 122.225.109.212 [preauth]\\n',\n",
              "       ' Connection closed by 113.105.152.15 [preauth]\\n',\n",
              "       ' Connection closed by 122.225.109.108 [preauth]\\n',\n",
              "       ' Connection closed by 122.225.109.114 [preauth]\\n',\n",
              "       ' Connection closed by 61.174.51.228 [preauth]\\n',\n",
              "       ' Connection closed by 61.174.51.231 [preauth]\\n',\n",
              "       ' fatal: Write failed: Connection reset by peer [preauth]\\n',\n",
              "       ' Connection closed by 122.225.109.194 [preauth]\\n',\n",
              "       ' Connection closed by 118.123.240.144 [preauth]\\n',\n",
              "       ' Connection closed by 117.41.187.201 [preauth]\\n',\n",
              "       ' Connection closed by 61.174.51.204 [preauth]\\n',\n",
              "       ' Connection closed by 61.174.50.235 [preauth]\\n',\n",
              "       ' Connection closed by 122.225.103.68 [preauth]\\n',\n",
              "       ' Connection closed by 122.225.109.118 [preauth]\\n',\n",
              "       ' Did not receive identification string from 1.93.29.147\\n',\n",
              "       ' Did not receive identification string from 125.161.19.132\\n',\n",
              "       ' Address 46.165.249.96 maps to hosted-by.leaseweb.com, but this does not map back to the address - POSSIBLE BREAK-IN ATTEMPT!\\n',\n",
              "       ' Connection closed by 61.174.50.245 [preauth]\\n',\n",
              "       ' Connection closed by 104.194.11.67 [preauth]\\n',\n",
              "       \" Bad protocol version identification ' ' from 114.113.55.198\\n\",\n",
              "       ' Connection closed by 61.174.51.200 [preauth]\\n',\n",
              "       ' Connection closed by 61.174.50.251 [preauth]\\n',\n",
              "       ' Connection closed by 174.143.240.204 [preauth]\\n',\n",
              "       ' Connection closed by 61.174.50.151 [preauth]\\n',\n",
              "       ' Connection closed by 123.127.36.162 [preauth]\\n',\n",
              "       ' Connection closed by 122.225.103.78 [preauth]\\n',\n",
              "       ' Connection closed by 123.231.54.171 [preauth]\\n',\n",
              "       ' Connection closed by 122.225.109.202 [preauth]\\n',\n",
              "       ' Connection closed by 79.29.214.186 [preauth]\\n',\n",
              "       ' Address 89.107.231.7 maps to st.linesis.com, but this does not map back to the address - POSSIBLE BREAK-IN ATTEMPT!\\n',\n",
              "       ' Did not receive identification string from 164.40.153.130\\n',\n",
              "       ' Did not receive identification string from 222.186.21.196\\n',\n",
              "       ' Connection closed by 61.16.155.35 [preauth]\\n',\n",
              "       ' Connection closed by 61.174.51.213 [preauth]\\n',\n",
              "       ' Connection closed by 61.174.50.229 [preauth]\\n',\n",
              "       ' Connection closed by 61.174.51.225 [preauth]\\n',\n",
              "       ' Did not receive identification string from 104.152.188.76\\n',\n",
              "       ' Connection closed by 125.75.128.136 [preauth]\\n',\n",
              "       ' Connection closed by 61.174.50.136 [preauth]\\n',\n",
              "       ' Connection closed by 61.174.51.221 [preauth]\\n',\n",
              "       ' Connection closed by 61.174.51.226 [preauth]\\n',\n",
              "       ' Connection closed by 122.225.103.124 [preauth]\\n',\n",
              "       ' Did not receive identification string from 222.186.58.70\\n',\n",
              "       ' Connection closed by 122.225.103.94 [preauth]\\n',\n",
              "       ' Connection closed by 218.2.0.133 [preauth]\\n',\n",
              "       ' Connection closed by 61.174.51.224 [preauth]\\n',\n",
              "       ' Connection closed by 112.101.64.87 [preauth]\\n',\n",
              "       ' Connection closed by 61.174.51.233 [preauth]\\n',\n",
              "       ' Connection closed by 61.174.50.152 [preauth]\\n',\n",
              "       ' Did not receive identification string from 60.214.139.108\\n',\n",
              "       ' Connection closed by 122.225.103.122 [preauth]\\n',\n",
              "       ' Connection closed by 61.174.51.216 [preauth]\\n',\n",
              "       \" Bad protocol version identification 'GET / HTTP/1.0' from 171.13.14.45\\n\",\n",
              "       \" Bad protocol version identification 'GET / HTTP/1.0' from 171.13.14.36\\n\",\n",
              "       ' Address 186.215.212.158 maps to bn.br, but this does not map back to the address - POSSIBLE BREAK-IN ATTEMPT!\\n',\n",
              "       ' Connection closed by 117.41.183.245 [preauth]\\n',\n",
              "       \" Bad protocol version identification 'GET / HTTP/1.0' from 171.13.14.44\\n\",\n",
              "       \" Bad protocol version identification 'GET / HTTP/1.0' from 171.13.14.52\\n\",\n",
              "       ' Connection closed by 222.186.34.69 [preauth]\\n',\n",
              "       ' Connection closed by 115.238.55.163 [preauth]\\n',\n",
              "       ' Connection closed by 61.157.200.222 [preauth]\\n',\n",
              "       ' Connection closed by 122.225.103.69 [preauth]\\n',\n",
              "       ' Did not receive identification string from 61.174.51.206\\n',\n",
              "       ' Connection closed by 61.174.51.206 [preauth]\\n',\n",
              "       ' Connection closed by 60.172.228.40 [preauth]\\n',\n",
              "       ' Did not receive identification string from 115.254.52.179\\n',\n",
              "       ' Connection closed by 122.225.109.218 [preauth]\\n',\n",
              "       ' Connection closed by 117.27.158.88 [preauth]\\n',\n",
              "       ' Connection closed by 122.225.109.121 [preauth]\\n',\n",
              "       ' Connection closed by 122.225.109.101 [preauth]\\n',\n",
              "       ' Connection closed by 218.2.0.125 [preauth]\\n',\n",
              "       ' Connection closed by 122.225.109.107 [preauth]\\n',\n",
              "       ' Connection closed by 122.225.109.100 [preauth]\\n',\n",
              "       ' Connection closed by 218.2.0.137 [preauth]\\n',\n",
              "       ' Address 212.99.93.252 maps to reverse.completel.net, but this does not map back to the address - POSSIBLE BREAK-IN ATTEMPT!\\n',\n",
              "       ' Connection closed by 122.225.109.203 [preauth]\\n',\n",
              "       ' Did not receive identification string from 61.160.223.69\\n',\n",
              "       ' Connection closed by 122.225.109.204 [preauth]\\n',\n",
              "       ' Connection closed by 31.184.194.114 [preauth]\\n',\n",
              "       ' Connection closed by 218.2.0.135 [preauth]\\n',\n",
              "       ' Did not receive identification string from 218.6.132.45\\n',\n",
              "       ' Connection closed by 122.225.109.122 [preauth]\\n',\n",
              "       ' Connection closed by 122.225.103.121 [preauth]\\n',\n",
              "       \" Bad protocol version identification 'GET / HTTP/1.0' from 180.153.196.154\\n\",\n",
              "       ' Corrupted MAC on input. [preauth]\\n',\n",
              "       ' Connection closed by 117.97.209.87 [preauth]\\n',\n",
              "       ' Connection closed by 58.83.148.48 [preauth]\\n',\n",
              "       ' Connection closed by 122.225.103.125 [preauth]\\n',\n",
              "       ' Connection closed by 61.174.50.165 [preauth]\\n',\n",
              "       ' Connection closed by 37.204.11.5 [preauth]\\n',\n",
              "       ' Connection closed by 37.204.180.52 [preauth]\\n',\n",
              "       ' Connection closed by 188.32.209.218 [preauth]\\n',\n",
              "       ' Connection closed by 188.255.50.231 [preauth]\\n',\n",
              "       ' Connection closed by 37.110.43.104 [preauth]\\n',\n",
              "       ' Connection closed by 81.162.96.105 [preauth]\\n',\n",
              "       ' Connection closed by 173.93.139.138 [preauth]\\n',\n",
              "       ' Connection closed by 188.32.2.27 [preauth]\\n',\n",
              "       ' Connection closed by 184.184.48.121 [preauth]\\n',\n",
              "       ' Connection closed by 75.110.184.2 [preauth]\\n',\n",
              "       ' Connection closed by 37.204.244.161 [preauth]\\n',\n",
              "       ' Connection closed by 68.184.179.65 [preauth]\\n',\n",
              "       ' Connection closed by 166.62.222.171 [preauth]\\n',\n",
              "       ' Connection closed by 31.162.178.167 [preauth]\\n',\n",
              "       ' Connection closed by 92.127.229.59 [preauth]\\n',\n",
              "       ' Connection closed by 2.60.89.208 [preauth]\\n',\n",
              "       ' Connection closed by 5.228.58.28 [preauth]\\n',\n",
              "       ' Connection closed by 166.142.92.240 [preauth]\\n',\n",
              "       ' Connection closed by 95.84.134.18 [preauth]\\n',\n",
              "       ' Connection closed by 76.8.107.67 [preauth]\\n',\n",
              "       ' Connection closed by 40.130.47.22 [preauth]\\n',\n",
              "       ' Connection closed by 23.29.193.207 [preauth]\\n',\n",
              "       ' Connection closed by 83.234.111.24 [preauth]\\n',\n",
              "       ' Connection closed by 178.140.64.165 [preauth]\\n',\n",
              "       ' Connection closed by 92.54.126.170 [preauth]\\n',\n",
              "       ' Connection closed by 208.185.189.104 [preauth]\\n',\n",
              "       ' Connection closed by 94.51.144.116 [preauth]\\n',\n",
              "       ' Connection closed by 122.225.109.222 [preauth]\\n',\n",
              "       ' Connection closed by 187.12.246.6 [preauth]\\n',\n",
              "       ' Connection closed by 61.174.50.161 [preauth]\\n',\n",
              "       ' Connection closed by 122.225.109.103 [preauth]\\n',\n",
              "       ' Connection closed by 61.174.51.215 [preauth]\\n',\n",
              "       ' Connection closed by 122.225.109.98 [preauth]\\n',\n",
              "       ' Connection closed by 61.174.51.235 [preauth]\\n',\n",
              "       \" Bad protocol version identification 'GET / HTTP/1.0' from 180.153.195.61\\n\",\n",
              "       ' Connection closed by 122.225.103.95 [preauth]\\n',\n",
              "       ' Connection closed by 61.174.50.163 [preauth]\\n',\n",
              "       ' Connection closed by 61.174.51.227 [preauth]\\n',\n",
              "       ' Connection closed by 41.73.210.10 [preauth]\\n',\n",
              "       ' Did not receive identification string from 177.54.144.57\\n',\n",
              "       ' Did not receive identification string from 68.64.163.162\\n',\n",
              "       ' Connection closed by 61.174.50.216 [preauth]\\n',\n",
              "       ' Connection closed by 218.2.0.120 [preauth]\\n',\n",
              "       ' Connection closed by 58.83.146.252 [preauth]\\n',\n",
              "       ' Connection closed by 122.225.103.97 [preauth]\\n',\n",
              "       ' Connection closed by 61.174.50.164 [preauth]\\n',\n",
              "       ' Connection closed by 122.225.109.116 [preauth]\\n',\n",
              "       ' Connection closed by 118.69.232.139 [preauth]\\n',\n",
              "       ' Connection closed by 122.225.109.215 [preauth]\\n',\n",
              "       ' Address 67.23.47.56 maps to pedita.sailorpro.com, but this does not map back to the address - POSSIBLE BREAK-IN ATTEMPT!\\n',\n",
              "       ' Address 91.102.69.192 maps to server.trafficjockey.com, but this does not map back to the address - POSSIBLE BREAK-IN ATTEMPT!\\n',\n",
              "       ' Address 195.130.154.40 maps to hosted.by.hostbasket.com, but this does not map back to the address - POSSIBLE BREAK-IN ATTEMPT!\\n',\n",
              "       ' Connection closed by 222.87.19.131 [preauth]\\n',\n",
              "       ' Did not receive identification string from 218.9.183.70\\n',\n",
              "       ' Address 58.64.153.105 maps to 105.cplhk.com, but this does not map back to the address - POSSIBLE BREAK-IN ATTEMPT!\\n',\n",
              "       ' Connection closed by 80.152.247.112 [preauth]\\n',\n",
              "       ' Connection closed by 120.193.193.151 [preauth]\\n',\n",
              "       ' Address 91.215.181.179 maps to www.tradingshed.co.uk, but this does not map back to the address - POSSIBLE BREAK-IN ATTEMPT!\\n',\n",
              "       ' Connection closed by 115.28.166.35 [preauth]\\n',\n",
              "       ' Connection closed by 124.172.239.108 [preauth]\\n',\n",
              "       ' Address 178.236.246.135 maps to mai.staff-service.ru, but this does not map back to the address - POSSIBLE BREAK-IN ATTEMPT!\\n',\n",
              "       ' Did not receive identification string from 58.215.185.8\\n',\n",
              "       ' Address 62.212.91.17 maps to hosted-by.leaseweb.com, but this does not map back to the address - POSSIBLE BREAK-IN ATTEMPT!\\n',\n",
              "       ' Connection closed by 202.107.251.161 [preauth]\\n',\n",
              "       ' Address 93.89.237.114 maps to tatilimtatilim.com, but this does not map back to the address - POSSIBLE BREAK-IN ATTEMPT!\\n',\n",
              "       ' Did not receive identification string from 80.19.86.210\\n',\n",
              "       ' Connection closed by 82.161.42.194 [preauth]\\n',\n",
              "       ' Connection closed by 61.143.236.193 [preauth]\\n',\n",
              "       ' Connection closed by 122.225.97.75 [preauth]\\n',\n",
              "       ' Connection closed by 122.225.109.206 [preauth]\\n',\n",
              "       ' Connection closed by 83.12.190.98 [preauth]\\n',\n",
              "       ' Address 221.204.214.87 maps to 87.214.204.221.adsl-pool.sx.cn, but this does not map back to the address - POSSIBLE BREAK-IN ATTEMPT!\\n',\n",
              "       ' Address 78.31.48.128 maps to pleskws02.makproductions.net, but this does not map back to the address - POSSIBLE BREAK-IN ATTEMPT!\\n',\n",
              "       ' Connection closed by 61.174.50.244 [preauth]\\n',\n",
              "       ' Address 84.19.188.26 maps to ns.km21046-03.keymachine.de, but this does not map back to the address - POSSIBLE BREAK-IN ATTEMPT!\\n',\n",
              "       ' Connection closed by 76.30.242.202 [preauth]\\n',\n",
              "       ' Connection closed by 122.225.97.97 [preauth]\\n',\n",
              "       ' Address 85.17.126.213 maps to hosted-by.leaseweb.com, but this does not map back to the address - POSSIBLE BREAK-IN ATTEMPT!\\n',\n",
              "       ' Connection closed by 61.174.51.212 [preauth]\\n',\n",
              "       ' Connection closed by 61.174.50.178 [preauth]\\n',\n",
              "       ' Address 61.16.175.230 maps to mail.solutionnet.net, but this does not map back to the address - POSSIBLE BREAK-IN ATTEMPT!\\n',\n",
              "       ' Address 216.75.55.161 maps to yugoo.com.ar, but this does not map back to the address - POSSIBLE BREAK-IN ATTEMPT!\\n',\n",
              "       ' Connection closed by 87.106.132.188 [preauth]\\n',\n",
              "       ' Address 87.230.22.69 maps to host.boegenet.com, but this does not map back to the address - POSSIBLE BREAK-IN ATTEMPT!\\n',\n",
              "       ' Connection closed by 82.165.151.97 [preauth]\\n',\n",
              "       ' Address 84.22.181.27 maps to no-ptr.as20860.net, but this does not map back to the address - POSSIBLE BREAK-IN ATTEMPT!\\n',\n",
              "       ' Connection closed by 87.106.184.86 [preauth]\\n',\n",
              "       ' Did not receive identification string from 87.206.70.22\\n',\n",
              "       ' Connection closed by 87.106.167.161 [preauth]\\n',\n",
              "       ' Connection closed by 82.165.197.250 [preauth]\\n',\n",
              "       ' Connection closed by 210.167.160.37 [preauth]\\n',\n",
              "       ' Connection closed by 122.225.109.209 [preauth]\\n',\n",
              "       ' Connection closed by 219.103.211.133 [preauth]\\n',\n",
              "       ' Connection closed by 211.72.198.126 [preauth]\\n',\n",
              "       ' Address 92.42.38.237 maps to mail.cevherhost.com, but this does not map back to the address - POSSIBLE BREAK-IN ATTEMPT!\\n',\n",
              "       ' Did not receive identification string from 209.126.230.71\\n',\n",
              "       ' Connection closed by 83.150.90.231 [preauth]\\n',\n",
              "       ' Connection closed by 87.118.114.177 [preauth]\\n',\n",
              "       ' Connection closed by 122.225.97.90 [preauth]\\n',\n",
              "       ' Address 91.215.180.177 maps to britishblades.com, but this does not map back to the address - POSSIBLE BREAK-IN ATTEMPT!\\n',\n",
              "       ' Connection closed by 211.121.132.64 [preauth]\\n',\n",
              "       ' Address 174.142.75.150 maps to blazestudios.ca, but this does not map back to the address - POSSIBLE BREAK-IN ATTEMPT!\\n',\n",
              "       ' Connection closed by 124.74.77.178 [preauth]\\n',\n",
              "       ' Connection closed by 82.190.174.8 [preauth]\\n',\n",
              "       ' Address 213.240.172.219 maps to ns.ikserver.de, but this does not map back to the address - POSSIBLE BREAK-IN ATTEMPT!\\n',\n",
              "       ' Connection closed by 122.225.97.72 [preauth]\\n',\n",
              "       ' Address 82.207.98.112 maps to tfkabel.com.ua, but this does not map back to the address - POSSIBLE BREAK-IN ATTEMPT!\\n',\n",
              "       ' Connection closed by 61.172.255.88 [preauth]\\n',\n",
              "       ' Address 62.105.140.82 maps to orion.bellwood.ru, but this does not map back to the address - POSSIBLE BREAK-IN ATTEMPT!\\n',\n",
              "       ' Address 180.210.207.171 maps to mathshub.com.sg, but this does not map back to the address - POSSIBLE BREAK-IN ATTEMPT!\\n',\n",
              "       ' Connection closed by 122.225.97.92 [preauth]\\n',\n",
              "       ' Address 109.228.4.202 maps to host.allmedialimited.com, but this does not map back to the address - POSSIBLE BREAK-IN ATTEMPT!\\n',\n",
              "       ' Connection closed by 203.128.243.10 [preauth]\\n',\n",
              "       ' Connection closed by 222.186.197.76 [preauth]\\n',\n",
              "       ' Address 178.250.168.136 maps to www1.nordicweb.de, but this does not map back to the address - POSSIBLE BREAK-IN ATTEMPT!\\n',\n",
              "       ' Connection closed by 83.103.67.197 [preauth]\\n',\n",
              "       ' Connection closed by 217.7.226.76 [preauth]\\n',\n",
              "       ' Address 62.141.58.254 maps to mail.starmedia-online.de, but this does not map back to the address - POSSIBLE BREAK-IN ATTEMPT!\\n',\n",
              "       ' Did not receive identification string from 122.225.103.78\\n',\n",
              "       ' Connection closed by 221.231.143.4 [preauth]\\n',\n",
              "       ' Address 92.48.124.24 maps to server.producerloops.com, but this does not map back to the address - POSSIBLE BREAK-IN ATTEMPT!\\n',\n",
              "       ' Connection closed by 218.77.119.98 [preauth]\\n',\n",
              "       ' Connection closed by 61.176.195.209 [preauth]\\n',\n",
              "       ' Connection closed by 60.52.206.242 [preauth]\\n',\n",
              "       ' Address 222.255.236.49 maps to static.vdc.vn, but this does not map back to the address - POSSIBLE BREAK-IN ATTEMPT!\\n',\n",
              "       ' Connection closed by 122.225.97.82 [preauth]\\n',\n",
              "       ' Connection closed by 27.254.67.139 [preauth]\\n',\n",
              "       ' Address 62.233.80.139 maps to no-ptr.as20860.net, but this does not map back to the address - POSSIBLE BREAK-IN ATTEMPT!\\n',\n",
              "       ' Connection closed by 222.184.126.58 [preauth]\\n',\n",
              "       ' Connection closed by 58.64.191.134 [preauth]\\n',\n",
              "       ' Address 92.51.133.139 maps to www.medienhaus-1702.de, but this does not map back to the address - POSSIBLE BREAK-IN ATTEMPT!\\n',\n",
              "       ' Address 87.230.22.39 maps to www.e-cut.de, but this does not map back to the address - POSSIBLE BREAK-IN ATTEMPT!\\n',\n",
              "       ' Address 91.215.180.222 maps to britishblades.com, but this does not map back to the address - POSSIBLE BREAK-IN ATTEMPT!\\n',\n",
              "       ' Address 91.184.3.252 maps to vps1628.menhold.nl, but this does not map back to the address - POSSIBLE BREAK-IN ATTEMPT!\\n',\n",
              "       ' Address 202.215.160.75 maps to cocospace.com, but this does not map back to the address - POSSIBLE BREAK-IN ATTEMPT!\\n',\n",
              "       ' Connection closed by 61.174.50.195 [preauth]\\n',\n",
              "       ' Connection closed by 31.210.65.226 [preauth]\\n',\n",
              "       ' Connection closed by 61.174.51.198 [preauth]\\n',\n",
              "       ' Address 76.12.222.191 maps to structuredsettlement-quotes.com, but this does not map back to the address - POSSIBLE BREAK-IN ATTEMPT!\\n',\n",
              "       ' Address 76.74.254.246 maps to aosorahane.com, but this does not map back to the address - POSSIBLE BREAK-IN ATTEMPT!\\n',\n",
              "       ' Connection closed by 119.61.7.43 [preauth]\\n',\n",
              "       ' Address 82.194.87.176 maps to hs-1000.dedicated.hostalia.com, but this does not map back to the address - POSSIBLE BREAK-IN ATTEMPT!\\n',\n",
              "       ' Address 209.172.57.249 maps to parmo.ca, but this does not map back to the address - POSSIBLE BREAK-IN ATTEMPT!\\n',\n",
              "       ' Address 209.54.51.198 maps to www.leclairage.com, but this does not map back to the address - POSSIBLE BREAK-IN ATTEMPT!\\n',\n",
              "       ' Address 202.67.211.124 maps to yingmedia.vizzhost.com, but this does not map back to the address - POSSIBLE BREAK-IN ATTEMPT!\\n',\n",
              "       ' Did not receive identification string from 42.62.29.55\\n',\n",
              "       ' Connection closed by 122.225.109.125 [preauth]\\n',\n",
              "       ' Address 87.230.58.21 maps to server.webstars-gmbh.de, but this does not map back to the address - POSSIBLE BREAK-IN ATTEMPT!\\n',\n",
              "       ' Did not receive identification string from 31.41.42.110\\n',\n",
              "       ' Connection closed by 219.247.79.236 [preauth]\\n',\n",
              "       ' Address 85.94.76.39 maps to jar-jar.inside-server.com, but this does not map back to the address - POSSIBLE BREAK-IN ATTEMPT!\\n',\n",
              "       ' Address 196.1.52.2 maps to mail.bol.co.tz, but this does not map back to the address - POSSIBLE BREAK-IN ATTEMPT!\\n',\n",
              "       ' Address 61.58.35.55 maps to it-common.jp, but this does not map back to the address - POSSIBLE BREAK-IN ATTEMPT!\\n',\n",
              "       ' Connection closed by 80.14.252.169 [preauth]\\n',\n",
              "       ' Did not receive identification string from 211.121.161.187\\n',\n",
              "       ' Connection closed by 61.174.51.199 [preauth]\\n',\n",
              "       ' Address 87.106.235.236 maps to ns5.aemol.com, but this does not map back to the address - POSSIBLE BREAK-IN ATTEMPT!\\n',\n",
              "       ' Did not receive identification string from 61.174.51.212\\n',\n",
              "       ' Address 67.228.78.186 maps to emailhosting.com, but this does not map back to the address - POSSIBLE BREAK-IN ATTEMPT!\\n',\n",
              "       ' Connection closed by 93.83.1.162 [preauth]\\n',\n",
              "       ' Connection closed by 101.99.3.131 [preauth]\\n',\n",
              "       ' Connection closed by 58.215.188.65 [preauth]\\n',\n",
              "       ' Connection closed by 27.254.44.36 [preauth]\\n',\n",
              "       ' Connection closed by 60.195.252.111 [preauth]\\n',\n",
              "       ' Address 74.81.70.82 maps to usa3.getdata.com, but this does not map back to the address - POSSIBLE BREAK-IN ATTEMPT!\\n',\n",
              "       ' Address 195.130.155.16 maps to hosted.by.hostbasket.com, but this does not map back to the address - POSSIBLE BREAK-IN ATTEMPT!\\n',\n",
              "       ' Connection closed by 212.152.181.211 [preauth]\\n',\n",
              "       ' Address 123.30.51.167 maps to static.vdc.vn, but this does not map back to the address - POSSIBLE BREAK-IN ATTEMPT!\\n',\n",
              "       ' Connection closed by 61.134.23.212 [preauth]\\n',\n",
              "       ' Address 217.160.224.64 maps to blackrockgrill.com, but this does not map back to the address - POSSIBLE BREAK-IN ATTEMPT!\\n',\n",
              "       ' Connection closed by 122.225.109.112 [preauth]\\n',\n",
              "       ' Connection closed by 58.215.187.19 [preauth]\\n',\n",
              "       ' Did not receive identification string from 111.74.238.125\\n',\n",
              "       ' Address 109.169.74.58 maps to mail2.algeos.com, but this does not map back to the address - POSSIBLE BREAK-IN ATTEMPT!\\n',\n",
              "       ' Connection closed by 58.215.188.166 [preauth]\\n',\n",
              "       ' Connection closed by 211.151.127.170 [preauth]\\n',\n",
              "       ' Connection closed by 61.174.51.208 [preauth]\\n',\n",
              "       ' Address 91.200.12.111 maps to dedic530.hidehost.net, but this does not map back to the address - POSSIBLE BREAK-IN ATTEMPT!\\n',\n",
              "       ' Received disconnect from 91.200.12.111: 3: com.jcraft.jsch.JSchException: Auth fail [preauth]\\n',\n",
              "       ' Connection closed by 203.223.138.111 [preauth]\\n',\n",
              "       ' Address 89.17.219.18 maps to aldaniti.net, but this does not map back to the address - POSSIBLE BREAK-IN ATTEMPT!\\n',\n",
              "       ' Did not receive identification string from 183.82.1.229\\n',\n",
              "       ' Address 202.119.236.18 maps to eelab.njupt.edu.cn, but this does not map back to the address - POSSIBLE BREAK-IN ATTEMPT!\\n',\n",
              "       ' Connection closed by 79.135.33.50 [preauth]\\n',\n",
              "       ' Connection closed by 122.225.109.126 [preauth]\\n',\n",
              "       ' Address 81.94.206.34 maps to 34-206-94-81.rackcentre.redstation.net.uk, but this does not map back to the address - POSSIBLE BREAK-IN ATTEMPT!\\n',\n",
              "       ' Connection closed by 180.211.206.75 [preauth]\\n',\n",
              "       ' Connection closed by 61.174.50.208 [preauth]\\n',\n",
              "       ' Did not receive identification string from 124.88.60.58\\n',\n",
              "       ' Connection closed by 122.225.97.96 [preauth]\\n',\n",
              "       ' Connection closed by 218.2.0.130 [preauth]\\n',\n",
              "       ' Did not receive identification string from 85.235.191.74\\n',\n",
              "       ' Did not receive identification string from 122.225.109.206\\n',\n",
              "       ' Connection closed by 203.239.47.135 [preauth]\\n',\n",
              "       ' Connection closed by 203.141.153.118 [preauth]\\n',\n",
              "       ' Address 174.139.59.154 maps to customer.krypt.com, but this does not map back to the address - POSSIBLE BREAK-IN ATTEMPT!\\n',\n",
              "       ' Address 207.234.130.63 maps to vandasworld.com, but this does not map back to the address - POSSIBLE BREAK-IN ATTEMPT!\\n',\n",
              "       ' Connection closed by 27.254.44.45 [preauth]\\n',\n",
              "       ' Connection closed by 87.226.216.110 [preauth]\\n',\n",
              "       ' Address 211.16.227.43 maps to nagareboshi.jp, but this does not map back to the address - POSSIBLE BREAK-IN ATTEMPT!\\n',\n",
              "       ' Connection closed by 61.174.50.140 [preauth]\\n',\n",
              "       ' Address 61.19.251.164 maps to www.asiahostservice.com, but this does not map back to the address - POSSIBLE BREAK-IN ATTEMPT!\\n',\n",
              "       ' Connection closed by 122.225.97.88 [preauth]\\n',\n",
              "       ' Connection closed by 221.122.46.14 [preauth]\\n',\n",
              "       ' Connection closed by 122.225.103.73 [preauth]\\n',\n",
              "       ' Connection closed by 61.58.35.74 [preauth]\\n',\n",
              "       ' Did not receive identification string from 124.202.155.13\\n',\n",
              "       ' Connection closed by 213.82.56.66 [preauth]\\n',\n",
              "       ' Connection closed by 122.225.109.99 [preauth]\\n',\n",
              "       ' Connection closed by 61.177.182.62 [preauth]\\n',\n",
              "       ' Connection closed by 210.196.207.158 [preauth]\\n',\n",
              "       ' Address 123.30.111.100 maps to static.vdc.vn, but this does not map back to the address - POSSIBLE BREAK-IN ATTEMPT!\\n',\n",
              "       ' Connection closed by 122.225.109.201 [preauth]\\n',\n",
              "       ' Connection closed by 61.235.147.19 [preauth]\\n',\n",
              "       ' Connection closed by 122.225.109.113 [preauth]\\n',\n",
              "       ' Connection closed by 218.84.132.66 [preauth]\\n',\n",
              "       ' Connection closed by 61.174.51.214 [preauth]\\n',\n",
              "       ' Connection closed by 61.174.51.201 [preauth]\\n',\n",
              "       ' Connection closed by 61.160.82.173 [preauth]\\n',\n",
              "       ' Did not receive identification string from 222.186.197.76\\n',\n",
              "       ' Connection closed by 61.155.107.31 [preauth]\\n',\n",
              "       ' Did not receive identification string from 79.29.118.65\\n',\n",
              "       ' Address 85.255.193.216 maps to hosted.by.hostbasket.com, but this does not map back to the address - POSSIBLE BREAK-IN ATTEMPT!\\n',\n",
              "       ' Connection closed by 122.225.109.221 [preauth]\\n',\n",
              "       ' Connection closed by 122.225.103.107 [preauth]\\n',\n",
              "       ' Connection closed by 14.23.153.98 [preauth]\\n',\n",
              "       ' Connection closed by 58.215.160.219 [preauth]\\n',\n",
              "       ' Did not receive identification string from 60.171.124.72\\n',\n",
              "       ' Address 188.65.180.33 maps to 188-65-180-33.rdns.melbourne.co.uk, but this does not map back to the address - POSSIBLE BREAK-IN ATTEMPT!\\n',\n",
              "       ' Did not receive identification string from 76.252.181.200\\n',\n",
              "       ' Connection closed by 122.225.97.74 [preauth]\\n',\n",
              "       ' Connection closed by 122.225.97.69 [preauth]\\n',\n",
              "       ' Did not receive identification string from 146.148.68.216\\n',\n",
              "       ' Connection closed by 122.225.97.79 [preauth]\\n',\n",
              "       ' Did not receive identification string from 119.81.169.172\\n',\n",
              "       ' Connection closed by 122.225.109.195 [preauth]\\n',\n",
              "       ' Connection closed by 61.174.51.219 [preauth]\\n',\n",
              "       ' Did not receive identification string from 61.174.51.213\\n',\n",
              "       ' Connection closed by 122.225.97.81 [preauth]\\n',\n",
              "       ' Connection closed by 193.104.41.53 [preauth]\\n',\n",
              "       ' Connection closed by 122.225.109.219 [preauth]\\n',\n",
              "       ' Connection closed by 103.9.91.6 [preauth]\\n',\n",
              "       ' Connection closed by 61.174.50.149 [preauth]\\n',\n",
              "       ' Did not receive identification string from 122.225.97.82\\n',\n",
              "       ' Connection closed by 122.225.103.103 [preauth]\\n',\n",
              "       ' Connection closed by 122.225.109.200 [preauth]\\n',\n",
              "       ' Did not receive identification string from 122.225.97.89\\n',\n",
              "       ' Connection closed by 122.225.97.89 [preauth]\\n',\n",
              "       ' Did not receive identification string from 118.123.240.144\\n',\n",
              "       ' Connection closed by 122.225.97.80 [preauth]\\n',\n",
              "       ' Connection closed by 61.174.51.234 [preauth]\\n',\n",
              "       ' Did not receive identification string from 117.21.173.177\\n',\n",
              "       ' Could not write ident string to 117.21.173.177\\n',\n",
              "       ' Received disconnect from 146.148.68.216: 3: com.jcraft.jsch.JSchException: Auth fail [preauth]\\n',\n",
              "       ' Connection closed by 61.174.51.223 [preauth]\\n',\n",
              "       ' Connection closed by 218.2.0.126 [preauth]\\n',\n",
              "       ' Connection closed by 122.225.97.70 [preauth]\\n',\n",
              "       ' Connection closed by 61.174.51.210 [preauth]\\n',\n",
              "       ' Did not receive identification string from 24.180.168.97\\n',\n",
              "       ' Connection closed by 122.225.97.93 [preauth]\\n',\n",
              "       ' Connection closed by 76.102.40.118 [preauth]\\n',\n",
              "       ' Connection closed by 69.198.67.154 [preauth]\\n',\n",
              "       ' Connection closed by 96.228.221.138 [preauth]\\n',\n",
              "       ' Connection closed by 5.228.161.239 [preauth]\\n',\n",
              "       ' Connection closed by 188.32.246.7 [preauth]\\n',\n",
              "       ' Address 198.23.247.202 maps to host.colocrossing.com, but this does not map back to the address - POSSIBLE BREAK-IN ATTEMPT!\\n',\n",
              "       ' Connection closed by 198.23.247.202 [preauth]\\n',\n",
              "       ' Connection closed by 109.173.26.103 [preauth]\\n',\n",
              "       ' Connection closed by 131.226.0.191 [preauth]\\n',\n",
              "       ' Address 97.89.236.35 maps to 97-89-237-35.static.snfr.nc.charter.com, but this does not map back to the address - POSSIBLE BREAK-IN ATTEMPT!\\n',\n",
              "       ' Connection closed by 97.89.236.35 [preauth]\\n',\n",
              "       ' Connection closed by 73.0.186.43 [preauth]\\n',\n",
              "       ' Connection closed by 206.123.56.117 [preauth]\\n',\n",
              "       ' Connection closed by 31.192.169.181 [preauth]\\n',\n",
              "       ' Connection closed by 94.31.155.83 [preauth]\\n',\n",
              "       ' Connection closed by 71.42.43.131 [preauth]\\n',\n",
              "       ' Connection closed by 91.143.24.193 [preauth]\\n',\n",
              "       ' Connection closed by 5.228.133.254 [preauth]\\n',\n",
              "       ' Connection closed by 75.117.149.161 [preauth]\\n',\n",
              "       ' Connection closed by 74.195.21.139 [preauth]\\n',\n",
              "       ' Connection closed by 37.204.3.243 [preauth]\\n',\n",
              "       ' Connection closed by 66.207.237.79 [preauth]\\n',\n",
              "       ' Connection closed by 66.207.241.106 [preauth]\\n',\n",
              "       ' Connection closed by 72.16.248.106 [preauth]\\n',\n",
              "       ' Connection closed by 67.221.193.36 [preauth]\\n',\n",
              "       ' Connection closed by 128.164.158.64 [preauth]\\n',\n",
              "       ' Connection closed by 66.109.30.133 [preauth]\\n',\n",
              "       ' Connection closed by 61.174.51.220 [preauth]\\n',\n",
              "       ' Did not receive identification string from 200.199.106.107\\n',\n",
              "       ' Did not receive identification string from 189.203.240.75\\n',\n",
              "       ' Did not receive identification string from 109.120.190.127\\n',\n",
              "       ' Did not receive identification string from 119.42.85.126\\n',\n",
              "       ' Received disconnect from 107.167.180.193: 3: com.jcraft.jsch.JSchException: Auth fail [preauth]\\n',\n",
              "       ' Received disconnect from 222.255.174.28: 3: com.jcraft.jsch.JSchException: Auth fail [preauth]\\n',\n",
              "       ' Received disconnect from 222.255.174.28: 3: java.net.SocketTimeoutException: Read timed out [preauth]\\n',\n",
              "       ' Connection closed by 122.225.97.91 [preauth]\\n',\n",
              "       ' Did not receive identification string from 109.206.186.188\\n',\n",
              "       ' Did not receive identification string from 187.45.153.94\\n',\n",
              "       ' Did not receive identification string from 79.143.177.83\\n',\n",
              "       ' Did not receive identification string from 216.53.166.28\\n',\n",
              "       ' Did not receive identification string from 88.5.57.148\\n',\n",
              "       ' Did not receive identification string from 50.30.46.126\\n',\n",
              "       ' Did not receive identification string from 46.254.24.37\\n',\n",
              "       ' Did not receive identification string from 91.178.211.34\\n',\n",
              "       ' Did not receive identification string from 71.172.83.43\\n',\n",
              "       ' Connection closed by 61.174.51.211 [preauth]\\n',\n",
              "       ' Did not receive identification string from 36.81.252.243\\n',\n",
              "       ' Did not receive identification string from 202.117.3.104\\n',\n",
              "       ' Did not receive identification string from 210.75.23.144\\n',\n",
              "       ' Did not receive identification string from 181.14.201.26\\n',\n",
              "       ' Did not receive identification string from 92.130.181.141\\n',\n",
              "       ' Did not receive identification string from 98.174.140.238\\n',\n",
              "       ' Did not receive identification string from 124.156.72.47\\n',\n",
              "       ' Did not receive identification string from 195.22.12.42\\n',\n",
              "       ' Did not receive identification string from 67.23.166.110\\n',\n",
              "       ' Did not receive identification string from 88.5.54.103\\n',\n",
              "       ' Did not receive identification string from 67.207.128.113\\n',\n",
              "       ' Did not receive identification string from 183.36.68.12\\n',\n",
              "       ' Did not receive identification string from 190.144.79.126\\n',\n",
              "       ' Did not receive identification string from 221.8.69.30\\n',\n",
              "       ' Did not receive identification string from 177.135.176.90\\n',\n",
              "       ' Did not receive identification string from 202.83.25.95\\n',\n",
              "       ' Did not receive identification string from 117.184.202.20\\n',\n",
              "       ' Did not receive identification string from 134.213.57.97\\n',\n",
              "       ' Did not receive identification string from 31.3.155.113\\n',\n",
              "       ' Did not receive identification string from 92.243.22.44\\n',\n",
              "       ' Did not receive identification string from 117.218.98.62\\n',\n",
              "       ' Did not receive identification string from 119.90.40.201\\n',\n",
              "       ' Did not receive identification string from 117.184.202.19\\n',\n",
              "       ' Did not receive identification string from 175.195.220.111\\n',\n",
              "       ' Did not receive identification string from 186.50.34.213\\n',\n",
              "       ' Did not receive identification string from 117.218.157.4\\n',\n",
              "       ' Did not receive identification string from 222.161.197.148\\n',\n",
              "       ' Did not receive identification string from 117.211.149.17\\n',\n",
              "       ' Connection closed by 177.43.213.35 [preauth]\\n',\n",
              "       ' Did not receive identification string from 119.147.143.225\\n',\n",
              "       ' Did not receive identification string from 148.228.211.130\\n',\n",
              "       ' Connection closed by 148.228.211.130 [preauth]\\n',\n",
              "       ' Did not receive identification string from 117.40.239.54\\n',\n",
              "       ' Connection closed by 122.225.109.109 [preauth]\\n',\n",
              "       ' Did not receive identification string from 193.107.16.206\\n',\n",
              "       ' Did not receive identification string from 204.151.15.10\\n',\n",
              "       ' Received disconnect from 204.151.15.10: 3: com.jcraft.jsch.JSchException: Auth fail [preauth]\\n',\n",
              "       ' Connection closed by 122.225.109.210 [preauth]\\n',\n",
              "       ' Address 37.205.57.117 maps to no-dns-yet.sleek.net, but this does not map back to the address - POSSIBLE BREAK-IN ATTEMPT!\\n',\n",
              "       ' Connection closed by 96.238.91.8 [preauth]\\n',\n",
              "       ' Connection closed by 201.151.242.178 [preauth]\\n',\n",
              "       ' Connection closed by 122.225.97.77 [preauth]\\n',\n",
              "       ' Connection closed by 122.225.97.87 [preauth]\\n',\n",
              "       ' Connection closed by 58.218.248.124 [preauth]\\n',\n",
              "       ' Address 174.123.211.66 maps to ip-pabx.schoolmanagementsystem.net, but this does not map back to the address - POSSIBLE BREAK-IN ATTEMPT!\\n',\n",
              "       ' Did not receive identification string from 83.166.215.161\\n',\n",
              "       ' Did not receive identification string from 54.69.251.59\\n',\n",
              "       ' Received disconnect from 54.69.251.59: 11: No supported authentication methods available [preauth]\\n',\n",
              "       ' Connection closed by 60.48.145.90 [preauth]\\n',\n",
              "       ' Connection closed by 61.132.72.110 [preauth]\\n',\n",
              "       ' Connection closed by 93.40.176.169 [preauth]\\n',\n",
              "       ' Connection closed by 122.225.97.71 [preauth]\\n',\n",
              "       ' Did not receive identification string from 61.174.50.195\\n',\n",
              "       ' Connection closed by 59.53.94.9 [preauth]\\n',\n",
              "       ' Address 66.240.204.137 maps to vimpact.com, but this does not map back to the address - POSSIBLE BREAK-IN ATTEMPT!\\n',\n",
              "       ' Connection closed by 113.200.188.55 [preauth]\\n',\n",
              "       ' Connection closed by 112.101.64.73 [preauth]\\n',\n",
              "       \" Bad protocol version identification 'GET / HTTP/1.0' from 182.118.53.71\\n\",\n",
              "       ' Did not receive identification string from 193.104.41.204\\n',\n",
              "       ' Received disconnect from 193.104.41.204: 3: com.jcraft.jsch.JSchException: Auth fail [preauth]\\n',\n",
              "       ' Did not receive identification string from 222.161.4.163\\n',\n",
              "       ' Connection closed by 144.0.0.51 [preauth]\\n',\n",
              "       ' Connection closed by 62.14.190.90 [preauth]\\n',\n",
              "       ' Connection closed by 111.205.84.151 [preauth]\\n',\n",
              "       ' Connection closed by 136.159.35.69 [preauth]\\n',\n",
              "       ' Did not receive identification string from 111.205.84.151\\n',\n",
              "       ' Connection closed by 61.166.189.69 [preauth]\\n',\n",
              "       ' Connection closed by 61.174.51.232 [preauth]\\n',\n",
              "       ' Address 74.52.177.182 maps to dns1.tntsupport.net, but this does not map back to the address - POSSIBLE BREAK-IN ATTEMPT!\\n',\n",
              "       ' Connection closed by 71.6.135.131 [preauth]\\n',\n",
              "       ' Did not receive identification string from 104.192.0.20\\n',\n",
              "       ' Connection closed by 117.41.187.248 [preauth]\\n',\n",
              "       ' Did not receive identification string from 61.135.137.2\\n',\n",
              "       ' Did not receive identification string from 41.203.214.132\\n',\n",
              "       ' Connection closed by 93.167.178.118 [preauth]\\n',\n",
              "       ' Connection closed by 112.101.64.117 [preauth]\\n',\n",
              "       ' Did not receive identification string from 117.27.139.149\\n',\n",
              "       ' Connection closed by 101.231.72.111 [preauth]\\n',\n",
              "       ' Connection closed by 61.174.51.202 [preauth]\\n',\n",
              "       ' Did not receive identification string from 113.161.0.114\\n',\n",
              "       ' Address 113.161.0.114 maps to static.vdc.vn, but this does not map back to the address - POSSIBLE BREAK-IN ATTEMPT!\\n',\n",
              "       ' Received disconnect from 113.161.0.114: 3: com.jcraft.jsch.JSchException: Auth fail [preauth]\\n',\n",
              "       ' Connection closed by 61.174.50.177 [preauth]\\n',\n",
              "       ' Did not receive identification string from 108.171.244.2\\n',\n",
              "       ' Connection closed by 122.225.97.85 [preauth]\\n',\n",
              "       ' Did not receive identification string from 101.231.72.111\\n',\n",
              "       ' Connection closed by 122.225.103.74 [preauth]\\n',\n",
              "       ' Connection closed by 118.189.57.72 [preauth]\\n',\n",
              "       ' Connection closed by 111.205.45.254 [preauth]\\n',\n",
              "       ' Address 61.28.116.139 maps to smtp9145.global-ew1.com, but this does not map back to the address - POSSIBLE BREAK-IN ATTEMPT!\\n',\n",
              "       ' Connection closed by 61.28.116.139 [preauth]\\n',\n",
              "       ' Did not receive identification string from 83.219.199.149\\n',\n",
              "       ' Connection closed by 98.173.235.222 [preauth]\\n',\n",
              "       ' Connection closed by 149.129.191.60 [preauth]\\n',\n",
              "       ' Connection closed by 67.240.40.8 [preauth]\\n',\n",
              "       ' Connection closed by 149.129.54.178 [preauth]\\n',\n",
              "       ' Connection closed by 118.179.177.8 [preauth]\\n',\n",
              "       ' Connection closed by 66.171.60.156 [preauth]\\n',\n",
              "       ' Connection closed by 84.72.50.101 [preauth]\\n',\n",
              "       ' Connection closed by 173.176.242.7 [preauth]\\n',\n",
              "       ' Connection closed by 92.249.66.12 [preauth]\\n',\n",
              "       ' Connection closed by 91.192.214.206 [preauth]\\n',\n",
              "       ' Connection closed by 58.221.36.81 [preauth]\\n',\n",
              "       ' Connection closed by 61.174.50.188 [preauth]\\n',\n",
              "       ' Connection closed by 122.225.97.94 [preauth]\\n',\n",
              "       ' Connection closed by 61.174.51.217 [preauth]\\n',\n",
              "       ' Did not receive identification string from 113.12.202.186\\n',\n",
              "       ' Connection closed by 113.12.202.186 [preauth]\\n',\n",
              "       ' Connection closed by 61.174.50.198 [preauth]\\n',\n",
              "       ' Did not receive identification string from 74.117.86.214\\n',\n",
              "       ' Did not receive identification string from 87.201.100.77\\n',\n",
              "       ' Connection closed by 91.75.76.98 [preauth]\\n',\n",
              "       ' Connection closed by 89.140.237.217 [preauth]\\n',\n",
              "       ' Connection closed by 149.129.24.70 [preauth]\\n',\n",
              "       ' Connection closed by 65.75.116.172 [preauth]\\n',\n",
              "       ' Connection closed by 149.129.55.162 [preauth]\\n',\n",
              "       ' Connection closed by 213.178.58.161 [preauth]\\n',\n",
              "       ' Connection closed by 101.78.202.26 [preauth]\\n',\n",
              "       ' Connection closed by 66.175.128.78 [preauth]\\n',\n",
              "       ' Connection closed by 74.83.43.181 [preauth]\\n',\n",
              "       ' Connection closed by 71.72.31.82 [preauth]\\n',\n",
              "       ' Connection closed by 149.129.61.4 [preauth]\\n',\n",
              "       ' Connection closed by 121.96.170.17 [preauth]\\n',\n",
              "       ' Connection closed by 149.129.131.201 [preauth]\\n',\n",
              "       ' Connection closed by 93.152.147.124 [preauth]\\n',\n",
              "       ' Connection closed by 149.129.19.147 [preauth]\\n',\n",
              "       ' Connection closed by 218.2.0.123 [preauth]\\n',\n",
              "       ' Connection closed by 91.200.113.110 [preauth]\\n',\n",
              "       ' Connection closed by 122.225.97.86 [preauth]\\n',\n",
              "       ' Connection closed by 188.138.9.50 [preauth]\\n',\n",
              "       ' Connection closed by 192.210.53.21 [preauth]\\n',\n",
              "       ' Did not receive identification string from 31.192.105.59\\n',\n",
              "       ' Did not receive identification string from 122.225.97.70\\n',\n",
              "       ' Connection closed by 122.225.97.68 [preauth]\\n',\n",
              "       ' Connection closed by 122.225.97.76 [preauth]\\n',\n",
              "       ' Connection closed by 122.225.97.84 [preauth]\\n',\n",
              "       ' Connection closed by 27.120.65.11 [preauth]\\n',\n",
              "       ' Did not receive identification string from 218.2.0.125\\n',\n",
              "       ' Did not receive identification string from 61.213.96.39\\n',\n",
              "       ' Connection closed by 141.105.72.2 [preauth]\\n',\n",
              "       ' Address 37.235.62.156 maps to 156-62-235-37.static.edis.at, but this does not map back to the address - POSSIBLE BREAK-IN ATTEMPT!\\n',\n",
              "       ' Connection closed by 61.78.90.133 [preauth]\\n',\n",
              "       ' Connection closed by 103.21.218.221 [preauth]\\n',\n",
              "       ' Connection closed by 202.182.189.11 [preauth]\\n',\n",
              "       ' Connection closed by 61.40.192.52 [preauth]\\n',\n",
              "       ' Connection closed by 82.165.199.225 [preauth]\\n',\n",
              "       \" Bad protocol version identification 'GET / HTTP/1.0' from 182.118.53.11\\n\",\n",
              "       ' Connection closed by 218.77.121.69 [preauth]\\n',\n",
              "       ' Connection closed by 79.188.64.218 [preauth]\\n',\n",
              "       ' Did not receive identification string from 111.74.238.104\\n',\n",
              "       ' Could not write ident string to 111.74.238.104\\n',\n",
              "       ' Address 195.225.168.20 maps to webserver.servonetsnc.net, but this does not map back to the address - POSSIBLE BREAK-IN ATTEMPT!\\n',\n",
              "       ' Connection closed by 195.225.168.20 [preauth]\\n',\n",
              "       ' Connection closed by 122.225.109.110 [preauth]\\n',\n",
              "       ' Did not receive identification string from 1.93.34.236\\n',\n",
              "       ' Connection closed by 61.167.199.241 [preauth]\\n',\n",
              "       ' Connection closed by 1.93.34.236 [preauth]\\n',\n",
              "       ' Connection closed by 61.58.35.141 [preauth]\\n',\n",
              "       ' Connection closed by 217.109.167.117 [preauth]\\n',\n",
              "       ' Did not receive identification string from 95.163.121.234\\n',\n",
              "       ' Received disconnect from 95.163.121.234: 3: com.jcraft.jsch.JSchException: Auth fail [preauth]\\n',\n",
              "       ' Connection closed by 222.171.179.177 [preauth]\\n',\n",
              "       ' Connection closed by 221.122.66.45 [preauth]\\n',\n",
              "       ' Connection closed by 122.225.109.105 [preauth]\\n',\n",
              "       ' Connection closed by 218.90.134.14 [preauth]\\n',\n",
              "       ' Connection closed by 122.225.97.67 [preauth]\\n',\n",
              "       ' Did not receive identification string from 222.186.15.7\\n',\n",
              "       ' Connection closed by 122.225.97.83 [preauth]\\n',\n",
              "       ' Connection closed by 222.161.209.92 [preauth]\\n',\n",
              "       ' Connection closed by 60.173.82.156 [preauth]\\n',\n",
              "       ' Did not receive identification string from 27.135.97.27\\n',\n",
              "       ' Connection closed by 61.119.72.50 [preauth]\\n',\n",
              "       ' Connection closed by 36.3.119.147 [preauth]\\n',\n",
              "       ' Address 64.34.162.30 maps to mail.digimark.net, but this does not map back to the address - POSSIBLE BREAK-IN ATTEMPT!\\n',\n",
              "       ' Did not receive identification string from 125.65.165.215\\n',\n",
              "       ' Connection closed by 122.225.97.98 [preauth]\\n',\n",
              "       ' Connection closed by 60.206.40.81 [preauth]\\n',\n",
              "       ' Did not receive identification string from 1.93.34.226\\n',\n",
              "       ' Connection closed by 202.123.179.226 [preauth]\\n',\n",
              "       ' Connection closed by 65.171.196.17 [preauth]\\n',\n",
              "       ' Connection closed by 1.93.34.226 [preauth]\\n',\n",
              "       ' Connection closed by 61.219.98.102 [preauth]\\n',\n",
              "       ' Connection closed by 61.145.118.173 [preauth]\\n',\n",
              "       ' Connection closed by 122.225.97.66 [preauth]\\n',\n",
              "       ' Connection closed by 117.40.239.54 [preauth]\\n',\n",
              "       ' Connection closed by 201.77.127.31 [preauth]\\n',\n",
              "       ' Connection closed by 211.149.195.105 [preauth]\\n',\n",
              "       ' Address 62.233.82.64 maps to no-ptr.as20860.net, but this does not map back to the address - POSSIBLE BREAK-IN ATTEMPT!\\n',\n",
              "       ' Connection closed by 61.156.14.204 [preauth]\\n',\n",
              "       ' Did not receive identification string from 111.161.126.234\\n',\n",
              "       ' Connection closed by 122.225.109.117 [preauth]\\n',\n",
              "       ' Address 123.249.19.59 maps to error-cdnzz-com.cdnzz.net, but this does not map back to the address - POSSIBLE BREAK-IN ATTEMPT!\\n',\n",
              "       ' Connection closed by 123.249.19.59 [preauth]\\n',\n",
              "       ' Connection closed by 59.90.80.41 [preauth]\\n',\n",
              "       ' Connection closed by 140.239.235.139 [preauth]\\n',\n",
              "       ' Did not receive identification string from 120.198.156.138\\n',\n",
              "       ' Connection closed by 107.170.185.212 [preauth]\\n',\n",
              "       ' Connection closed by 173.164.191.26 [preauth]\\n',\n",
              "       ' Connection closed by 66.206.82.23 [preauth]\\n',\n",
              "       ' Connection closed by 146.185.13.225 [preauth]\\n',\n",
              "       ' Connection closed by 209.193.104.8 [preauth]\\n',\n",
              "       ' Connection closed by 67.52.236.114 [preauth]\\n',\n",
              "       ' Connection closed by 62.109.13.39 [preauth]\\n',\n",
              "       ' Connection closed by 64.130.188.143 [preauth]\\n',\n",
              "       ' Connection closed by 96.42.39.165 [preauth]\\n',\n",
              "       ' Connection closed by 216.255.247.52 [preauth]\\n',\n",
              "       ' Connection closed by 50.253.245.145 [preauth]\\n',\n",
              "       ' Connection closed by 95.191.254.226 [preauth]\\n',\n",
              "       ' Connection closed by 5.228.231.160 [preauth]\\n',\n",
              "       ' Connection closed by 70.167.240.234 [preauth]\\n',\n",
              "       ' Connection closed by 91.199.197.29 [preauth]\\n',\n",
              "       ' Connection closed by 65.28.26.218 [preauth]\\n',\n",
              "       ' Connection closed by 64.130.140.145 [preauth]\\n',\n",
              "       ' Connection closed by 173.201.216.113 [preauth]\\n',\n",
              "       ' Connection closed by 184.164.96.217 [preauth]\\n',\n",
              "       ' Connection closed by 66.241.183.212 [preauth]\\n',\n",
              "       ' Connection closed by 109.173.76.90 [preauth]\\n',\n",
              "       ' Connection closed by 64.130.137.195 [preauth]\\n',\n",
              "       ' Connection closed by 66.196.57.222 [preauth]\\n',\n",
              "       ' Connection closed by 95.191.255.22 [preauth]\\n',\n",
              "       ' Connection closed by 50.20.168.26 [preauth]\\n',\n",
              "       ' Connection closed by 80.68.75.18 [preauth]\\n',\n",
              "       ' Connection closed by 203.142.66.242 [preauth]\\n',\n",
              "       ' Connection closed by 217.18.208.146 [preauth]\\n',\n",
              "       ' Did not receive identification string from 193.104.41.205\\n',\n",
              "       ' Received disconnect from 193.104.41.205: 3: com.jcraft.jsch.JSchException: Auth fail [preauth]\\n',\n",
              "       ' Connection closed by 122.225.109.220 [preauth]\\n',\n",
              "       ' Connection closed by 120.198.156.138 [preauth]\\n',\n",
              "       ' Connection closed by 61.152.91.20 [preauth]\\n',\n",
              "       ' Connection closed by 211.137.179.236 [preauth]\\n',\n",
              "       ' Connection closed by 59.57.253.94 [preauth]\\n',\n",
              "       ' Connection closed by 41.207.64.16 [preauth]\\n',\n",
              "       ' Connection closed by 222.124.185.197 [preauth]\\n',\n",
              "       ' Connection closed by 62.117.88.25 [preauth]\\n',\n",
              "       ' Connection closed by 61.234.146.22 [preauth]\\n',\n",
              "       ' Did not receive identification string from 69.175.117.234\\n',\n",
              "       ' Did not receive identification string from 121.41.77.133\\n',\n",
              "       ' Did not receive identification string from 169.229.3.94\\n',\n",
              "       ' Did not receive identification string from 169.229.3.93\\n',\n",
              "       ' Did not receive identification string from 169.229.3.92\\n',\n",
              "       ' Did not receive identification string from 169.229.3.91\\n',\n",
              "       ' Did not receive identification string from 81.169.167.66\\n',\n",
              "       ' Did not receive identification string from 219.146.12.180\\n',\n",
              "       ' Connection closed by 125.69.80.32 [preauth]\\n',\n",
              "       ' Connection closed by 218.2.0.128 [preauth]\\n',\n",
              "       ' Connection closed by 60.214.139.108 [preauth]\\n',\n",
              "       ' Connection closed by 72.46.157.64 [preauth]\\n',\n",
              "       ' Received disconnect from 176.38.95.52: 3: com.jcraft.jsch.JSchException: Auth fail [preauth]\\n',\n",
              "       ' Connection closed by 219.153.15.122 [preauth]\\n',\n",
              "       ' Connection closed by 220.194.46.36 [preauth]\\n',\n",
              "       ' Address 92.51.146.218 maps to www.wendenburg.de, but this does not map back to the address - POSSIBLE BREAK-IN ATTEMPT!\\n',\n",
              "       ' Connection closed by 222.186.27.120 [preauth]\\n',\n",
              "       ' Did not receive identification string from 222.173.145.34\\n',\n",
              "       ' Connection closed by 203.200.160.213 [preauth]\\n',\n",
              "       ' Connection closed by 195.234.171.80 [preauth]\\n',\n",
              "       ' Connection closed by 222.186.27.199 [preauth]\\n',\n",
              "       ' Did not receive identification string from 88.149.197.95\\n',\n",
              "       ' Connection closed by 66.186.230.37 [preauth]\\n',\n",
              "       ' Connection closed by 149.129.146.247 [preauth]\\n',\n",
              "       ' Connection closed by 187.254.220.45 [preauth]\\n',\n",
              "       ' Connection closed by 58.206.126.29 [preauth]\\n',\n",
              "       ' Connection closed by 187.33.4.23 [preauth]\\n',\n",
              "       ' Did not receive identification string from 23.251.144.222\\n',\n",
              "       ' Connection closed by 122.225.109.106 [preauth]\\n',\n",
              "       ' Connection closed by 49.236.204.181 [preauth]\\n',\n",
              "       ' Connection closed by 202.137.3.194 [preauth]\\n',\n",
              "       ' Connection closed by 58.214.17.71 [preauth]\\n',\n",
              "       ' Connection closed by 85.224.75.21 [preauth]\\n',\n",
              "       ' Connection closed by 122.225.109.213 [preauth]\\n',\n",
              "       ' Connection closed by 61.174.49.112 [preauth]\\n',\n",
              "       ' Received disconnect from 109.63.78.162: 11: ok [preauth]\\n',\n",
              "       ' Received disconnect from 109.63.119.164: 11: ok [preauth]\\n',\n",
              "       ' Received disconnect from 109.161.196.113: 11: ok [preauth]\\n',\n",
              "       ' Connection closed by 37.53.69.177 [preauth]\\n',\n",
              "       ' Received disconnect from 109.63.91.120: 11: ok [preauth]\\n',\n",
              "       ' Received disconnect from 110.36.140.42: 11: ok [preauth]\\n',\n",
              "       ' Connection closed by 222.197.129.60 [preauth]\\n',\n",
              "       ' Received disconnect from 109.63.100.49: 11: ok [preauth]\\n',\n",
              "       ' Received disconnect from 110.36.188.239: 11: ok [preauth]\\n',\n",
              "       ' Connection closed by 220.194.59.176 [preauth]\\n',\n",
              "       ' Connection closed by 60.210.22.136 [preauth]\\n',\n",
              "       ' Connection closed by 219.146.12.180 [preauth]\\n',\n",
              "       ' Connection closed by 46.171.211.130 [preauth]\\n',\n",
              "       ' Received disconnect from 109.63.101.43: 11: ok [preauth]\\n',\n",
              "       ' Connection closed by 122.225.109.115 [preauth]\\n',\n",
              "       ' Connection closed by 115.231.222.45 [preauth]\\n',\n",
              "       ' Received disconnect from 109.161.140.127: 11: ok [preauth]\\n',\n",
              "       ' Connection closed by 222.178.184.102 [preauth]\\n',\n",
              "       ' Received disconnect from 177.129.131.162: 11: ok [preauth]\\n',\n",
              "       ' Connection closed by 58.215.176.234 [preauth]\\n',\n",
              "       ' Connection closed by 61.153.0.137 [preauth]\\n',\n",
              "       ' Received disconnect from 200.129.46.3: 11: ok [preauth]\\n',\n",
              "       ' Received disconnect from 109.161.253.178: 11: ok [preauth]\\n',\n",
              "       ' Received disconnect from 109.63.52.231: 11: ok [preauth]\\n',\n",
              "       ' Received disconnect from 109.161.176.3: 11: ok [preauth]\\n',\n",
              "       ' Received disconnect from 109.63.30.149: 11: ok [preauth]\\n',\n",
              "       ' Received disconnect from 117.255.233.44: 11: ok [preauth]\\n',\n",
              "       ' Connection closed by 122.225.97.73 [preauth]\\n',\n",
              "       ' Did not receive identification string from 58.215.172.77\\n',\n",
              "       ' Received disconnect from 109.63.90.49: 11: ok [preauth]\\n',\n",
              "       ' Connection closed by 203.100.83.32 [preauth]\\n',\n",
              "       ' Received disconnect from 110.36.38.66: 11: ok [preauth]\\n',\n",
              "       ' Received disconnect from 117.253.106.234: 11: ok [preauth]\\n',\n",
              "       ' Did not receive identification string from 220.196.42.247\\n',\n",
              "       ' Received disconnect from 109.63.78.68: 11: ok [preauth]\\n',\n",
              "       ' Received disconnect from 109.63.80.21: 11: ok [preauth]\\n',\n",
              "       ' Received disconnect from 109.63.64.75: 11: ok [preauth]\\n',\n",
              "       ' Received disconnect from 110.36.22.86: 11: ok [preauth]\\n',\n",
              "       ' Connection closed by 94.92.151.154 [preauth]\\n',\n",
              "       ' Did not receive identification string from 110.36.26.179\\n',\n",
              "       ' Received disconnect from 109.161.246.159: 11: ok [preauth]\\n',\n",
              "       ' Received disconnect from 117.245.47.217: 11: ok [preauth]\\n',\n",
              "       ' Received disconnect from 188.116.213.70: 11: ok [preauth]\\n',\n",
              "       ' Received disconnect from 109.161.219.195: 11: ok [preauth]\\n',\n",
              "       ' Connection closed by 87.106.151.126 [preauth]\\n',\n",
              "       ' Received disconnect from 109.161.224.135: 11: ok [preauth]\\n',\n",
              "       ' Address 221.204.214.85 maps to 85.214.204.221.adsl-pool.sx.cn, but this does not map back to the address - POSSIBLE BREAK-IN ATTEMPT!\\n',\n",
              "       ' Connection closed by 221.204.214.85 [preauth]\\n',\n",
              "       ' Received disconnect from 109.63.26.239: 11: ok [preauth]\\n',\n",
              "       ' Received disconnect from 109.161.154.57: 11: ok [preauth]\\n',\n",
              "       ' Received disconnect from 109.63.3.5: 11: ok [preauth]\\n',\n",
              "       ' Received disconnect from 109.63.120.123: 11: ok [preauth]\\n',\n",
              "       ' Connection closed by 27.254.67.156 [preauth]\\n',\n",
              "       ' Connection closed by 220.241.19.12 [preauth]\\n',\n",
              "       ' Did not receive identification string from 222.186.55.252\\n',\n",
              "       ' Connection closed by 122.225.97.78 [preauth]\\n',\n",
              "       ' Did not receive identification string from 68.5.109.188\\n',\n",
              "       ' Connection closed by 122.225.109.217 [preauth]\\n',\n",
              "       ' Connection closed by 122.225.109.207 [preauth]\\n',\n",
              "       ' Connection closed by 27.254.44.29 [preauth]\\n',\n",
              "       ' Connection closed by 41.205.23.142 [preauth]\\n',\n",
              "       ' Connection closed by 68.5.109.188 [preauth]\\n',\n",
              "       ' Connection closed by 27.254.67.135 [preauth]\\n',\n",
              "       ' Did not receive identification string from 41.142.245.10\\n',\n",
              "       ' Connection closed by 210.177.69.33 [preauth]\\n',\n",
              "       ' Connection closed by 212.8.105.27 [preauth]\\n',\n",
              "       ' Address 205.204.91.2 maps to mail.thenetmillionairesclub.com, but this does not map back to the address - POSSIBLE BREAK-IN ATTEMPT!\\n',\n",
              "       ' Connection closed by 218.26.11.118 [preauth]\\n',\n",
              "       ' Connection closed by 46.183.216.200 [preauth]\\n',\n",
              "       ' Connection closed by 180.210.234.87 [preauth]\\n',\n",
              "       ' Connection closed by 58.211.216.43 [preauth]\\n',\n",
              "       ' Connection closed by 124.173.144.185 [preauth]\\n',\n",
              "       ' Connection closed by 211.16.227.43 [preauth]\\n',\n",
              "       ' Connection closed by 173.20.16.2 [preauth]\\n',\n",
              "       ' Connection closed by 199.96.51.27 [preauth]\\n',\n",
              "       ' Connection closed by 77.232.134.69 [preauth]\\n',\n",
              "       ' Connection closed by 50.57.143.118 [preauth]\\n',\n",
              "       ' Connection closed by 24.111.193.62 [preauth]\\n',\n",
              "       ' Connection closed by 208.105.171.76 [preauth]\\n',\n",
              "       ' Connection closed by 184.20.4.37 [preauth]\\n',\n",
              "       ' Connection closed by 92.42.11.43 [preauth]\\n',\n",
              "       ' Connection closed by 5.79.186.173 [preauth]\\n',\n",
              "       ' Connection closed by 24.130.236.84 [preauth]\\n',\n",
              "       ' Connection closed by 107.144.67.8 [preauth]\\n',\n",
              "       ' Connection closed by 64.246.108.239 [preauth]\\n',\n",
              "       ' Connection closed by 4.30.53.45 [preauth]\\n',\n",
              "       ' Connection closed by 173.248.28.115 [preauth]\\n',\n",
              "       ' Connection closed by 74.197.122.152 [preauth]\\n',\n",
              "       ' Connection closed by 75.146.180.109 [preauth]\\n',\n",
              "       ' Connection closed by 5.228.231.241 [preauth]\\n',\n",
              "       ' Connection closed by 96.245.89.91 [preauth]\\n',\n",
              "       ' Connection closed by 176.96.247.30 [preauth]\\n',\n",
              "       ' Connection closed by 72.64.221.127 [preauth]\\n',\n",
              "       ' Connection closed by 216.57.165.217 [preauth]\\n',\n",
              "       ' Connection closed by 109.173.2.187 [preauth]\\n',\n",
              "       ' Connection closed by 64.185.0.17 [preauth]\\n',\n",
              "       ' Connection closed by 74.75.245.38 [preauth]\\n',\n",
              "       ' Address 92.42.12.114 maps to vpn-user114-pyatigorsk.potok-kmv.ru, but this does not map back to the address - POSSIBLE BREAK-IN ATTEMPT!\\n',\n",
              "       ' Connection closed by 92.42.12.114 [preauth]\\n',\n",
              "       ' Connection closed by 213.87.105.205 [preauth]\\n',\n",
              "       ' Connection closed by 208.97.41.23 [preauth]\\n',\n",
              "       ' Connection closed by 67.191.161.28 [preauth]\\n',\n",
              "       ' Did not receive identification string from 61.174.51.199\\n',\n",
              "       ' Connection closed by 101.226.249.53 [preauth]\\n',\n",
              "       ' Connection closed by 27.102.206.54 [preauth]\\n',\n",
              "       ' Connection closed by 61.213.96.39 [preauth]\\n',\n",
              "       ' Connection closed by 61.174.51.229 [preauth]\\n',\n",
              "       ' Connection closed by 61.174.49.107 [preauth]\\n',\n",
              "       ' Connection closed by 61.145.121.97 [preauth]\\n',\n",
              "       ' Did not receive identification string from 212.83.150.195\\n',\n",
              "       ' Connection closed by 218.78.247.29 [preauth]\\n',\n",
              "       ' Connection closed by 125.129.96.233 [preauth]\\n',\n",
              "       ' Connection closed by 61.138.3.111 [preauth]\\n',\n",
              "       ' Did not receive identification string from 122.225.109.112\\n',\n",
              "       ' Did not receive identification string from 220.194.59.176\\n',\n",
              "       ' Connection closed by 82.221.105.7 [preauth]\\n',\n",
              "       \" Bad protocol version identification 'GET / HTTP/1.0' from 182.118.55.161\\n\",\n",
              "       ' Connection closed by 75.151.29.33 [preauth]\\n',\n",
              "       ' Did not receive identification string from 115.231.222.171\\n',\n",
              "       ' Connection closed by 115.231.222.171 [preauth]\\n',\n",
              "       ' Connection closed by 112.101.64.94 [preauth]\\n',\n",
              "       ' Did not receive identification string from 111.74.238.101\\n',\n",
              "       ' Could not write ident string to 111.74.238.101\\n',\n",
              "       ' Connection closed by 122.225.109.120 [preauth]\\n',\n",
              "       ' Connection closed by 144.0.0.57 [preauth]\\n'], dtype=object)"
            ]
          },
          "metadata": {},
          "execution_count": 555
        }
      ]
    },
    {
      "cell_type": "markdown",
      "source": [
        "#Training"
      ],
      "metadata": {
        "id": "G_hVJBU_0MjF"
      }
    },
    {
      "cell_type": "code",
      "source": [
        "input = \"Nov 30 09:22:03 ip-172-31-27-153 sshd[22218]: Did not receive identification string from 196.200.90.236\""
      ],
      "metadata": {
        "id": "fGRCpAKyKX9X"
      },
      "execution_count": 556,
      "outputs": []
    },
    {
      "cell_type": "code",
      "source": [
        "data1 = authParserLine(input)"
      ],
      "metadata": {
        "id": "c6D8r01qKz5W"
      },
      "execution_count": 557,
      "outputs": []
    },
    {
      "cell_type": "code",
      "source": [
        "df1 = pd.DataFrame(data1)"
      ],
      "metadata": {
        "id": "gpa6CmcDKz5Z"
      },
      "execution_count": 558,
      "outputs": []
    },
    {
      "cell_type": "code",
      "source": [
        "df1_copy = df1.copy()"
      ],
      "metadata": {
        "id": "skW8XXBoKz5c"
      },
      "execution_count": 559,
      "outputs": []
    },
    {
      "cell_type": "code",
      "source": [
        "df1_clean = clean(df1,\"event\")"
      ],
      "metadata": {
        "colab": {
          "base_uri": "https://localhost:8080/"
        },
        "outputId": "6c8a4ec3-0479-4ab6-a66d-768a70d22b35",
        "id": "LzqFDv3SKz5e"
      },
      "execution_count": 560,
      "outputs": [
        {
          "output_type": "stream",
          "name": "stderr",
          "text": [
            "/usr/local/lib/python3.7/dist-packages/ipykernel_launcher.py:4: FutureWarning: The default value of regex will change from True to False in a future version.\n",
            "  after removing the cwd from sys.path.\n",
            "/usr/local/lib/python3.7/dist-packages/ipykernel_launcher.py:5: FutureWarning: The default value of regex will change from True to False in a future version.\n",
            "  \"\"\"\n"
          ]
        }
      ]
    },
    {
      "cell_type": "code",
      "source": [
        "stopwords1 = ['pam_unixcronsession' 'by', 'string', 'from', 'bye', 'for', 'port', 'sshd', 'ssh', 'root', 'preauth']"
      ],
      "metadata": {
        "id": "CaO96lrDKz5h"
      },
      "execution_count": 561,
      "outputs": []
    },
    {
      "cell_type": "code",
      "source": [
        "df1_clean = remStopWord(df1_clean, \"event\", stopwords1)"
      ],
      "metadata": {
        "colab": {
          "base_uri": "https://localhost:8080/"
        },
        "outputId": "79e95572-7587-4f46-9bd9-32a58b44f54f",
        "id": "4jc77M6TKz5k"
      },
      "execution_count": 562,
      "outputs": [
        {
          "output_type": "stream",
          "name": "stderr",
          "text": [
            "[nltk_data] Downloading package stopwords to /root/nltk_data...\n",
            "[nltk_data]   Package stopwords is already up-to-date!\n"
          ]
        }
      ]
    },
    {
      "cell_type": "code",
      "source": [
        "loaded_vectorizer = pickle.load(open(path + 'auth_vectorizer.sav', 'rb'))"
      ],
      "metadata": {
        "id": "K8J0RgJORqYl"
      },
      "execution_count": 563,
      "outputs": []
    },
    {
      "cell_type": "code",
      "source": [
        "vector_op1 = loaded_vectorizer.transform(df1_clean['event'])"
      ],
      "metadata": {
        "id": "RlaqmstoYhmM"
      },
      "execution_count": 565,
      "outputs": []
    },
    {
      "cell_type": "code",
      "source": [
        "loaded_pca = pickle.load(open(path + 'auth_pca.sav', 'rb'))"
      ],
      "metadata": {
        "id": "OL0v1VRXKz5u"
      },
      "execution_count": 566,
      "outputs": []
    },
    {
      "cell_type": "code",
      "source": [
        "pca_data1 = loaded_pca.transform(vector_op1.todense())"
      ],
      "metadata": {
        "id": "3tx6gHXdRE2F"
      },
      "execution_count": null,
      "outputs": []
    },
    {
      "cell_type": "code",
      "source": [
        "pca_data1"
      ],
      "metadata": {
        "colab": {
          "base_uri": "https://localhost:8080/"
        },
        "id": "r8rALGK1aUWY",
        "outputId": "76bd7593-7eab-47d1-b064-18d16ef0a2aa"
      },
      "execution_count": 573,
      "outputs": [
        {
          "output_type": "execute_result",
          "data": {
            "text/plain": [
              "array([[ 2.91715370e-01,  4.19399885e-01,  3.09503096e-14,\n",
              "        -1.37348757e-01,  3.19870657e-02,  9.86573913e-02,\n",
              "         4.42114204e-01,  9.17158171e-01]])"
            ]
          },
          "metadata": {},
          "execution_count": 573
        }
      ]
    },
    {
      "cell_type": "code",
      "source": [
        "loaded_model = pickle.load(open(path + 'auth_model.sav', 'rb'))"
      ],
      "metadata": {
        "id": "aKXjemm_Kz5x"
      },
      "execution_count": 569,
      "outputs": []
    },
    {
      "cell_type": "code",
      "source": [
        "model_data1 = loaded_model.predict(pca_data1)"
      ],
      "metadata": {
        "id": "-vR7k8VYWMoi"
      },
      "execution_count": 570,
      "outputs": []
    },
    {
      "cell_type": "code",
      "source": [
        "model_data1"
      ],
      "metadata": {
        "colab": {
          "base_uri": "https://localhost:8080/"
        },
        "id": "U0p8KY2BW2LA",
        "outputId": "cbab9c7a-8932-4330-f8c8-757637f89cc7"
      },
      "execution_count": 571,
      "outputs": [
        {
          "output_type": "execute_result",
          "data": {
            "text/plain": [
              "array([5], dtype=int32)"
            ]
          },
          "metadata": {},
          "execution_count": 571
        }
      ]
    },
    {
      "cell_type": "code",
      "source": [
        "distance1 = fromCentDistance(pca_data1, loaded_model)"
      ],
      "metadata": {
        "colab": {
          "base_uri": "https://localhost:8080/",
          "height": 289
        },
        "id": "fjya-H0TKz52",
        "outputId": "f45493a8-cb69-4281-f62b-0826217f2ffe"
      },
      "execution_count": 572,
      "outputs": [
        {
          "output_type": "error",
          "ename": "AttributeError",
          "evalue": "ignored",
          "traceback": [
            "\u001b[0;31m---------------------------------------------------------------------------\u001b[0m",
            "\u001b[0;31mAttributeError\u001b[0m                            Traceback (most recent call last)",
            "\u001b[0;32m<ipython-input-572-4e37764f231e>\u001b[0m in \u001b[0;36m<module>\u001b[0;34m()\u001b[0m\n\u001b[0;32m----> 1\u001b[0;31m \u001b[0mdistance1\u001b[0m \u001b[0;34m=\u001b[0m \u001b[0mfromCentDistance\u001b[0m\u001b[0;34m(\u001b[0m\u001b[0mpca_data1\u001b[0m\u001b[0;34m,\u001b[0m \u001b[0mloaded_model\u001b[0m\u001b[0;34m)\u001b[0m\u001b[0;34m\u001b[0m\u001b[0;34m\u001b[0m\u001b[0m\n\u001b[0m",
            "\u001b[0;32m<ipython-input-532-303e619ea1d7>\u001b[0m in \u001b[0;36mfromCentDistance\u001b[0;34m(pca_data, model)\u001b[0m\n\u001b[1;32m     18\u001b[0m   \u001b[0mdistances\u001b[0m \u001b[0;34m=\u001b[0m \u001b[0;34m[\u001b[0m\u001b[0;34m]\u001b[0m\u001b[0;34m\u001b[0m\u001b[0;34m\u001b[0m\u001b[0m\n\u001b[1;32m     19\u001b[0m   \u001b[0;32mfor\u001b[0m \u001b[0mi\u001b[0m \u001b[0;32min\u001b[0m \u001b[0mrange\u001b[0m\u001b[0;34m(\u001b[0m\u001b[0mlen\u001b[0m\u001b[0;34m(\u001b[0m\u001b[0mlist1\u001b[0m\u001b[0;34m)\u001b[0m\u001b[0;34m)\u001b[0m\u001b[0;34m:\u001b[0m\u001b[0;34m\u001b[0m\u001b[0;34m\u001b[0m\u001b[0m\n\u001b[0;32m---> 20\u001b[0;31m     \u001b[0mdist\u001b[0m \u001b[0;34m=\u001b[0m \u001b[0mdistance\u001b[0m\u001b[0;34m.\u001b[0m\u001b[0meuclidean\u001b[0m\u001b[0;34m(\u001b[0m\u001b[0mlist1\u001b[0m\u001b[0;34m[\u001b[0m\u001b[0mi\u001b[0m\u001b[0;34m]\u001b[0m\u001b[0;34m,\u001b[0m\u001b[0mlist2\u001b[0m\u001b[0;34m[\u001b[0m\u001b[0mi\u001b[0m\u001b[0;34m]\u001b[0m\u001b[0;34m)\u001b[0m\u001b[0;34m\u001b[0m\u001b[0;34m\u001b[0m\u001b[0m\n\u001b[0m\u001b[1;32m     21\u001b[0m     \u001b[0mdistances\u001b[0m\u001b[0;34m.\u001b[0m\u001b[0mappend\u001b[0m\u001b[0;34m(\u001b[0m\u001b[0mdist\u001b[0m\u001b[0;34m)\u001b[0m\u001b[0;34m\u001b[0m\u001b[0;34m\u001b[0m\u001b[0m\n\u001b[1;32m     22\u001b[0m \u001b[0;34m\u001b[0m\u001b[0m\n",
            "\u001b[0;31mAttributeError\u001b[0m: 'list' object has no attribute 'euclidean'"
          ]
        }
      ]
    },
    {
      "cell_type": "code",
      "source": [
        "df1_copy['distance'] = distance1"
      ],
      "metadata": {
        "id": "cNpHfafsKz54"
      },
      "execution_count": null,
      "outputs": []
    },
    {
      "cell_type": "code",
      "source": [
        "mod_zscore1, mad1 = modified_zscore(df1_copy['distance'])"
      ],
      "metadata": {
        "id": "U3BN7Qa6Kz55"
      },
      "execution_count": null,
      "outputs": []
    },
    {
      "cell_type": "code",
      "source": [
        "df1_copy['mod_zscore'] = mod_zscore1.tolist()"
      ],
      "metadata": {
        "id": "GS7O04cZKz57"
      },
      "execution_count": null,
      "outputs": []
    }
  ]
}