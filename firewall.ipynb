{
  "nbformat": 4,
  "nbformat_minor": 0,
  "metadata": {
    "colab": {
      "name": "firewall.ipynb",
      "provenance": [],
      "collapsed_sections": [
        "jpjg2GQzNOt9",
        "NAyrtucv6eta"
      ],
      "authorship_tag": "ABX9TyN5GcUQlXE73rWDh7WicjwF",
      "include_colab_link": true
    },
    "kernelspec": {
      "name": "python3",
      "display_name": "Python 3"
    },
    "language_info": {
      "name": "python"
    }
  },
  "cells": [
    {
      "cell_type": "markdown",
      "metadata": {
        "id": "view-in-github",
        "colab_type": "text"
      },
      "source": [
        "<a href=\"https://colab.research.google.com/github/kashindra-mahato/SOC-support-system/blob/kashindra/firewall.ipynb\" target=\"_parent\"><img src=\"https://colab.research.google.com/assets/colab-badge.svg\" alt=\"Open In Colab\"/></a>"
      ]
    },
    {
      "cell_type": "code",
      "execution_count": null,
      "metadata": {
        "colab": {
          "base_uri": "https://localhost:8080/"
        },
        "id": "9wb7Uq9Elp_H",
        "outputId": "d37dca18-34d5-433c-c6db-42966a191699"
      },
      "outputs": [
        {
          "output_type": "stream",
          "name": "stdout",
          "text": [
            "Mounted at /content/drive\n"
          ]
        }
      ],
      "source": [
        "from google.colab import drive\n",
        "drive.mount('/content/drive')"
      ]
    },
    {
      "cell_type": "code",
      "source": [
        "import pandas as pd\n",
        "pd.options.display.max_colwidth = 100\n",
        "pd.set_option('display.precision', 3)"
      ],
      "metadata": {
        "id": "bz466LT8ouW0"
      },
      "execution_count": null,
      "outputs": []
    },
    {
      "cell_type": "markdown",
      "source": [
        "###loading the dataset"
      ],
      "metadata": {
        "id": "2zZTwKikeqsK"
      }
    },
    {
      "cell_type": "code",
      "source": [
        "firewall0 = pd.read_csv('/content/drive/MyDrive/Colab Notebooks/DATASET/log2.csv')"
      ],
      "metadata": {
        "id": "lvoivBSzS6f3"
      },
      "execution_count": null,
      "outputs": []
    },
    {
      "cell_type": "code",
      "source": [
        "firewall0.head()"
      ],
      "metadata": {
        "colab": {
          "base_uri": "https://localhost:8080/",
          "height": 268
        },
        "id": "uKx5kb2RTaHd",
        "outputId": "b64aac2c-10cc-4138-9299-92caee5dc606"
      },
      "execution_count": null,
      "outputs": [
        {
          "output_type": "execute_result",
          "data": {
            "text/plain": [
              "   Source Port  Destination Port  NAT Source Port  NAT Destination Port  \\\n",
              "0        57222                53            54587                    53   \n",
              "1        56258              3389            56258                  3389   \n",
              "2         6881             50321            43265                 50321   \n",
              "3        50553              3389            50553                  3389   \n",
              "4        50002               443            45848                   443   \n",
              "\n",
              "  Action  Bytes  Bytes Sent  Bytes Received  Packets  Elapsed Time (sec)  \\\n",
              "0  allow    177          94              83        2                  30   \n",
              "1  allow   4768        1600            3168       19                  17   \n",
              "2  allow    238         118             120        2                1199   \n",
              "3  allow   3327        1438            1889       15                  17   \n",
              "4  allow  25358        6778           18580       31                  16   \n",
              "\n",
              "   pkts_sent  pkts_received  \n",
              "0          1              1  \n",
              "1         10              9  \n",
              "2          1              1  \n",
              "3          8              7  \n",
              "4         13             18  "
            ],
            "text/html": [
              "\n",
              "  <div id=\"df-64cabad5-0939-4baf-8082-d18aaa64390a\">\n",
              "    <div class=\"colab-df-container\">\n",
              "      <div>\n",
              "<style scoped>\n",
              "    .dataframe tbody tr th:only-of-type {\n",
              "        vertical-align: middle;\n",
              "    }\n",
              "\n",
              "    .dataframe tbody tr th {\n",
              "        vertical-align: top;\n",
              "    }\n",
              "\n",
              "    .dataframe thead th {\n",
              "        text-align: right;\n",
              "    }\n",
              "</style>\n",
              "<table border=\"1\" class=\"dataframe\">\n",
              "  <thead>\n",
              "    <tr style=\"text-align: right;\">\n",
              "      <th></th>\n",
              "      <th>Source Port</th>\n",
              "      <th>Destination Port</th>\n",
              "      <th>NAT Source Port</th>\n",
              "      <th>NAT Destination Port</th>\n",
              "      <th>Action</th>\n",
              "      <th>Bytes</th>\n",
              "      <th>Bytes Sent</th>\n",
              "      <th>Bytes Received</th>\n",
              "      <th>Packets</th>\n",
              "      <th>Elapsed Time (sec)</th>\n",
              "      <th>pkts_sent</th>\n",
              "      <th>pkts_received</th>\n",
              "    </tr>\n",
              "  </thead>\n",
              "  <tbody>\n",
              "    <tr>\n",
              "      <th>0</th>\n",
              "      <td>57222</td>\n",
              "      <td>53</td>\n",
              "      <td>54587</td>\n",
              "      <td>53</td>\n",
              "      <td>allow</td>\n",
              "      <td>177</td>\n",
              "      <td>94</td>\n",
              "      <td>83</td>\n",
              "      <td>2</td>\n",
              "      <td>30</td>\n",
              "      <td>1</td>\n",
              "      <td>1</td>\n",
              "    </tr>\n",
              "    <tr>\n",
              "      <th>1</th>\n",
              "      <td>56258</td>\n",
              "      <td>3389</td>\n",
              "      <td>56258</td>\n",
              "      <td>3389</td>\n",
              "      <td>allow</td>\n",
              "      <td>4768</td>\n",
              "      <td>1600</td>\n",
              "      <td>3168</td>\n",
              "      <td>19</td>\n",
              "      <td>17</td>\n",
              "      <td>10</td>\n",
              "      <td>9</td>\n",
              "    </tr>\n",
              "    <tr>\n",
              "      <th>2</th>\n",
              "      <td>6881</td>\n",
              "      <td>50321</td>\n",
              "      <td>43265</td>\n",
              "      <td>50321</td>\n",
              "      <td>allow</td>\n",
              "      <td>238</td>\n",
              "      <td>118</td>\n",
              "      <td>120</td>\n",
              "      <td>2</td>\n",
              "      <td>1199</td>\n",
              "      <td>1</td>\n",
              "      <td>1</td>\n",
              "    </tr>\n",
              "    <tr>\n",
              "      <th>3</th>\n",
              "      <td>50553</td>\n",
              "      <td>3389</td>\n",
              "      <td>50553</td>\n",
              "      <td>3389</td>\n",
              "      <td>allow</td>\n",
              "      <td>3327</td>\n",
              "      <td>1438</td>\n",
              "      <td>1889</td>\n",
              "      <td>15</td>\n",
              "      <td>17</td>\n",
              "      <td>8</td>\n",
              "      <td>7</td>\n",
              "    </tr>\n",
              "    <tr>\n",
              "      <th>4</th>\n",
              "      <td>50002</td>\n",
              "      <td>443</td>\n",
              "      <td>45848</td>\n",
              "      <td>443</td>\n",
              "      <td>allow</td>\n",
              "      <td>25358</td>\n",
              "      <td>6778</td>\n",
              "      <td>18580</td>\n",
              "      <td>31</td>\n",
              "      <td>16</td>\n",
              "      <td>13</td>\n",
              "      <td>18</td>\n",
              "    </tr>\n",
              "  </tbody>\n",
              "</table>\n",
              "</div>\n",
              "      <button class=\"colab-df-convert\" onclick=\"convertToInteractive('df-64cabad5-0939-4baf-8082-d18aaa64390a')\"\n",
              "              title=\"Convert this dataframe to an interactive table.\"\n",
              "              style=\"display:none;\">\n",
              "        \n",
              "  <svg xmlns=\"http://www.w3.org/2000/svg\" height=\"24px\"viewBox=\"0 0 24 24\"\n",
              "       width=\"24px\">\n",
              "    <path d=\"M0 0h24v24H0V0z\" fill=\"none\"/>\n",
              "    <path d=\"M18.56 5.44l.94 2.06.94-2.06 2.06-.94-2.06-.94-.94-2.06-.94 2.06-2.06.94zm-11 1L8.5 8.5l.94-2.06 2.06-.94-2.06-.94L8.5 2.5l-.94 2.06-2.06.94zm10 10l.94 2.06.94-2.06 2.06-.94-2.06-.94-.94-2.06-.94 2.06-2.06.94z\"/><path d=\"M17.41 7.96l-1.37-1.37c-.4-.4-.92-.59-1.43-.59-.52 0-1.04.2-1.43.59L10.3 9.45l-7.72 7.72c-.78.78-.78 2.05 0 2.83L4 21.41c.39.39.9.59 1.41.59.51 0 1.02-.2 1.41-.59l7.78-7.78 2.81-2.81c.8-.78.8-2.07 0-2.86zM5.41 20L4 18.59l7.72-7.72 1.47 1.35L5.41 20z\"/>\n",
              "  </svg>\n",
              "      </button>\n",
              "      \n",
              "  <style>\n",
              "    .colab-df-container {\n",
              "      display:flex;\n",
              "      flex-wrap:wrap;\n",
              "      gap: 12px;\n",
              "    }\n",
              "\n",
              "    .colab-df-convert {\n",
              "      background-color: #E8F0FE;\n",
              "      border: none;\n",
              "      border-radius: 50%;\n",
              "      cursor: pointer;\n",
              "      display: none;\n",
              "      fill: #1967D2;\n",
              "      height: 32px;\n",
              "      padding: 0 0 0 0;\n",
              "      width: 32px;\n",
              "    }\n",
              "\n",
              "    .colab-df-convert:hover {\n",
              "      background-color: #E2EBFA;\n",
              "      box-shadow: 0px 1px 2px rgba(60, 64, 67, 0.3), 0px 1px 3px 1px rgba(60, 64, 67, 0.15);\n",
              "      fill: #174EA6;\n",
              "    }\n",
              "\n",
              "    [theme=dark] .colab-df-convert {\n",
              "      background-color: #3B4455;\n",
              "      fill: #D2E3FC;\n",
              "    }\n",
              "\n",
              "    [theme=dark] .colab-df-convert:hover {\n",
              "      background-color: #434B5C;\n",
              "      box-shadow: 0px 1px 3px 1px rgba(0, 0, 0, 0.15);\n",
              "      filter: drop-shadow(0px 1px 2px rgba(0, 0, 0, 0.3));\n",
              "      fill: #FFFFFF;\n",
              "    }\n",
              "  </style>\n",
              "\n",
              "      <script>\n",
              "        const buttonEl =\n",
              "          document.querySelector('#df-64cabad5-0939-4baf-8082-d18aaa64390a button.colab-df-convert');\n",
              "        buttonEl.style.display =\n",
              "          google.colab.kernel.accessAllowed ? 'block' : 'none';\n",
              "\n",
              "        async function convertToInteractive(key) {\n",
              "          const element = document.querySelector('#df-64cabad5-0939-4baf-8082-d18aaa64390a');\n",
              "          const dataTable =\n",
              "            await google.colab.kernel.invokeFunction('convertToInteractive',\n",
              "                                                     [key], {});\n",
              "          if (!dataTable) return;\n",
              "\n",
              "          const docLinkHtml = 'Like what you see? Visit the ' +\n",
              "            '<a target=\"_blank\" href=https://colab.research.google.com/notebooks/data_table.ipynb>data table notebook</a>'\n",
              "            + ' to learn more about interactive tables.';\n",
              "          element.innerHTML = '';\n",
              "          dataTable['output_type'] = 'display_data';\n",
              "          await google.colab.output.renderOutput(dataTable, element);\n",
              "          const docLink = document.createElement('div');\n",
              "          docLink.innerHTML = docLinkHtml;\n",
              "          element.appendChild(docLink);\n",
              "        }\n",
              "      </script>\n",
              "    </div>\n",
              "  </div>\n",
              "  "
            ]
          },
          "metadata": {},
          "execution_count": 9
        }
      ]
    },
    {
      "cell_type": "code",
      "source": [
        "firewall0.describe()"
      ],
      "metadata": {
        "colab": {
          "base_uri": "https://localhost:8080/",
          "height": 379
        },
        "id": "2GfZG8kfTeDD",
        "outputId": "d6985a61-ec8b-41d5-9b35-26b3ddd4e625"
      },
      "execution_count": null,
      "outputs": [
        {
          "output_type": "execute_result",
          "data": {
            "text/plain": [
              "       Source Port  Destination Port  NAT Source Port  NAT Destination Port  \\\n",
              "count    65532.000         65532.000        65532.000             65532.000   \n",
              "mean     49391.969         10577.386        19282.973              2671.050   \n",
              "std      15255.713         18466.027        21970.690              9739.162   \n",
              "min          0.000             0.000            0.000                 0.000   \n",
              "25%      49183.000            80.000            0.000                 0.000   \n",
              "50%      53776.500           445.000         8820.500                53.000   \n",
              "75%      58638.000         15000.000        38366.250               443.000   \n",
              "max      65534.000         65535.000        65535.000             65535.000   \n",
              "\n",
              "           Bytes  Bytes Sent  Bytes Received    Packets  Elapsed Time (sec)  \\\n",
              "count  6.553e+04   6.553e+04       6.553e+04  6.553e+04           65532.000   \n",
              "mean   9.712e+04   2.239e+04       7.474e+04  1.029e+02              65.834   \n",
              "std    5.618e+06   3.828e+06       2.463e+06  5.133e+03             302.462   \n",
              "min    6.000e+01   6.000e+01       0.000e+00  1.000e+00               0.000   \n",
              "25%    6.600e+01   6.600e+01       0.000e+00  1.000e+00               0.000   \n",
              "50%    1.680e+02   9.000e+01       7.900e+01  2.000e+00              15.000   \n",
              "75%    7.522e+02   2.100e+02       4.490e+02  6.000e+00              30.000   \n",
              "max    1.269e+09   9.485e+08       3.209e+08  1.036e+06           10824.000   \n",
              "\n",
              "        pkts_sent  pkts_received  \n",
              "count   65532.000      65532.000  \n",
              "mean       41.400         61.467  \n",
              "std      3218.871       2223.332  \n",
              "min         1.000          0.000  \n",
              "25%         1.000          0.000  \n",
              "50%         1.000          1.000  \n",
              "75%         3.000          2.000  \n",
              "max    747520.000     327208.000  "
            ],
            "text/html": [
              "\n",
              "  <div id=\"df-0e449790-af99-48cc-9e76-e093006b9528\">\n",
              "    <div class=\"colab-df-container\">\n",
              "      <div>\n",
              "<style scoped>\n",
              "    .dataframe tbody tr th:only-of-type {\n",
              "        vertical-align: middle;\n",
              "    }\n",
              "\n",
              "    .dataframe tbody tr th {\n",
              "        vertical-align: top;\n",
              "    }\n",
              "\n",
              "    .dataframe thead th {\n",
              "        text-align: right;\n",
              "    }\n",
              "</style>\n",
              "<table border=\"1\" class=\"dataframe\">\n",
              "  <thead>\n",
              "    <tr style=\"text-align: right;\">\n",
              "      <th></th>\n",
              "      <th>Source Port</th>\n",
              "      <th>Destination Port</th>\n",
              "      <th>NAT Source Port</th>\n",
              "      <th>NAT Destination Port</th>\n",
              "      <th>Bytes</th>\n",
              "      <th>Bytes Sent</th>\n",
              "      <th>Bytes Received</th>\n",
              "      <th>Packets</th>\n",
              "      <th>Elapsed Time (sec)</th>\n",
              "      <th>pkts_sent</th>\n",
              "      <th>pkts_received</th>\n",
              "    </tr>\n",
              "  </thead>\n",
              "  <tbody>\n",
              "    <tr>\n",
              "      <th>count</th>\n",
              "      <td>65532.000</td>\n",
              "      <td>65532.000</td>\n",
              "      <td>65532.000</td>\n",
              "      <td>65532.000</td>\n",
              "      <td>6.553e+04</td>\n",
              "      <td>6.553e+04</td>\n",
              "      <td>6.553e+04</td>\n",
              "      <td>6.553e+04</td>\n",
              "      <td>65532.000</td>\n",
              "      <td>65532.000</td>\n",
              "      <td>65532.000</td>\n",
              "    </tr>\n",
              "    <tr>\n",
              "      <th>mean</th>\n",
              "      <td>49391.969</td>\n",
              "      <td>10577.386</td>\n",
              "      <td>19282.973</td>\n",
              "      <td>2671.050</td>\n",
              "      <td>9.712e+04</td>\n",
              "      <td>2.239e+04</td>\n",
              "      <td>7.474e+04</td>\n",
              "      <td>1.029e+02</td>\n",
              "      <td>65.834</td>\n",
              "      <td>41.400</td>\n",
              "      <td>61.467</td>\n",
              "    </tr>\n",
              "    <tr>\n",
              "      <th>std</th>\n",
              "      <td>15255.713</td>\n",
              "      <td>18466.027</td>\n",
              "      <td>21970.690</td>\n",
              "      <td>9739.162</td>\n",
              "      <td>5.618e+06</td>\n",
              "      <td>3.828e+06</td>\n",
              "      <td>2.463e+06</td>\n",
              "      <td>5.133e+03</td>\n",
              "      <td>302.462</td>\n",
              "      <td>3218.871</td>\n",
              "      <td>2223.332</td>\n",
              "    </tr>\n",
              "    <tr>\n",
              "      <th>min</th>\n",
              "      <td>0.000</td>\n",
              "      <td>0.000</td>\n",
              "      <td>0.000</td>\n",
              "      <td>0.000</td>\n",
              "      <td>6.000e+01</td>\n",
              "      <td>6.000e+01</td>\n",
              "      <td>0.000e+00</td>\n",
              "      <td>1.000e+00</td>\n",
              "      <td>0.000</td>\n",
              "      <td>1.000</td>\n",
              "      <td>0.000</td>\n",
              "    </tr>\n",
              "    <tr>\n",
              "      <th>25%</th>\n",
              "      <td>49183.000</td>\n",
              "      <td>80.000</td>\n",
              "      <td>0.000</td>\n",
              "      <td>0.000</td>\n",
              "      <td>6.600e+01</td>\n",
              "      <td>6.600e+01</td>\n",
              "      <td>0.000e+00</td>\n",
              "      <td>1.000e+00</td>\n",
              "      <td>0.000</td>\n",
              "      <td>1.000</td>\n",
              "      <td>0.000</td>\n",
              "    </tr>\n",
              "    <tr>\n",
              "      <th>50%</th>\n",
              "      <td>53776.500</td>\n",
              "      <td>445.000</td>\n",
              "      <td>8820.500</td>\n",
              "      <td>53.000</td>\n",
              "      <td>1.680e+02</td>\n",
              "      <td>9.000e+01</td>\n",
              "      <td>7.900e+01</td>\n",
              "      <td>2.000e+00</td>\n",
              "      <td>15.000</td>\n",
              "      <td>1.000</td>\n",
              "      <td>1.000</td>\n",
              "    </tr>\n",
              "    <tr>\n",
              "      <th>75%</th>\n",
              "      <td>58638.000</td>\n",
              "      <td>15000.000</td>\n",
              "      <td>38366.250</td>\n",
              "      <td>443.000</td>\n",
              "      <td>7.522e+02</td>\n",
              "      <td>2.100e+02</td>\n",
              "      <td>4.490e+02</td>\n",
              "      <td>6.000e+00</td>\n",
              "      <td>30.000</td>\n",
              "      <td>3.000</td>\n",
              "      <td>2.000</td>\n",
              "    </tr>\n",
              "    <tr>\n",
              "      <th>max</th>\n",
              "      <td>65534.000</td>\n",
              "      <td>65535.000</td>\n",
              "      <td>65535.000</td>\n",
              "      <td>65535.000</td>\n",
              "      <td>1.269e+09</td>\n",
              "      <td>9.485e+08</td>\n",
              "      <td>3.209e+08</td>\n",
              "      <td>1.036e+06</td>\n",
              "      <td>10824.000</td>\n",
              "      <td>747520.000</td>\n",
              "      <td>327208.000</td>\n",
              "    </tr>\n",
              "  </tbody>\n",
              "</table>\n",
              "</div>\n",
              "      <button class=\"colab-df-convert\" onclick=\"convertToInteractive('df-0e449790-af99-48cc-9e76-e093006b9528')\"\n",
              "              title=\"Convert this dataframe to an interactive table.\"\n",
              "              style=\"display:none;\">\n",
              "        \n",
              "  <svg xmlns=\"http://www.w3.org/2000/svg\" height=\"24px\"viewBox=\"0 0 24 24\"\n",
              "       width=\"24px\">\n",
              "    <path d=\"M0 0h24v24H0V0z\" fill=\"none\"/>\n",
              "    <path d=\"M18.56 5.44l.94 2.06.94-2.06 2.06-.94-2.06-.94-.94-2.06-.94 2.06-2.06.94zm-11 1L8.5 8.5l.94-2.06 2.06-.94-2.06-.94L8.5 2.5l-.94 2.06-2.06.94zm10 10l.94 2.06.94-2.06 2.06-.94-2.06-.94-.94-2.06-.94 2.06-2.06.94z\"/><path d=\"M17.41 7.96l-1.37-1.37c-.4-.4-.92-.59-1.43-.59-.52 0-1.04.2-1.43.59L10.3 9.45l-7.72 7.72c-.78.78-.78 2.05 0 2.83L4 21.41c.39.39.9.59 1.41.59.51 0 1.02-.2 1.41-.59l7.78-7.78 2.81-2.81c.8-.78.8-2.07 0-2.86zM5.41 20L4 18.59l7.72-7.72 1.47 1.35L5.41 20z\"/>\n",
              "  </svg>\n",
              "      </button>\n",
              "      \n",
              "  <style>\n",
              "    .colab-df-container {\n",
              "      display:flex;\n",
              "      flex-wrap:wrap;\n",
              "      gap: 12px;\n",
              "    }\n",
              "\n",
              "    .colab-df-convert {\n",
              "      background-color: #E8F0FE;\n",
              "      border: none;\n",
              "      border-radius: 50%;\n",
              "      cursor: pointer;\n",
              "      display: none;\n",
              "      fill: #1967D2;\n",
              "      height: 32px;\n",
              "      padding: 0 0 0 0;\n",
              "      width: 32px;\n",
              "    }\n",
              "\n",
              "    .colab-df-convert:hover {\n",
              "      background-color: #E2EBFA;\n",
              "      box-shadow: 0px 1px 2px rgba(60, 64, 67, 0.3), 0px 1px 3px 1px rgba(60, 64, 67, 0.15);\n",
              "      fill: #174EA6;\n",
              "    }\n",
              "\n",
              "    [theme=dark] .colab-df-convert {\n",
              "      background-color: #3B4455;\n",
              "      fill: #D2E3FC;\n",
              "    }\n",
              "\n",
              "    [theme=dark] .colab-df-convert:hover {\n",
              "      background-color: #434B5C;\n",
              "      box-shadow: 0px 1px 3px 1px rgba(0, 0, 0, 0.15);\n",
              "      filter: drop-shadow(0px 1px 2px rgba(0, 0, 0, 0.3));\n",
              "      fill: #FFFFFF;\n",
              "    }\n",
              "  </style>\n",
              "\n",
              "      <script>\n",
              "        const buttonEl =\n",
              "          document.querySelector('#df-0e449790-af99-48cc-9e76-e093006b9528 button.colab-df-convert');\n",
              "        buttonEl.style.display =\n",
              "          google.colab.kernel.accessAllowed ? 'block' : 'none';\n",
              "\n",
              "        async function convertToInteractive(key) {\n",
              "          const element = document.querySelector('#df-0e449790-af99-48cc-9e76-e093006b9528');\n",
              "          const dataTable =\n",
              "            await google.colab.kernel.invokeFunction('convertToInteractive',\n",
              "                                                     [key], {});\n",
              "          if (!dataTable) return;\n",
              "\n",
              "          const docLinkHtml = 'Like what you see? Visit the ' +\n",
              "            '<a target=\"_blank\" href=https://colab.research.google.com/notebooks/data_table.ipynb>data table notebook</a>'\n",
              "            + ' to learn more about interactive tables.';\n",
              "          element.innerHTML = '';\n",
              "          dataTable['output_type'] = 'display_data';\n",
              "          await google.colab.output.renderOutput(dataTable, element);\n",
              "          const docLink = document.createElement('div');\n",
              "          docLink.innerHTML = docLinkHtml;\n",
              "          element.appendChild(docLink);\n",
              "        }\n",
              "      </script>\n",
              "    </div>\n",
              "  </div>\n",
              "  "
            ]
          },
          "metadata": {},
          "execution_count": 10
        }
      ]
    },
    {
      "cell_type": "code",
      "source": [
        "firewall0.Action.unique()"
      ],
      "metadata": {
        "colab": {
          "base_uri": "https://localhost:8080/"
        },
        "id": "JxJ92JHwTphI",
        "outputId": "f6976e5c-af92-4b54-f4db-d1d47d57af26"
      },
      "execution_count": null,
      "outputs": [
        {
          "output_type": "execute_result",
          "data": {
            "text/plain": [
              "array(['allow', 'drop', 'deny', 'reset-both'], dtype=object)"
            ]
          },
          "metadata": {},
          "execution_count": 11
        }
      ]
    },
    {
      "cell_type": "code",
      "source": [
        "firewall0.isna().count()"
      ],
      "metadata": {
        "colab": {
          "base_uri": "https://localhost:8080/"
        },
        "id": "jTxZd7tGUA8W",
        "outputId": "ac4cc587-3ce0-4777-a357-163654bff338"
      },
      "execution_count": null,
      "outputs": [
        {
          "output_type": "execute_result",
          "data": {
            "text/plain": [
              "Source Port             65532\n",
              "Destination Port        65532\n",
              "NAT Source Port         65532\n",
              "NAT Destination Port    65532\n",
              "Action                  65532\n",
              "Bytes                   65532\n",
              "Bytes Sent              65532\n",
              "Bytes Received          65532\n",
              "Packets                 65532\n",
              "Elapsed Time (sec)      65532\n",
              "pkts_sent               65532\n",
              "pkts_received           65532\n",
              "dtype: int64"
            ]
          },
          "metadata": {},
          "execution_count": 12
        }
      ]
    },
    {
      "cell_type": "code",
      "source": [
        "data = firewall0.drop(columns=['Action'], axis=1)"
      ],
      "metadata": {
        "id": "yXz2eI4m5KnG"
      },
      "execution_count": null,
      "outputs": []
    },
    {
      "cell_type": "code",
      "source": [
        "from sklearn.preprocessing import StandardScaler\n",
        "scaler = StandardScaler()\n",
        "scaler.fit(data)"
      ],
      "metadata": {
        "colab": {
          "base_uri": "https://localhost:8080/"
        },
        "id": "2NoljNrbULiw",
        "outputId": "64f24bca-0779-4adb-f5db-bbebfe7d6e61"
      },
      "execution_count": null,
      "outputs": [
        {
          "output_type": "execute_result",
          "data": {
            "text/plain": [
              "StandardScaler()"
            ]
          },
          "metadata": {},
          "execution_count": 45
        }
      ]
    },
    {
      "cell_type": "code",
      "source": [
        "result = scaler.transform(data)"
      ],
      "metadata": {
        "id": "VG9zWatqVVsj"
      },
      "execution_count": null,
      "outputs": []
    },
    {
      "cell_type": "code",
      "source": [
        "result"
      ],
      "metadata": {
        "colab": {
          "base_uri": "https://localhost:8080/"
        },
        "id": "LxRNI3CEWevq",
        "outputId": "48893bc8-a8b9-4ab0-d393-0fbf16bd1ff0"
      },
      "execution_count": null,
      "outputs": [
        {
          "output_type": "execute_result",
          "data": {
            "text/plain": [
              "array([[ 0.51325629, -0.56993668,  1.60688158, ..., -0.11847399,\n",
              "        -0.01255093, -0.02719655],\n",
              "       [ 0.45006636, -0.38927922,  1.68293804, ..., -0.16145495,\n",
              "        -0.0097549 , -0.02359832],\n",
              "       [-2.78658198,  2.15227224,  1.09155473, ...,  3.74650686,\n",
              "        -0.01255093, -0.02719655],\n",
              "       ...,\n",
              "       [ 0.35914891, -0.54870834, -0.87767476, ..., -0.21766084,\n",
              "        -0.01255093, -0.02764633],\n",
              "       [ 0.35908336, -0.54870834, -0.87767476, ..., -0.21766084,\n",
              "        -0.01255093, -0.02764633],\n",
              "       [ 0.35888671, -0.54870834, -0.87767476, ..., -0.21766084,\n",
              "        -0.01255093, -0.02764633]])"
            ]
          },
          "metadata": {},
          "execution_count": 15
        }
      ]
    },
    {
      "cell_type": "code",
      "source": [
        "df_result = pd.DataFrame(result)"
      ],
      "metadata": {
        "id": "JPC13gjmWgjy"
      },
      "execution_count": null,
      "outputs": []
    },
    {
      "cell_type": "code",
      "source": [
        "df_result.head()"
      ],
      "metadata": {
        "colab": {
          "base_uri": "https://localhost:8080/",
          "height": 206
        },
        "id": "OJZlRLpCWvP9",
        "outputId": "3d89e8cf-6161-4138-a348-d210631730cf"
      },
      "execution_count": null,
      "outputs": [
        {
          "output_type": "execute_result",
          "data": {
            "text/plain": [
              "      0      1      2      3      4      5      6      7      8      9      10\n",
              "0  0.513 -0.570  1.607 -0.269 -0.017 -0.006 -0.030 -0.020 -0.118 -0.013 -0.027\n",
              "1  0.450 -0.389  1.683  0.074 -0.016 -0.005 -0.029 -0.016 -0.161 -0.010 -0.024\n",
              "2 -2.787  2.152  1.092  4.893 -0.017 -0.006 -0.030 -0.020  3.747 -0.013 -0.027\n",
              "3  0.076 -0.389  1.423  0.074 -0.017 -0.005 -0.030 -0.017 -0.161 -0.010 -0.024\n",
              "4  0.040 -0.549  1.209 -0.229 -0.013 -0.004 -0.023 -0.014 -0.165 -0.009 -0.020"
            ],
            "text/html": [
              "\n",
              "  <div id=\"df-61cfe18e-1ee3-4021-9828-409426e65259\">\n",
              "    <div class=\"colab-df-container\">\n",
              "      <div>\n",
              "<style scoped>\n",
              "    .dataframe tbody tr th:only-of-type {\n",
              "        vertical-align: middle;\n",
              "    }\n",
              "\n",
              "    .dataframe tbody tr th {\n",
              "        vertical-align: top;\n",
              "    }\n",
              "\n",
              "    .dataframe thead th {\n",
              "        text-align: right;\n",
              "    }\n",
              "</style>\n",
              "<table border=\"1\" class=\"dataframe\">\n",
              "  <thead>\n",
              "    <tr style=\"text-align: right;\">\n",
              "      <th></th>\n",
              "      <th>0</th>\n",
              "      <th>1</th>\n",
              "      <th>2</th>\n",
              "      <th>3</th>\n",
              "      <th>4</th>\n",
              "      <th>5</th>\n",
              "      <th>6</th>\n",
              "      <th>7</th>\n",
              "      <th>8</th>\n",
              "      <th>9</th>\n",
              "      <th>10</th>\n",
              "    </tr>\n",
              "  </thead>\n",
              "  <tbody>\n",
              "    <tr>\n",
              "      <th>0</th>\n",
              "      <td>0.513</td>\n",
              "      <td>-0.570</td>\n",
              "      <td>1.607</td>\n",
              "      <td>-0.269</td>\n",
              "      <td>-0.017</td>\n",
              "      <td>-0.006</td>\n",
              "      <td>-0.030</td>\n",
              "      <td>-0.020</td>\n",
              "      <td>-0.118</td>\n",
              "      <td>-0.013</td>\n",
              "      <td>-0.027</td>\n",
              "    </tr>\n",
              "    <tr>\n",
              "      <th>1</th>\n",
              "      <td>0.450</td>\n",
              "      <td>-0.389</td>\n",
              "      <td>1.683</td>\n",
              "      <td>0.074</td>\n",
              "      <td>-0.016</td>\n",
              "      <td>-0.005</td>\n",
              "      <td>-0.029</td>\n",
              "      <td>-0.016</td>\n",
              "      <td>-0.161</td>\n",
              "      <td>-0.010</td>\n",
              "      <td>-0.024</td>\n",
              "    </tr>\n",
              "    <tr>\n",
              "      <th>2</th>\n",
              "      <td>-2.787</td>\n",
              "      <td>2.152</td>\n",
              "      <td>1.092</td>\n",
              "      <td>4.893</td>\n",
              "      <td>-0.017</td>\n",
              "      <td>-0.006</td>\n",
              "      <td>-0.030</td>\n",
              "      <td>-0.020</td>\n",
              "      <td>3.747</td>\n",
              "      <td>-0.013</td>\n",
              "      <td>-0.027</td>\n",
              "    </tr>\n",
              "    <tr>\n",
              "      <th>3</th>\n",
              "      <td>0.076</td>\n",
              "      <td>-0.389</td>\n",
              "      <td>1.423</td>\n",
              "      <td>0.074</td>\n",
              "      <td>-0.017</td>\n",
              "      <td>-0.005</td>\n",
              "      <td>-0.030</td>\n",
              "      <td>-0.017</td>\n",
              "      <td>-0.161</td>\n",
              "      <td>-0.010</td>\n",
              "      <td>-0.024</td>\n",
              "    </tr>\n",
              "    <tr>\n",
              "      <th>4</th>\n",
              "      <td>0.040</td>\n",
              "      <td>-0.549</td>\n",
              "      <td>1.209</td>\n",
              "      <td>-0.229</td>\n",
              "      <td>-0.013</td>\n",
              "      <td>-0.004</td>\n",
              "      <td>-0.023</td>\n",
              "      <td>-0.014</td>\n",
              "      <td>-0.165</td>\n",
              "      <td>-0.009</td>\n",
              "      <td>-0.020</td>\n",
              "    </tr>\n",
              "  </tbody>\n",
              "</table>\n",
              "</div>\n",
              "      <button class=\"colab-df-convert\" onclick=\"convertToInteractive('df-61cfe18e-1ee3-4021-9828-409426e65259')\"\n",
              "              title=\"Convert this dataframe to an interactive table.\"\n",
              "              style=\"display:none;\">\n",
              "        \n",
              "  <svg xmlns=\"http://www.w3.org/2000/svg\" height=\"24px\"viewBox=\"0 0 24 24\"\n",
              "       width=\"24px\">\n",
              "    <path d=\"M0 0h24v24H0V0z\" fill=\"none\"/>\n",
              "    <path d=\"M18.56 5.44l.94 2.06.94-2.06 2.06-.94-2.06-.94-.94-2.06-.94 2.06-2.06.94zm-11 1L8.5 8.5l.94-2.06 2.06-.94-2.06-.94L8.5 2.5l-.94 2.06-2.06.94zm10 10l.94 2.06.94-2.06 2.06-.94-2.06-.94-.94-2.06-.94 2.06-2.06.94z\"/><path d=\"M17.41 7.96l-1.37-1.37c-.4-.4-.92-.59-1.43-.59-.52 0-1.04.2-1.43.59L10.3 9.45l-7.72 7.72c-.78.78-.78 2.05 0 2.83L4 21.41c.39.39.9.59 1.41.59.51 0 1.02-.2 1.41-.59l7.78-7.78 2.81-2.81c.8-.78.8-2.07 0-2.86zM5.41 20L4 18.59l7.72-7.72 1.47 1.35L5.41 20z\"/>\n",
              "  </svg>\n",
              "      </button>\n",
              "      \n",
              "  <style>\n",
              "    .colab-df-container {\n",
              "      display:flex;\n",
              "      flex-wrap:wrap;\n",
              "      gap: 12px;\n",
              "    }\n",
              "\n",
              "    .colab-df-convert {\n",
              "      background-color: #E8F0FE;\n",
              "      border: none;\n",
              "      border-radius: 50%;\n",
              "      cursor: pointer;\n",
              "      display: none;\n",
              "      fill: #1967D2;\n",
              "      height: 32px;\n",
              "      padding: 0 0 0 0;\n",
              "      width: 32px;\n",
              "    }\n",
              "\n",
              "    .colab-df-convert:hover {\n",
              "      background-color: #E2EBFA;\n",
              "      box-shadow: 0px 1px 2px rgba(60, 64, 67, 0.3), 0px 1px 3px 1px rgba(60, 64, 67, 0.15);\n",
              "      fill: #174EA6;\n",
              "    }\n",
              "\n",
              "    [theme=dark] .colab-df-convert {\n",
              "      background-color: #3B4455;\n",
              "      fill: #D2E3FC;\n",
              "    }\n",
              "\n",
              "    [theme=dark] .colab-df-convert:hover {\n",
              "      background-color: #434B5C;\n",
              "      box-shadow: 0px 1px 3px 1px rgba(0, 0, 0, 0.15);\n",
              "      filter: drop-shadow(0px 1px 2px rgba(0, 0, 0, 0.3));\n",
              "      fill: #FFFFFF;\n",
              "    }\n",
              "  </style>\n",
              "\n",
              "      <script>\n",
              "        const buttonEl =\n",
              "          document.querySelector('#df-61cfe18e-1ee3-4021-9828-409426e65259 button.colab-df-convert');\n",
              "        buttonEl.style.display =\n",
              "          google.colab.kernel.accessAllowed ? 'block' : 'none';\n",
              "\n",
              "        async function convertToInteractive(key) {\n",
              "          const element = document.querySelector('#df-61cfe18e-1ee3-4021-9828-409426e65259');\n",
              "          const dataTable =\n",
              "            await google.colab.kernel.invokeFunction('convertToInteractive',\n",
              "                                                     [key], {});\n",
              "          if (!dataTable) return;\n",
              "\n",
              "          const docLinkHtml = 'Like what you see? Visit the ' +\n",
              "            '<a target=\"_blank\" href=https://colab.research.google.com/notebooks/data_table.ipynb>data table notebook</a>'\n",
              "            + ' to learn more about interactive tables.';\n",
              "          element.innerHTML = '';\n",
              "          dataTable['output_type'] = 'display_data';\n",
              "          await google.colab.output.renderOutput(dataTable, element);\n",
              "          const docLink = document.createElement('div');\n",
              "          docLink.innerHTML = docLinkHtml;\n",
              "          element.appendChild(docLink);\n",
              "        }\n",
              "      </script>\n",
              "    </div>\n",
              "  </div>\n",
              "  "
            ]
          },
          "metadata": {},
          "execution_count": 17
        }
      ]
    },
    {
      "cell_type": "code",
      "source": [
        "num_cols = data.columns\n",
        "df_result.columns = num_cols"
      ],
      "metadata": {
        "id": "muTtup8tWw8I"
      },
      "execution_count": null,
      "outputs": []
    },
    {
      "cell_type": "code",
      "source": [
        "df_result.head()"
      ],
      "metadata": {
        "colab": {
          "base_uri": "https://localhost:8080/",
          "height": 268
        },
        "id": "q3f9PvOBXMeH",
        "outputId": "bb67c71b-c67b-40ee-f3b7-42f157593c07"
      },
      "execution_count": null,
      "outputs": [
        {
          "output_type": "execute_result",
          "data": {
            "text/plain": [
              "   Source Port  Destination Port  NAT Source Port  NAT Destination Port  \\\n",
              "0        0.513            -0.570            1.607                -0.269   \n",
              "1        0.450            -0.389            1.683                 0.074   \n",
              "2       -2.787             2.152            1.092                 4.893   \n",
              "3        0.076            -0.389            1.423                 0.074   \n",
              "4        0.040            -0.549            1.209                -0.229   \n",
              "\n",
              "   Bytes  Bytes Sent  Bytes Received  Packets  Elapsed Time (sec)  pkts_sent  \\\n",
              "0 -0.017      -0.006          -0.030   -0.020              -0.118     -0.013   \n",
              "1 -0.016      -0.005          -0.029   -0.016              -0.161     -0.010   \n",
              "2 -0.017      -0.006          -0.030   -0.020               3.747     -0.013   \n",
              "3 -0.017      -0.005          -0.030   -0.017              -0.161     -0.010   \n",
              "4 -0.013      -0.004          -0.023   -0.014              -0.165     -0.009   \n",
              "\n",
              "   pkts_received  \n",
              "0         -0.027  \n",
              "1         -0.024  \n",
              "2         -0.027  \n",
              "3         -0.024  \n",
              "4         -0.020  "
            ],
            "text/html": [
              "\n",
              "  <div id=\"df-55de6d69-5cff-4e86-a4ce-033a42158bbe\">\n",
              "    <div class=\"colab-df-container\">\n",
              "      <div>\n",
              "<style scoped>\n",
              "    .dataframe tbody tr th:only-of-type {\n",
              "        vertical-align: middle;\n",
              "    }\n",
              "\n",
              "    .dataframe tbody tr th {\n",
              "        vertical-align: top;\n",
              "    }\n",
              "\n",
              "    .dataframe thead th {\n",
              "        text-align: right;\n",
              "    }\n",
              "</style>\n",
              "<table border=\"1\" class=\"dataframe\">\n",
              "  <thead>\n",
              "    <tr style=\"text-align: right;\">\n",
              "      <th></th>\n",
              "      <th>Source Port</th>\n",
              "      <th>Destination Port</th>\n",
              "      <th>NAT Source Port</th>\n",
              "      <th>NAT Destination Port</th>\n",
              "      <th>Bytes</th>\n",
              "      <th>Bytes Sent</th>\n",
              "      <th>Bytes Received</th>\n",
              "      <th>Packets</th>\n",
              "      <th>Elapsed Time (sec)</th>\n",
              "      <th>pkts_sent</th>\n",
              "      <th>pkts_received</th>\n",
              "    </tr>\n",
              "  </thead>\n",
              "  <tbody>\n",
              "    <tr>\n",
              "      <th>0</th>\n",
              "      <td>0.513</td>\n",
              "      <td>-0.570</td>\n",
              "      <td>1.607</td>\n",
              "      <td>-0.269</td>\n",
              "      <td>-0.017</td>\n",
              "      <td>-0.006</td>\n",
              "      <td>-0.030</td>\n",
              "      <td>-0.020</td>\n",
              "      <td>-0.118</td>\n",
              "      <td>-0.013</td>\n",
              "      <td>-0.027</td>\n",
              "    </tr>\n",
              "    <tr>\n",
              "      <th>1</th>\n",
              "      <td>0.450</td>\n",
              "      <td>-0.389</td>\n",
              "      <td>1.683</td>\n",
              "      <td>0.074</td>\n",
              "      <td>-0.016</td>\n",
              "      <td>-0.005</td>\n",
              "      <td>-0.029</td>\n",
              "      <td>-0.016</td>\n",
              "      <td>-0.161</td>\n",
              "      <td>-0.010</td>\n",
              "      <td>-0.024</td>\n",
              "    </tr>\n",
              "    <tr>\n",
              "      <th>2</th>\n",
              "      <td>-2.787</td>\n",
              "      <td>2.152</td>\n",
              "      <td>1.092</td>\n",
              "      <td>4.893</td>\n",
              "      <td>-0.017</td>\n",
              "      <td>-0.006</td>\n",
              "      <td>-0.030</td>\n",
              "      <td>-0.020</td>\n",
              "      <td>3.747</td>\n",
              "      <td>-0.013</td>\n",
              "      <td>-0.027</td>\n",
              "    </tr>\n",
              "    <tr>\n",
              "      <th>3</th>\n",
              "      <td>0.076</td>\n",
              "      <td>-0.389</td>\n",
              "      <td>1.423</td>\n",
              "      <td>0.074</td>\n",
              "      <td>-0.017</td>\n",
              "      <td>-0.005</td>\n",
              "      <td>-0.030</td>\n",
              "      <td>-0.017</td>\n",
              "      <td>-0.161</td>\n",
              "      <td>-0.010</td>\n",
              "      <td>-0.024</td>\n",
              "    </tr>\n",
              "    <tr>\n",
              "      <th>4</th>\n",
              "      <td>0.040</td>\n",
              "      <td>-0.549</td>\n",
              "      <td>1.209</td>\n",
              "      <td>-0.229</td>\n",
              "      <td>-0.013</td>\n",
              "      <td>-0.004</td>\n",
              "      <td>-0.023</td>\n",
              "      <td>-0.014</td>\n",
              "      <td>-0.165</td>\n",
              "      <td>-0.009</td>\n",
              "      <td>-0.020</td>\n",
              "    </tr>\n",
              "  </tbody>\n",
              "</table>\n",
              "</div>\n",
              "      <button class=\"colab-df-convert\" onclick=\"convertToInteractive('df-55de6d69-5cff-4e86-a4ce-033a42158bbe')\"\n",
              "              title=\"Convert this dataframe to an interactive table.\"\n",
              "              style=\"display:none;\">\n",
              "        \n",
              "  <svg xmlns=\"http://www.w3.org/2000/svg\" height=\"24px\"viewBox=\"0 0 24 24\"\n",
              "       width=\"24px\">\n",
              "    <path d=\"M0 0h24v24H0V0z\" fill=\"none\"/>\n",
              "    <path d=\"M18.56 5.44l.94 2.06.94-2.06 2.06-.94-2.06-.94-.94-2.06-.94 2.06-2.06.94zm-11 1L8.5 8.5l.94-2.06 2.06-.94-2.06-.94L8.5 2.5l-.94 2.06-2.06.94zm10 10l.94 2.06.94-2.06 2.06-.94-2.06-.94-.94-2.06-.94 2.06-2.06.94z\"/><path d=\"M17.41 7.96l-1.37-1.37c-.4-.4-.92-.59-1.43-.59-.52 0-1.04.2-1.43.59L10.3 9.45l-7.72 7.72c-.78.78-.78 2.05 0 2.83L4 21.41c.39.39.9.59 1.41.59.51 0 1.02-.2 1.41-.59l7.78-7.78 2.81-2.81c.8-.78.8-2.07 0-2.86zM5.41 20L4 18.59l7.72-7.72 1.47 1.35L5.41 20z\"/>\n",
              "  </svg>\n",
              "      </button>\n",
              "      \n",
              "  <style>\n",
              "    .colab-df-container {\n",
              "      display:flex;\n",
              "      flex-wrap:wrap;\n",
              "      gap: 12px;\n",
              "    }\n",
              "\n",
              "    .colab-df-convert {\n",
              "      background-color: #E8F0FE;\n",
              "      border: none;\n",
              "      border-radius: 50%;\n",
              "      cursor: pointer;\n",
              "      display: none;\n",
              "      fill: #1967D2;\n",
              "      height: 32px;\n",
              "      padding: 0 0 0 0;\n",
              "      width: 32px;\n",
              "    }\n",
              "\n",
              "    .colab-df-convert:hover {\n",
              "      background-color: #E2EBFA;\n",
              "      box-shadow: 0px 1px 2px rgba(60, 64, 67, 0.3), 0px 1px 3px 1px rgba(60, 64, 67, 0.15);\n",
              "      fill: #174EA6;\n",
              "    }\n",
              "\n",
              "    [theme=dark] .colab-df-convert {\n",
              "      background-color: #3B4455;\n",
              "      fill: #D2E3FC;\n",
              "    }\n",
              "\n",
              "    [theme=dark] .colab-df-convert:hover {\n",
              "      background-color: #434B5C;\n",
              "      box-shadow: 0px 1px 3px 1px rgba(0, 0, 0, 0.15);\n",
              "      filter: drop-shadow(0px 1px 2px rgba(0, 0, 0, 0.3));\n",
              "      fill: #FFFFFF;\n",
              "    }\n",
              "  </style>\n",
              "\n",
              "      <script>\n",
              "        const buttonEl =\n",
              "          document.querySelector('#df-55de6d69-5cff-4e86-a4ce-033a42158bbe button.colab-df-convert');\n",
              "        buttonEl.style.display =\n",
              "          google.colab.kernel.accessAllowed ? 'block' : 'none';\n",
              "\n",
              "        async function convertToInteractive(key) {\n",
              "          const element = document.querySelector('#df-55de6d69-5cff-4e86-a4ce-033a42158bbe');\n",
              "          const dataTable =\n",
              "            await google.colab.kernel.invokeFunction('convertToInteractive',\n",
              "                                                     [key], {});\n",
              "          if (!dataTable) return;\n",
              "\n",
              "          const docLinkHtml = 'Like what you see? Visit the ' +\n",
              "            '<a target=\"_blank\" href=https://colab.research.google.com/notebooks/data_table.ipynb>data table notebook</a>'\n",
              "            + ' to learn more about interactive tables.';\n",
              "          element.innerHTML = '';\n",
              "          dataTable['output_type'] = 'display_data';\n",
              "          await google.colab.output.renderOutput(dataTable, element);\n",
              "          const docLink = document.createElement('div');\n",
              "          docLink.innerHTML = docLinkHtml;\n",
              "          element.appendChild(docLink);\n",
              "        }\n",
              "      </script>\n",
              "    </div>\n",
              "  </div>\n",
              "  "
            ]
          },
          "metadata": {},
          "execution_count": 19
        }
      ]
    },
    {
      "cell_type": "code",
      "source": [
        "df_result.describe()"
      ],
      "metadata": {
        "colab": {
          "base_uri": "https://localhost:8080/",
          "height": 379
        },
        "id": "rgQFmXTXXXCs",
        "outputId": "4148ab92-7cfa-422f-ae81-1db231dde6bd"
      },
      "execution_count": null,
      "outputs": [
        {
          "output_type": "execute_result",
          "data": {
            "text/plain": [
              "       Source Port  Destination Port  NAT Source Port  NAT Destination Port  \\\n",
              "count    6.553e+04         6.553e+04        6.553e+04             6.553e+04   \n",
              "mean     4.858e-16         8.548e-16       -2.195e-15             1.516e-16   \n",
              "std      1.000e+00         1.000e+00        1.000e+00             1.000e+00   \n",
              "min     -3.238e+00        -5.728e-01       -8.777e-01            -2.743e-01   \n",
              "25%     -1.370e-02        -5.685e-01       -8.777e-01            -2.743e-01   \n",
              "50%      2.874e-01        -5.487e-01       -4.762e-01            -2.688e-01   \n",
              "75%      6.061e-01         2.395e-01        8.686e-01            -2.288e-01   \n",
              "max      1.058e+00         2.976e+00        2.105e+00             6.455e+00   \n",
              "\n",
              "           Bytes  Bytes Sent  Bytes Received    Packets  Elapsed Time (sec)  \\\n",
              "count  6.553e+04   6.553e+04       6.553e+04  6.553e+04           6.553e+04   \n",
              "mean   7.503e-17  -5.222e-16      -3.271e-15  2.312e-15          -4.138e-15   \n",
              "std    1.000e+00   1.000e+00       1.000e+00  1.000e+00           1.000e+00   \n",
              "min   -1.728e-02  -5.832e-03      -3.034e-02 -1.985e-02          -2.177e-01   \n",
              "25%   -1.728e-02  -5.831e-03      -3.034e-02 -1.985e-02          -2.177e-01   \n",
              "50%   -1.726e-02  -5.824e-03      -3.031e-02 -1.965e-02          -1.681e-01   \n",
              "75%   -1.715e-02  -5.793e-03      -3.016e-02 -1.887e-02          -1.185e-01   \n",
              "max    2.259e+02   2.478e+02       1.302e+02  2.018e+02           3.557e+01   \n",
              "\n",
              "       pkts_sent  pkts_received  \n",
              "count  6.553e+04      6.553e+04  \n",
              "mean   3.289e-16      8.222e-16  \n",
              "std    1.000e+00      1.000e+00  \n",
              "min   -1.255e-02     -2.765e-02  \n",
              "25%   -1.255e-02     -2.765e-02  \n",
              "50%   -1.255e-02     -2.720e-02  \n",
              "75%   -1.193e-02     -2.675e-02  \n",
              "max    2.322e+02      1.471e+02  "
            ],
            "text/html": [
              "\n",
              "  <div id=\"df-42f84b80-5ab8-4fee-bc10-f14c5c6295e6\">\n",
              "    <div class=\"colab-df-container\">\n",
              "      <div>\n",
              "<style scoped>\n",
              "    .dataframe tbody tr th:only-of-type {\n",
              "        vertical-align: middle;\n",
              "    }\n",
              "\n",
              "    .dataframe tbody tr th {\n",
              "        vertical-align: top;\n",
              "    }\n",
              "\n",
              "    .dataframe thead th {\n",
              "        text-align: right;\n",
              "    }\n",
              "</style>\n",
              "<table border=\"1\" class=\"dataframe\">\n",
              "  <thead>\n",
              "    <tr style=\"text-align: right;\">\n",
              "      <th></th>\n",
              "      <th>Source Port</th>\n",
              "      <th>Destination Port</th>\n",
              "      <th>NAT Source Port</th>\n",
              "      <th>NAT Destination Port</th>\n",
              "      <th>Bytes</th>\n",
              "      <th>Bytes Sent</th>\n",
              "      <th>Bytes Received</th>\n",
              "      <th>Packets</th>\n",
              "      <th>Elapsed Time (sec)</th>\n",
              "      <th>pkts_sent</th>\n",
              "      <th>pkts_received</th>\n",
              "    </tr>\n",
              "  </thead>\n",
              "  <tbody>\n",
              "    <tr>\n",
              "      <th>count</th>\n",
              "      <td>6.553e+04</td>\n",
              "      <td>6.553e+04</td>\n",
              "      <td>6.553e+04</td>\n",
              "      <td>6.553e+04</td>\n",
              "      <td>6.553e+04</td>\n",
              "      <td>6.553e+04</td>\n",
              "      <td>6.553e+04</td>\n",
              "      <td>6.553e+04</td>\n",
              "      <td>6.553e+04</td>\n",
              "      <td>6.553e+04</td>\n",
              "      <td>6.553e+04</td>\n",
              "    </tr>\n",
              "    <tr>\n",
              "      <th>mean</th>\n",
              "      <td>4.858e-16</td>\n",
              "      <td>8.548e-16</td>\n",
              "      <td>-2.195e-15</td>\n",
              "      <td>1.516e-16</td>\n",
              "      <td>7.503e-17</td>\n",
              "      <td>-5.222e-16</td>\n",
              "      <td>-3.271e-15</td>\n",
              "      <td>2.312e-15</td>\n",
              "      <td>-4.138e-15</td>\n",
              "      <td>3.289e-16</td>\n",
              "      <td>8.222e-16</td>\n",
              "    </tr>\n",
              "    <tr>\n",
              "      <th>std</th>\n",
              "      <td>1.000e+00</td>\n",
              "      <td>1.000e+00</td>\n",
              "      <td>1.000e+00</td>\n",
              "      <td>1.000e+00</td>\n",
              "      <td>1.000e+00</td>\n",
              "      <td>1.000e+00</td>\n",
              "      <td>1.000e+00</td>\n",
              "      <td>1.000e+00</td>\n",
              "      <td>1.000e+00</td>\n",
              "      <td>1.000e+00</td>\n",
              "      <td>1.000e+00</td>\n",
              "    </tr>\n",
              "    <tr>\n",
              "      <th>min</th>\n",
              "      <td>-3.238e+00</td>\n",
              "      <td>-5.728e-01</td>\n",
              "      <td>-8.777e-01</td>\n",
              "      <td>-2.743e-01</td>\n",
              "      <td>-1.728e-02</td>\n",
              "      <td>-5.832e-03</td>\n",
              "      <td>-3.034e-02</td>\n",
              "      <td>-1.985e-02</td>\n",
              "      <td>-2.177e-01</td>\n",
              "      <td>-1.255e-02</td>\n",
              "      <td>-2.765e-02</td>\n",
              "    </tr>\n",
              "    <tr>\n",
              "      <th>25%</th>\n",
              "      <td>-1.370e-02</td>\n",
              "      <td>-5.685e-01</td>\n",
              "      <td>-8.777e-01</td>\n",
              "      <td>-2.743e-01</td>\n",
              "      <td>-1.728e-02</td>\n",
              "      <td>-5.831e-03</td>\n",
              "      <td>-3.034e-02</td>\n",
              "      <td>-1.985e-02</td>\n",
              "      <td>-2.177e-01</td>\n",
              "      <td>-1.255e-02</td>\n",
              "      <td>-2.765e-02</td>\n",
              "    </tr>\n",
              "    <tr>\n",
              "      <th>50%</th>\n",
              "      <td>2.874e-01</td>\n",
              "      <td>-5.487e-01</td>\n",
              "      <td>-4.762e-01</td>\n",
              "      <td>-2.688e-01</td>\n",
              "      <td>-1.726e-02</td>\n",
              "      <td>-5.824e-03</td>\n",
              "      <td>-3.031e-02</td>\n",
              "      <td>-1.965e-02</td>\n",
              "      <td>-1.681e-01</td>\n",
              "      <td>-1.255e-02</td>\n",
              "      <td>-2.720e-02</td>\n",
              "    </tr>\n",
              "    <tr>\n",
              "      <th>75%</th>\n",
              "      <td>6.061e-01</td>\n",
              "      <td>2.395e-01</td>\n",
              "      <td>8.686e-01</td>\n",
              "      <td>-2.288e-01</td>\n",
              "      <td>-1.715e-02</td>\n",
              "      <td>-5.793e-03</td>\n",
              "      <td>-3.016e-02</td>\n",
              "      <td>-1.887e-02</td>\n",
              "      <td>-1.185e-01</td>\n",
              "      <td>-1.193e-02</td>\n",
              "      <td>-2.675e-02</td>\n",
              "    </tr>\n",
              "    <tr>\n",
              "      <th>max</th>\n",
              "      <td>1.058e+00</td>\n",
              "      <td>2.976e+00</td>\n",
              "      <td>2.105e+00</td>\n",
              "      <td>6.455e+00</td>\n",
              "      <td>2.259e+02</td>\n",
              "      <td>2.478e+02</td>\n",
              "      <td>1.302e+02</td>\n",
              "      <td>2.018e+02</td>\n",
              "      <td>3.557e+01</td>\n",
              "      <td>2.322e+02</td>\n",
              "      <td>1.471e+02</td>\n",
              "    </tr>\n",
              "  </tbody>\n",
              "</table>\n",
              "</div>\n",
              "      <button class=\"colab-df-convert\" onclick=\"convertToInteractive('df-42f84b80-5ab8-4fee-bc10-f14c5c6295e6')\"\n",
              "              title=\"Convert this dataframe to an interactive table.\"\n",
              "              style=\"display:none;\">\n",
              "        \n",
              "  <svg xmlns=\"http://www.w3.org/2000/svg\" height=\"24px\"viewBox=\"0 0 24 24\"\n",
              "       width=\"24px\">\n",
              "    <path d=\"M0 0h24v24H0V0z\" fill=\"none\"/>\n",
              "    <path d=\"M18.56 5.44l.94 2.06.94-2.06 2.06-.94-2.06-.94-.94-2.06-.94 2.06-2.06.94zm-11 1L8.5 8.5l.94-2.06 2.06-.94-2.06-.94L8.5 2.5l-.94 2.06-2.06.94zm10 10l.94 2.06.94-2.06 2.06-.94-2.06-.94-.94-2.06-.94 2.06-2.06.94z\"/><path d=\"M17.41 7.96l-1.37-1.37c-.4-.4-.92-.59-1.43-.59-.52 0-1.04.2-1.43.59L10.3 9.45l-7.72 7.72c-.78.78-.78 2.05 0 2.83L4 21.41c.39.39.9.59 1.41.59.51 0 1.02-.2 1.41-.59l7.78-7.78 2.81-2.81c.8-.78.8-2.07 0-2.86zM5.41 20L4 18.59l7.72-7.72 1.47 1.35L5.41 20z\"/>\n",
              "  </svg>\n",
              "      </button>\n",
              "      \n",
              "  <style>\n",
              "    .colab-df-container {\n",
              "      display:flex;\n",
              "      flex-wrap:wrap;\n",
              "      gap: 12px;\n",
              "    }\n",
              "\n",
              "    .colab-df-convert {\n",
              "      background-color: #E8F0FE;\n",
              "      border: none;\n",
              "      border-radius: 50%;\n",
              "      cursor: pointer;\n",
              "      display: none;\n",
              "      fill: #1967D2;\n",
              "      height: 32px;\n",
              "      padding: 0 0 0 0;\n",
              "      width: 32px;\n",
              "    }\n",
              "\n",
              "    .colab-df-convert:hover {\n",
              "      background-color: #E2EBFA;\n",
              "      box-shadow: 0px 1px 2px rgba(60, 64, 67, 0.3), 0px 1px 3px 1px rgba(60, 64, 67, 0.15);\n",
              "      fill: #174EA6;\n",
              "    }\n",
              "\n",
              "    [theme=dark] .colab-df-convert {\n",
              "      background-color: #3B4455;\n",
              "      fill: #D2E3FC;\n",
              "    }\n",
              "\n",
              "    [theme=dark] .colab-df-convert:hover {\n",
              "      background-color: #434B5C;\n",
              "      box-shadow: 0px 1px 3px 1px rgba(0, 0, 0, 0.15);\n",
              "      filter: drop-shadow(0px 1px 2px rgba(0, 0, 0, 0.3));\n",
              "      fill: #FFFFFF;\n",
              "    }\n",
              "  </style>\n",
              "\n",
              "      <script>\n",
              "        const buttonEl =\n",
              "          document.querySelector('#df-42f84b80-5ab8-4fee-bc10-f14c5c6295e6 button.colab-df-convert');\n",
              "        buttonEl.style.display =\n",
              "          google.colab.kernel.accessAllowed ? 'block' : 'none';\n",
              "\n",
              "        async function convertToInteractive(key) {\n",
              "          const element = document.querySelector('#df-42f84b80-5ab8-4fee-bc10-f14c5c6295e6');\n",
              "          const dataTable =\n",
              "            await google.colab.kernel.invokeFunction('convertToInteractive',\n",
              "                                                     [key], {});\n",
              "          if (!dataTable) return;\n",
              "\n",
              "          const docLinkHtml = 'Like what you see? Visit the ' +\n",
              "            '<a target=\"_blank\" href=https://colab.research.google.com/notebooks/data_table.ipynb>data table notebook</a>'\n",
              "            + ' to learn more about interactive tables.';\n",
              "          element.innerHTML = '';\n",
              "          dataTable['output_type'] = 'display_data';\n",
              "          await google.colab.output.renderOutput(dataTable, element);\n",
              "          const docLink = document.createElement('div');\n",
              "          docLink.innerHTML = docLinkHtml;\n",
              "          element.appendChild(docLink);\n",
              "        }\n",
              "      </script>\n",
              "    </div>\n",
              "  </div>\n",
              "  "
            ]
          },
          "metadata": {},
          "execution_count": 20
        }
      ]
    },
    {
      "cell_type": "code",
      "source": [
        "df_result['Action'] = firewall0.Action"
      ],
      "metadata": {
        "id": "Pwc8m4Optx_l"
      },
      "execution_count": null,
      "outputs": []
    },
    {
      "cell_type": "code",
      "source": [
        "num_cols"
      ],
      "metadata": {
        "colab": {
          "base_uri": "https://localhost:8080/"
        },
        "id": "8H4fkJUdvNH9",
        "outputId": "918c531b-c312-4a99-eda0-83fff5e0c4bc"
      },
      "execution_count": null,
      "outputs": [
        {
          "output_type": "execute_result",
          "data": {
            "text/plain": [
              "Index(['Source Port', 'Destination Port', 'NAT Source Port',\n",
              "       'NAT Destination Port', 'Bytes', 'Bytes Sent', 'Bytes Received',\n",
              "       'Packets', 'Elapsed Time (sec)', 'pkts_sent', 'pkts_received'],\n",
              "      dtype='object')"
            ]
          },
          "metadata": {},
          "execution_count": 22
        }
      ]
    },
    {
      "cell_type": "code",
      "source": [
        "# import plotly.express as px\n",
        "# fig = px.scatter_matrix(df_result,dimensions=['Source Port', 'Destination Port', 'NAT Source Port',\n",
        "#        'NAT Destination Port'], color='Action')\n",
        "# fig.show()"
      ],
      "metadata": {
        "id": "jBMHdk9IYQoQ"
      },
      "execution_count": null,
      "outputs": []
    },
    {
      "cell_type": "code",
      "source": [
        "from sklearn.model_selection import train_test_split"
      ],
      "metadata": {
        "id": "YcTlPPmfGu2l"
      },
      "execution_count": null,
      "outputs": []
    },
    {
      "cell_type": "markdown",
      "source": [
        "###spliting data into train, test and validation"
      ],
      "metadata": {
        "id": "jpjg2GQzNOt9"
      }
    },
    {
      "cell_type": "code",
      "source": [
        "x = df_result.drop(columns='Action')\n",
        "y = df_result.Action\n",
        "x_train, x_rem, y_train, y_rem = train_test_split(x, y, train_size=0.7) "
      ],
      "metadata": {
        "id": "hsKvd3RhIgYK"
      },
      "execution_count": null,
      "outputs": []
    },
    {
      "cell_type": "code",
      "source": [
        "x_valid, x_test, y_valid, y_test = train_test_split(x_rem, y_rem, test_size=0.7)"
      ],
      "metadata": {
        "id": "xC3XtJLZJRar"
      },
      "execution_count": null,
      "outputs": []
    },
    {
      "cell_type": "code",
      "source": [
        "display(x_train.shape, y_train.shape, x_test.shape, y_test.shape, x_valid.shape, y_valid.shape)"
      ],
      "metadata": {
        "colab": {
          "base_uri": "https://localhost:8080/"
        },
        "id": "GpaKrRLlJqqR",
        "outputId": "f85b72c2-9a5b-406f-b900-21d9c30042e8"
      },
      "execution_count": null,
      "outputs": [
        {
          "output_type": "display_data",
          "data": {
            "text/plain": [
              "(45872, 11)"
            ]
          },
          "metadata": {}
        },
        {
          "output_type": "display_data",
          "data": {
            "text/plain": [
              "(45872,)"
            ]
          },
          "metadata": {}
        },
        {
          "output_type": "display_data",
          "data": {
            "text/plain": [
              "(13762, 11)"
            ]
          },
          "metadata": {}
        },
        {
          "output_type": "display_data",
          "data": {
            "text/plain": [
              "(13762,)"
            ]
          },
          "metadata": {}
        },
        {
          "output_type": "display_data",
          "data": {
            "text/plain": [
              "(5898, 11)"
            ]
          },
          "metadata": {}
        },
        {
          "output_type": "display_data",
          "data": {
            "text/plain": [
              "(5898,)"
            ]
          },
          "metadata": {}
        }
      ]
    },
    {
      "cell_type": "markdown",
      "source": [
        "###stochastic gradient descent classification"
      ],
      "metadata": {
        "id": "1wTUDHC8NjEU"
      }
    },
    {
      "cell_type": "code",
      "source": [
        "from sklearn.linear_model import SGDClassifier\n",
        "\n",
        "sgd_clf = SGDClassifier()\n",
        "sgd_clf.fit(x_train, y_train)"
      ],
      "metadata": {
        "colab": {
          "base_uri": "https://localhost:8080/"
        },
        "id": "vpqkEqezKTTw",
        "outputId": "780bc735-2006-495b-c86b-a985e0b19f1d"
      },
      "execution_count": null,
      "outputs": [
        {
          "output_type": "execute_result",
          "data": {
            "text/plain": [
              "SGDClassifier()"
            ]
          },
          "metadata": {},
          "execution_count": 28
        }
      ]
    },
    {
      "cell_type": "code",
      "source": [
        "from sklearn.model_selection import cross_val_score\n",
        "cross_val_score(sgd_clf, x_train, y_train, cv=3, scoring='accuracy')"
      ],
      "metadata": {
        "colab": {
          "base_uri": "https://localhost:8080/"
        },
        "id": "MGgALgZ2M3Iz",
        "outputId": "3c2d29b1-6674-446f-de3f-2607365c0456"
      },
      "execution_count": null,
      "outputs": [
        {
          "output_type": "execute_result",
          "data": {
            "text/plain": [
              "array([0.98345432, 0.98391211, 0.98593852])"
            ]
          },
          "metadata": {},
          "execution_count": 29
        }
      ]
    },
    {
      "cell_type": "code",
      "source": [
        "from sklearn.model_selection import cross_val_predict\n",
        "y_train_pred = cross_val_predict(sgd_clf, x_train, y_train, cv=3)"
      ],
      "metadata": {
        "id": "ASiGQ827RCOH"
      },
      "execution_count": null,
      "outputs": []
    },
    {
      "cell_type": "code",
      "source": [
        "from sklearn.metrics import confusion_matrix\n",
        "confusion_matrix(y_train, y_train_pred)"
      ],
      "metadata": {
        "colab": {
          "base_uri": "https://localhost:8080/"
        },
        "id": "uOan90hYSpiw",
        "outputId": "900ee8ab-9622-4f9d-e396-04cdc7a6bc6b"
      },
      "execution_count": null,
      "outputs": [
        {
          "output_type": "execute_result",
          "data": {
            "text/plain": [
              "array([[26232,   106,    71,     0],\n",
              "       [   10,  9994,   492,     0],\n",
              "       [    0,     0,  8930,     0],\n",
              "       [    8,    29,     0,     0]])"
            ]
          },
          "metadata": {},
          "execution_count": 31
        }
      ]
    },
    {
      "cell_type": "code",
      "source": [
        "from sklearn.metrics import precision_score, recall_score, f1_score\n",
        "precision_score(y_train, y_train_pred, average='weighted')"
      ],
      "metadata": {
        "colab": {
          "base_uri": "https://localhost:8080/"
        },
        "id": "NiNfCcOASzV3",
        "outputId": "f9a68ed8-4361-4a35-878a-f9d355dd59d6"
      },
      "execution_count": null,
      "outputs": [
        {
          "output_type": "stream",
          "name": "stderr",
          "text": [
            "/usr/local/lib/python3.7/dist-packages/sklearn/metrics/_classification.py:1318: UndefinedMetricWarning: Precision is ill-defined and being set to 0.0 in labels with no predicted samples. Use `zero_division` parameter to control this behavior.\n",
            "  _warn_prf(average, modifier, msg_start, len(result))\n"
          ]
        },
        {
          "output_type": "execute_result",
          "data": {
            "text/plain": [
              "0.9842036390690831"
            ]
          },
          "metadata": {},
          "execution_count": 32
        }
      ]
    },
    {
      "cell_type": "code",
      "source": [
        "recall_score(y_train, y_train_pred, average='weighted')"
      ],
      "metadata": {
        "colab": {
          "base_uri": "https://localhost:8080/"
        },
        "id": "nqt-intzTPj2",
        "outputId": "34bc08a5-af4d-4076-8c46-f9d1de2707d8"
      },
      "execution_count": null,
      "outputs": [
        {
          "output_type": "execute_result",
          "data": {
            "text/plain": [
              "0.9843913498430416"
            ]
          },
          "metadata": {},
          "execution_count": 33
        }
      ]
    },
    {
      "cell_type": "code",
      "source": [
        "f1_score(y_train, y_train_pred, average='weighted')"
      ],
      "metadata": {
        "colab": {
          "base_uri": "https://localhost:8080/"
        },
        "id": "_ZjODiFyWf9B",
        "outputId": "5f9248cd-1fed-4fc4-f6be-0984a5b0a9b6"
      },
      "execution_count": null,
      "outputs": [
        {
          "output_type": "execute_result",
          "data": {
            "text/plain": [
              "0.9840456219710771"
            ]
          },
          "metadata": {},
          "execution_count": 34
        }
      ]
    },
    {
      "cell_type": "code",
      "source": [
        "def prec_rec_f1(y_train, y_train_pred, average):\n",
        "  p = precision_score(y_train, y_train_pred, average=average)\n",
        "  r = recall_score(y_train, y_train_pred, average=average)\n",
        "  f = f1_score(y_train, y_train_pred, average=average)\n",
        "  print(\"precision score: \", p)\n",
        "  print(\"\\nrecall score: \", r)\n",
        "  print(\"\\nf1_score: \", f)"
      ],
      "metadata": {
        "id": "Kpkr0A85XbbE"
      },
      "execution_count": null,
      "outputs": []
    },
    {
      "cell_type": "code",
      "source": [
        "y_valid_pred = sgd_clf.predict(x_valid)"
      ],
      "metadata": {
        "id": "0eoVZPGWW7nl"
      },
      "execution_count": null,
      "outputs": []
    },
    {
      "cell_type": "code",
      "source": [
        "prec_rec_f1(y_valid, y_valid_pred, 'weighted')"
      ],
      "metadata": {
        "colab": {
          "base_uri": "https://localhost:8080/"
        },
        "id": "cgIgNrfgXR5N",
        "outputId": "2b3736c3-9f07-4f47-ac5d-15ae14459f7b"
      },
      "execution_count": null,
      "outputs": [
        {
          "output_type": "stream",
          "name": "stdout",
          "text": [
            "precision score:  0.9829762515760797\n",
            "\n",
            "recall score:  0.982875551034249\n",
            "\n",
            "f1_score:  0.9826645379973394\n"
          ]
        },
        {
          "output_type": "stream",
          "name": "stderr",
          "text": [
            "/usr/local/lib/python3.7/dist-packages/sklearn/metrics/_classification.py:1318: UndefinedMetricWarning: Precision is ill-defined and being set to 0.0 in labels with no predicted samples. Use `zero_division` parameter to control this behavior.\n",
            "  _warn_prf(average, modifier, msg_start, len(result))\n"
          ]
        }
      ]
    },
    {
      "cell_type": "markdown",
      "source": [
        "###linear SVM classifier"
      ],
      "metadata": {
        "id": "xWW6CSwg7PXm"
      }
    },
    {
      "cell_type": "code",
      "source": [
        "import numpy as np\n",
        "from sklearn.pipeline import Pipeline\n",
        "from sklearn.svm import LinearSVC"
      ],
      "metadata": {
        "id": "aFEJKJYu3w0A"
      },
      "execution_count": null,
      "outputs": []
    },
    {
      "cell_type": "code",
      "source": [
        "svm_clf = Pipeline((\n",
        "    ('scalar', StandardScaler()),\n",
        "    ('linear_svc', LinearSVC(C=1, loss='hinge'))\n",
        "))\n",
        "svm_clf.fit(x_train, y_train)"
      ],
      "metadata": {
        "colab": {
          "base_uri": "https://localhost:8080/"
        },
        "id": "jpYEgRTO41p5",
        "outputId": "9b6f0c2d-230a-4e38-dda7-aafd90a69466"
      },
      "execution_count": null,
      "outputs": [
        {
          "output_type": "stream",
          "name": "stderr",
          "text": [
            "/usr/local/lib/python3.7/dist-packages/sklearn/svm/_base.py:1208: ConvergenceWarning: Liblinear failed to converge, increase the number of iterations.\n",
            "  ConvergenceWarning,\n"
          ]
        },
        {
          "output_type": "execute_result",
          "data": {
            "text/plain": [
              "Pipeline(steps=[('scalar', StandardScaler()),\n",
              "                ('linear_svc', LinearSVC(C=1, loss='hinge'))])"
            ]
          },
          "metadata": {},
          "execution_count": 46
        }
      ]
    },
    {
      "cell_type": "code",
      "source": [
        "y_valid_pred_svm = svm_clf.predict(x_valid)"
      ],
      "metadata": {
        "id": "NOPBmyvM6G_f"
      },
      "execution_count": null,
      "outputs": []
    },
    {
      "cell_type": "code",
      "source": [
        "prec_rec_f1(y_valid, y_valid_pred_svm, 'weighted')"
      ],
      "metadata": {
        "colab": {
          "base_uri": "https://localhost:8080/"
        },
        "id": "GT8bS1rv55uK",
        "outputId": "2ed40907-625a-47a6-c113-2136a964225a"
      },
      "execution_count": null,
      "outputs": [
        {
          "output_type": "stream",
          "name": "stderr",
          "text": [
            "/usr/local/lib/python3.7/dist-packages/sklearn/metrics/_classification.py:1318: UndefinedMetricWarning: Precision is ill-defined and being set to 0.0 in labels with no predicted samples. Use `zero_division` parameter to control this behavior.\n",
            "  _warn_prf(average, modifier, msg_start, len(result))\n"
          ]
        },
        {
          "output_type": "stream",
          "name": "stdout",
          "text": [
            "precision score:  0.9850230736561792\n",
            "\n",
            "recall score:  0.9850796880298406\n",
            "\n",
            "f1_score:  0.9848439406682341\n"
          ]
        }
      ]
    },
    {
      "cell_type": "markdown",
      "source": [
        "###random forest classifier"
      ],
      "metadata": {
        "id": "NAyrtucv6eta"
      }
    },
    {
      "cell_type": "code",
      "source": [
        "from sklearn.ensemble import RandomForestClassifier"
      ],
      "metadata": {
        "id": "FCZ0gvaW7ay8"
      },
      "execution_count": null,
      "outputs": []
    },
    {
      "cell_type": "code",
      "source": [
        "rnd_clf = RandomForestClassifier(n_estimators=500, max_leaf_nodes=16, n_jobs=-1)\n",
        "rnd_clf.fit(x_train, y_train)"
      ],
      "metadata": {
        "colab": {
          "base_uri": "https://localhost:8080/"
        },
        "id": "qyKyhhs97urw",
        "outputId": "6f805cc0-3475-4ccb-c6dc-7f672686ccab"
      },
      "execution_count": null,
      "outputs": [
        {
          "output_type": "execute_result",
          "data": {
            "text/plain": [
              "RandomForestClassifier(max_leaf_nodes=16, n_estimators=500, n_jobs=-1)"
            ]
          },
          "metadata": {},
          "execution_count": 51
        }
      ]
    },
    {
      "cell_type": "code",
      "source": [
        "y_valid_pred_rf = rnd_clf.predict(x_valid)"
      ],
      "metadata": {
        "id": "6IYfbaTg79cV"
      },
      "execution_count": null,
      "outputs": []
    },
    {
      "cell_type": "code",
      "source": [
        "prec_rec_f1(y_valid, y_valid_pred_rf, 'weighted')"
      ],
      "metadata": {
        "colab": {
          "base_uri": "https://localhost:8080/"
        },
        "id": "kulbNYSr8KCN",
        "outputId": "659ced7d-5542-4987-d336-e06697fa227f"
      },
      "execution_count": null,
      "outputs": [
        {
          "output_type": "stream",
          "name": "stdout",
          "text": [
            "precision score:  0.997798038065856\n",
            "\n",
            "recall score:  0.9983045100033909\n",
            "\n",
            "f1_score:  0.998050706011122\n"
          ]
        },
        {
          "output_type": "stream",
          "name": "stderr",
          "text": [
            "/usr/local/lib/python3.7/dist-packages/sklearn/metrics/_classification.py:1318: UndefinedMetricWarning: Precision is ill-defined and being set to 0.0 in labels with no predicted samples. Use `zero_division` parameter to control this behavior.\n",
            "  _warn_prf(average, modifier, msg_start, len(result))\n"
          ]
        }
      ]
    },
    {
      "cell_type": "code",
      "source": [
        ""
      ],
      "metadata": {
        "id": "HGYMZ7vS8Nvf"
      },
      "execution_count": null,
      "outputs": []
    }
  ]
}