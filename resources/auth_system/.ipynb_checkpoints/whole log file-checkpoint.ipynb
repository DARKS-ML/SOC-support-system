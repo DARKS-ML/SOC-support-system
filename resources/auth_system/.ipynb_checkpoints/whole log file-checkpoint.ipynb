{
 "cells": [
  {
   "cell_type": "markdown",
   "metadata": {
    "colab_type": "text",
    "id": "view-in-github"
   },
   "source": [
    "<a href=\"https://colab.research.google.com/github/kashindra-mahato/SOC-support-system/blob/kashindra/authlog_training_testing.ipynb\" target=\"_parent\"><img src=\"https://colab.research.google.com/assets/colab-badge.svg\" alt=\"Open In Colab\"/></a>"
   ]
  },
  {
   "cell_type": "code",
   "execution_count": 1,
   "metadata": {
    "colab": {
     "base_uri": "https://localhost:8080/"
    },
    "id": "K9YadfRrno8E",
    "outputId": "78262d80-19d0-4a31-e83b-022f9288f9f9"
   },
   "outputs": [],
   "source": [
    "# from google.colab import drive\n",
    "# drive.mount('/content/drive')"
   ]
  },
  {
   "cell_type": "markdown",
   "metadata": {
    "id": "hxIrS_0BoOWK"
   },
   "source": [
    "##Imports"
   ]
  },
  {
   "cell_type": "code",
   "execution_count": 2,
   "metadata": {
    "id": "13wC8EpZn2Z1"
   },
   "outputs": [],
   "source": [
    "import pandas as pd\n",
    "import numpy as np\n",
    "import re\n",
    "from sklearn.feature_extraction.text import TfidfVectorizer\n",
    "from sklearn.decomposition import PCA\n",
    "from sklearn.cluster import KMeans\n",
    "from sklearn.linear_model import SGDClassifier\n",
    "from sklearn.model_selection import train_test_split\n",
    "from scipy.spatial import distance\n",
    "import matplotlib.pyplot as plt\n",
    "import pickle"
   ]
  },
  {
   "cell_type": "markdown",
   "metadata": {
    "id": "R-nr8ItxoMHd"
   },
   "source": [
    "##Parser for auth"
   ]
  },
  {
   "cell_type": "code",
   "execution_count": 3,
   "metadata": {
    "id": "hb0jBu1doYVx"
   },
   "outputs": [],
   "source": [
    "def authParser(log_file):\n",
    "  file_name = log_file\n",
    "  file = open(file_name, \"r\")\n",
    "  data = []\n",
    "  order = [\"date\", \"time\", \"ip\", \"process\", \"event\"]\n",
    "  \n",
    "  for line in file.readlines():\n",
    "    split1 = re.split(\":\", line, 3)\n",
    "    event = split1[3]\n",
    "    date = re.findall(\"^\\S+\\s+[0-9]{2}\", line)\n",
    "    time = re.findall(\"([0-9]{2}\\\\:[0-9]{2}\\\\:[0-9]{2})\", line)[0]\n",
    "    ip = re.findall(\"([a-z]{2}\\\\-[0-9]*\\\\-[0-9]*\\\\-[0-9]*\\\\-[0-9]*)\", line)[0]\n",
    "    process = re.findall(\"([a-zA-Z]*\\\\[[0-9]*\\\\])\", line)[0]\n",
    "    details = [date, time, ip, process, event]\n",
    "    structure = {key:value for key, value in zip(order, details)}\n",
    "    data.append(structure)\n",
    "  return data"
   ]
  },
  {
   "cell_type": "markdown",
   "metadata": {
    "id": "VqAk7Tje7-CJ"
   },
   "source": [
    "##parser for single line(string)"
   ]
  },
  {
   "cell_type": "code",
   "execution_count": 4,
   "metadata": {
    "id": "FXL4bcsZ8DJw"
   },
   "outputs": [],
   "source": [
    "def authParserLine(line):\n",
    "  order = [\"date\", \"time\", \"ip\", \"process\", \"event\"]\n",
    "  \n",
    "  split1 = re.split(\":\", line, 3)\n",
    "  event = split1[3]\n",
    "  date = re.findall(\"^\\S+\\s+[0-9]{2}\", line)\n",
    "  time = re.findall(\"([0-9]{2}\\\\:[0-9]{2}\\\\:[0-9]{2})\", line)[0]\n",
    "  ip = re.findall(\"([a-z]{2}\\\\-[0-9]*\\\\-[0-9]*\\\\-[0-9]*\\\\-[0-9]*)\", line)[0]\n",
    "  process = re.findall(\"([a-zA-Z]*\\\\[[0-9]*\\\\])\", line)[0]\n",
    "  details = [date, time, ip, process, event]\n",
    "  structure = {key:value for key, value in zip(order, details)}\n",
    "  \n",
    "  return structure"
   ]
  },
  {
   "cell_type": "markdown",
   "metadata": {
    "id": "ER1J2eC0ocLx"
   },
   "source": [
    "##function for Cleaning"
   ]
  },
  {
   "cell_type": "code",
   "execution_count": 5,
   "metadata": {
    "id": "21kKorxCohr6"
   },
   "outputs": [],
   "source": [
    "def clean(dataframe, column_name):\n",
    "  dataframe[column_name] = dataframe[column_name].str.lower()\n",
    "  # Remove numbers and special-characters from Event\n",
    "  dataframe[column_name] = dataframe[column_name].str.replace('\\d+', '')\n",
    "  dataframe[column_name] = dataframe[column_name].str.replace(r'[^\\w\\s]+', '')\n",
    "  # remove after 'user' including user :(\n",
    "  dataframe[column_name] = dataframe[column_name].apply(lambda x: x.split(' user ')[0])\n",
    "  return dataframe"
   ]
  },
  {
   "cell_type": "markdown",
   "metadata": {
    "id": "aJjteRZvoild"
   },
   "source": [
    "##Stop word remover"
   ]
  },
  {
   "cell_type": "code",
   "execution_count": 6,
   "metadata": {
    "id": "TsCeyfdkojY1"
   },
   "outputs": [],
   "source": [
    "def remStopWord(dataframe, column_name, s_words):\n",
    "  import nltk\n",
    "  from nltk.corpus import stopwords\n",
    "  nltk.download('stopwords')\n",
    "  all_stopwords = stopwords.words('english')\n",
    "  all_stopwords.extend(s_words)\n",
    "  dataframe[column_name] = dataframe[column_name].apply(lambda x: ' '.join([word for word in x.split() if word not in (all_stopwords)]))\n",
    "  return dataframe"
   ]
  },
  {
   "cell_type": "markdown",
   "metadata": {
    "id": "j4ZnY6gDo1u6"
   },
   "source": [
    "##Tokenizer"
   ]
  },
  {
   "cell_type": "code",
   "execution_count": 7,
   "metadata": {
    "id": "8S6CjLz8ojV6"
   },
   "outputs": [],
   "source": [
    "def authToken(input_data):\n",
    "  return list(set(str(input_data).split(' ')))"
   ]
  },
  {
   "cell_type": "markdown",
   "metadata": {
    "id": "6HPYd3LXpA4E"
   },
   "source": [
    "##Vectorizer"
   ]
  },
  {
   "cell_type": "code",
   "execution_count": 8,
   "metadata": {
    "id": "NLDeR3_FpDks"
   },
   "outputs": [],
   "source": [
    "def authVectorizer(path, input_data):\n",
    "  vectorizer = TfidfVectorizer(tokenizer=authToken)\n",
    "  vectorizer.fit(input_data)\n",
    "  vector_op = vectorizer.transform(input_data)\n",
    "  pickle.dump(vectorizer, open(path + 'auth_vectorizer_model.sav', 'wb'))\n",
    "  return vector_op, vectorizer"
   ]
  },
  {
   "cell_type": "markdown",
   "metadata": {
    "id": "y2SQLUITpHL5"
   },
   "source": [
    "##principle component analyzer"
   ]
  },
  {
   "cell_type": "code",
   "execution_count": 9,
   "metadata": {
    "id": "3muAERsIpNHV"
   },
   "outputs": [],
   "source": [
    "def pca(path, input_data):\n",
    "  pca = PCA(n_components=0.95) \n",
    "  pca.fit(input_data)\n",
    "  data = pca.transform(input_data)\n",
    "  pickle.dump(pca, open(path + 'auth_pca_model.sav', 'wb'))\n",
    "  return data, pca"
   ]
  },
  {
   "cell_type": "markdown",
   "metadata": {
    "id": "FP8HU_KVpQnE"
   },
   "source": [
    "##training model"
   ]
  },
  {
   "cell_type": "code",
   "execution_count": 10,
   "metadata": {
    "id": "ZuF3B2rapYsF"
   },
   "outputs": [],
   "source": [
    "def train(path, input_data, mod):\n",
    "  if mod == 'kmeans':\n",
    "    model = KMeans(7)\n",
    "    model.fit(input_data)\n",
    "    data = model.transform(input_data)\n",
    "    pickle.dump(model, open(path + 'auth_kmeans_model.sav', 'wb'))\n",
    "    return data, model\n",
    "\n",
    "  if mod == 'sgd':\n",
    "    model = SGDClassifier(loss='perceptron')\n",
    "    X = input_data.drop('y_label',axis=1)\n",
    "    y = input_data['y_label']\n",
    "    x_train, x_test, y_train, y_test = train_test_split(X, y, train_size=0.8)\n",
    "    model.fit(x_train, y_train)\n",
    "    pickle.dump(model, open(path + 'auth_sgd_model.sav', 'wb'))\n",
    "    print(model.score(x_test, y_test))\n",
    "    return model\n"
   ]
  },
  {
   "cell_type": "markdown",
   "metadata": {
    "id": "alOHHfpXFSyg"
   },
   "source": [
    "##model loader"
   ]
  },
  {
   "cell_type": "code",
   "execution_count": 11,
   "metadata": {
    "id": "kcA6oR-jFXNi"
   },
   "outputs": [],
   "source": [
    "def loadModel(path, mod_name):\n",
    "  return pickle.load(open(path + 'auth_'+mod_name+'.sav', 'rb'))"
   ]
  },
  {
   "cell_type": "markdown",
   "metadata": {
    "id": "-7FX7yoDpfTs"
   },
   "source": [
    "##function to calculate distance between each instance and their respective centroids"
   ]
  },
  {
   "cell_type": "code",
   "execution_count": 12,
   "metadata": {
    "id": "tmuJ9kNxppvN"
   },
   "outputs": [],
   "source": [
    "def fromCentDistance(pca_data, model):\n",
    "  centroids = model.cluster_centers_\n",
    "  df_cent = pd.DataFrame(centroids)\n",
    "  df_cent['label'] = [i for i in range(len(centroids))]\n",
    "  df_pca_data = pd.DataFrame(pca_data)\n",
    "  df_pca_data['label'] = model.predict(pca_data)\n",
    "  df_pca_data_join = df_pca_data.join(df_cent, \n",
    "                                      on='label', \n",
    "                                      how='left', \n",
    "                                      lsuffix='_pca',\n",
    "                                      rsuffix='_cent')\n",
    "  df_pca_1 = df_pca_data_join.loc[:, \"0_pca\":\"label_pca\"]\n",
    "  df_pca_1.drop('label_pca', axis=1, inplace=True)\n",
    "  df_cent_1 = df_pca_data_join.loc[:, \"0_cent\":\"label_cent\"]\n",
    "  df_cent_1.drop('label_cent', axis=1, inplace=True)\n",
    "  list1 = df_pca_1.to_numpy().tolist()\n",
    "  list2 = df_cent_1.to_numpy().tolist()\n",
    "  distances = []\n",
    "  for i in range(len(list1)):\n",
    "    dist = distance.euclidean(list1[i],list2[i])\n",
    "    distances.append(dist)\n",
    "  \n",
    "  return distances"
   ]
  },
  {
   "cell_type": "markdown",
   "metadata": {
    "id": "U7u-0ZJVpslu"
   },
   "source": [
    "##function to calculate modified_zscore"
   ]
  },
  {
   "cell_type": "code",
   "execution_count": 13,
   "metadata": {
    "id": "IdZLllw7p6mQ"
   },
   "outputs": [],
   "source": [
    "def modified_zscore(distance, consistency_correction=1.4826):\n",
    "    \n",
    "    median = np.median(distance)\n",
    "    \n",
    "    deviation_from_med = np.array(distance) - median\n",
    "    \n",
    "    mad = np.mean(np.abs(deviation_from_med))\n",
    "    mod_zscore = deviation_from_med/(consistency_correction*mad)\n",
    "    \n",
    "    return mod_zscore, mad"
   ]
  },
  {
   "cell_type": "markdown",
   "metadata": {
    "id": "sxewzBYVp_ip"
   },
   "source": [
    "##function to plot anomalies(z>3)"
   ]
  },
  {
   "cell_type": "code",
   "execution_count": 14,
   "metadata": {
    "id": "G677KdMkqIs1"
   },
   "outputs": [],
   "source": [
    "def plot_anomaly(data, threshold):\n",
    "    data = data.copy().sort_values(ascending=False).values\n",
    "    ranks = np.linspace(1, len(data), len(data))\n",
    "    mask_outliers = (data > threshold)\n",
    "    \n",
    "    plt.figure(dpi=100)\n",
    "    plt.plot(ranks[mask_outliers], data[mask_outliers],'o', color='r',label='anomalies')\n",
    "    plt.plot(ranks[~mask_outliers], data[~mask_outliers],'o', color='b', label='normal')\n",
    "    plt.axhline(threshold,color='r',label='threshold', alpha=0.5)\n",
    "    plt.legend(loc = 'upper right')\n",
    "    plt.title('Modified z-score vs. Log Event', fontweight='bold')\n",
    "    plt.xticks(np.arange(0, 21, step=2.0))\n",
    "    plt.xlabel('Event')\n",
    "    plt.ylabel('Modified z-score')\n",
    "    plt.show()"
   ]
  },
  {
   "cell_type": "markdown",
   "metadata": {
    "id": "6oYrZqHgqhUL"
   },
   "source": [
    "#Training"
   ]
  },
  {
   "cell_type": "code",
   "execution_count": 15,
   "metadata": {
    "id": "xtAowK1grywV"
   },
   "outputs": [],
   "source": [
    "# log = \"/content/drive/MyDrive/Colab Notebooks/DATASET/auth.log\"\n",
    "log = '/home/iamdpk/Project Work/SOC-support-system/Dataset/auth.log'"
   ]
  },
  {
   "cell_type": "code",
   "execution_count": 16,
   "metadata": {
    "id": "0TiYayeXEpoH"
   },
   "outputs": [],
   "source": [
    "path = '/home/iamdpk/Project Work/SOC-support-system/'"
   ]
  },
  {
   "cell_type": "code",
   "execution_count": 17,
   "metadata": {
    "id": "thXptgWEs-v3"
   },
   "outputs": [],
   "source": [
    "data = authParser(log)"
   ]
  },
  {
   "cell_type": "code",
   "execution_count": 18,
   "metadata": {
    "id": "5ol_GQWRr1z6"
   },
   "outputs": [],
   "source": [
    "df = pd.DataFrame(data)"
   ]
  },
  {
   "cell_type": "code",
   "execution_count": 19,
   "metadata": {
    "id": "eef88PVay_kV"
   },
   "outputs": [],
   "source": [
    "df_copy = df.copy()"
   ]
  },
  {
   "cell_type": "code",
   "execution_count": 20,
   "metadata": {
    "colab": {
     "base_uri": "https://localhost:8080/"
    },
    "id": "ImT_9r8pr3fp",
    "outputId": "351e0a6c-0ea5-4523-fe28-1d4f4000d28f"
   },
   "outputs": [
    {
     "name": "stderr",
     "output_type": "stream",
     "text": [
      "<ipython-input-5-4ca01a1ba164>:4: FutureWarning: The default value of regex will change from True to False in a future version.\n",
      "  dataframe[column_name] = dataframe[column_name].str.replace('\\d+', '')\n",
      "<ipython-input-5-4ca01a1ba164>:5: FutureWarning: The default value of regex will change from True to False in a future version.\n",
      "  dataframe[column_name] = dataframe[column_name].str.replace(r'[^\\w\\s]+', '')\n"
     ]
    }
   ],
   "source": [
    "df_clean = clean(df,\"event\")"
   ]
  },
  {
   "cell_type": "code",
   "execution_count": 21,
   "metadata": {
    "id": "0BxppdfHr5CT"
   },
   "outputs": [],
   "source": [
    "stopwords = ['pam_unixcronsession' 'by', 'string', 'from', 'bye', 'for', 'port', 'sshd', 'ssh', 'root', 'preauth']"
   ]
  },
  {
   "cell_type": "code",
   "execution_count": 22,
   "metadata": {
    "colab": {
     "base_uri": "https://localhost:8080/"
    },
    "id": "PBxrUlKnr8Lk",
    "outputId": "17f26710-fa04-421c-ab90-ed15f9585398"
   },
   "outputs": [
    {
     "name": "stderr",
     "output_type": "stream",
     "text": [
      "[nltk_data] Downloading package stopwords to /home/iamdpk/nltk_data...\n",
      "[nltk_data]   Package stopwords is already up-to-date!\n"
     ]
    }
   ],
   "source": [
    "df_clean = remStopWord(df_clean, \"event\", stopwords)"
   ]
  },
  {
   "cell_type": "code",
   "execution_count": null,
   "metadata": {
    "colab": {
     "base_uri": "https://localhost:8080/"
    },
    "id": "F3PHBZGNsAZX",
    "outputId": "07aa748c-fa1c-4c15-cbe2-95baf9c15dfa"
   },
   "outputs": [],
   "source": [
    "vector_op, vectorizer = authVectorizer(path, df_clean['event'])"
   ]
  },
  {
   "cell_type": "code",
   "execution_count": null,
   "metadata": {
    "colab": {
     "base_uri": "https://localhost:8080/"
    },
    "id": "qEm0I89JsB11",
    "outputId": "3e96486c-45b9-40e5-e718-710cb70e5c38"
   },
   "outputs": [],
   "source": [
    "pca_data, pca = pca(path, vector_op.todense())"
   ]
  },
  {
   "cell_type": "code",
   "execution_count": null,
   "metadata": {
    "id": "8eo1RtFV1Uav"
   },
   "outputs": [],
   "source": [
    "model_data, model = train(path, pca_data, 'kmeans')"
   ]
  },
  {
   "cell_type": "code",
   "execution_count": null,
   "metadata": {
    "id": "bvrJ4HDEsFJf"
   },
   "outputs": [],
   "source": [
    "distance = fromCentDistance(pca_data, model)"
   ]
  },
  {
   "cell_type": "code",
   "execution_count": null,
   "metadata": {
    "id": "KIPjMVUusGfE"
   },
   "outputs": [],
   "source": [
    "df_copy['distance'] = distance"
   ]
  },
  {
   "cell_type": "code",
   "execution_count": null,
   "metadata": {
    "id": "T30QvqRWXm6_"
   },
   "outputs": [],
   "source": [
    "df_copy['label'] = model.labels_"
   ]
  },
  {
   "cell_type": "code",
   "execution_count": null,
   "metadata": {
    "id": "ybEZdvyIsIOw"
   },
   "outputs": [],
   "source": [
    "mod_zscore, mad = modified_zscore(df_copy['distance'])"
   ]
  },
  {
   "cell_type": "code",
   "execution_count": null,
   "metadata": {
    "id": "FZuX2EjWqkrF"
   },
   "outputs": [],
   "source": [
    "df_copy['mod_zscore'] = mod_zscore.tolist()"
   ]
  },
  {
   "cell_type": "code",
   "execution_count": null,
   "metadata": {
    "id": "SR-V2DeYfCbV"
   },
   "outputs": [],
   "source": [
    "df_copy.loc[df_copy.mod_zscore>3, 'y_label'] = 'anomaly'\n",
    "df_copy.loc[df_copy.mod_zscore<3, 'y_label'] = 'normal'"
   ]
  },
  {
   "cell_type": "code",
   "execution_count": null,
   "metadata": {
    "id": "8yFwEUC4fEP5"
   },
   "outputs": [],
   "source": [
    "df_sgd = pd.DataFrame(vector_op.todense())"
   ]
  },
  {
   "cell_type": "code",
   "execution_count": null,
   "metadata": {
    "id": "TzZXWuKofNy2"
   },
   "outputs": [],
   "source": [
    "df_sgd['y_label'] = df_copy['y_label']"
   ]
  },
  {
   "cell_type": "code",
   "execution_count": null,
   "metadata": {
    "colab": {
     "base_uri": "https://localhost:8080/"
    },
    "id": "01jr-Q6FfOtr",
    "outputId": "bb24af82-2125-47b2-be58-a1afa8e64881"
   },
   "outputs": [],
   "source": [
    "model = train(path, df_sgd, 'sgd')"
   ]
  },
  {
   "cell_type": "markdown",
   "metadata": {
    "id": "BSgxCwu7rAIj"
   },
   "source": [
    "#Output"
   ]
  },
  {
   "cell_type": "code",
   "execution_count": null,
   "metadata": {
    "colab": {
     "base_uri": "https://localhost:8080/",
     "height": 404
    },
    "id": "VryDWt2GrDbe",
    "outputId": "5bd155c6-1a31-4ae5-c14e-5c0120eb5c22"
   },
   "outputs": [],
   "source": [
    "plot_anomaly(df_copy['mod_zscore'],3)"
   ]
  },
  {
   "cell_type": "code",
   "execution_count": null,
   "metadata": {
    "id": "PZIr2OCNrFpY"
   },
   "outputs": [],
   "source": [
    "df.loc[df_copy.mod_zscore>3].event.unique()"
   ]
  },
  {
   "cell_type": "code",
   "execution_count": null,
   "metadata": {
    "id": "6__2Un6cx96b"
   },
   "outputs": [],
   "source": [
    "df_copy.loc[df_copy.mod_zscore>3].event.unique()"
   ]
  },
  {
   "cell_type": "code",
   "execution_count": null,
   "metadata": {
    "colab": {
     "base_uri": "https://localhost:8080/"
    },
    "id": "Xkxy38eOY_g7",
    "outputId": "6ca68b56-7427-4bcc-8009-41056f6eb8f0"
   },
   "outputs": [],
   "source": [
    "df.loc[df_copy.label == 0].event.unique()"
   ]
  },
  {
   "cell_type": "code",
   "execution_count": null,
   "metadata": {
    "colab": {
     "base_uri": "https://localhost:8080/"
    },
    "id": "Q-HyXVZSWEFH",
    "outputId": "1235f179-aee8-4df2-adea-4a09647f9dc7"
   },
   "outputs": [],
   "source": [
    "df.loc[df_copy.label == 1].event.unique()"
   ]
  },
  {
   "cell_type": "code",
   "execution_count": null,
   "metadata": {
    "id": "CkIgLTx-YWEQ"
   },
   "outputs": [],
   "source": [
    "df.loc[df_copy.label == 2].event.unique()"
   ]
  },
  {
   "cell_type": "code",
   "execution_count": null,
   "metadata": {
    "colab": {
     "base_uri": "https://localhost:8080/"
    },
    "id": "tN0O1Og5YgfY",
    "outputId": "b4c00c14-5055-475c-8259-f60ff8864dc4"
   },
   "outputs": [],
   "source": [
    "df.loc[df_copy.label == 3].event.unique()"
   ]
  },
  {
   "cell_type": "code",
   "execution_count": null,
   "metadata": {
    "colab": {
     "base_uri": "https://localhost:8080/"
    },
    "id": "ybzBVlQIYofs",
    "outputId": "c2a32891-e3e6-41ca-9db3-d339abeebe05"
   },
   "outputs": [],
   "source": [
    "df.loc[df_copy.label == 4].event.unique()"
   ]
  },
  {
   "cell_type": "code",
   "execution_count": null,
   "metadata": {
    "colab": {
     "base_uri": "https://localhost:8080/"
    },
    "id": "AfI9ww7zZHoQ",
    "outputId": "8c32e2cd-e809-4dd7-bd95-3be4817287a4"
   },
   "outputs": [],
   "source": [
    "df.loc[df_copy.label == 5].event.unique()"
   ]
  },
  {
   "cell_type": "code",
   "execution_count": null,
   "metadata": {
    "colab": {
     "base_uri": "https://localhost:8080/"
    },
    "id": "J8QRHcF0ZSzw",
    "outputId": "33ef6198-cbbc-4a50-f555-43f7a97e3b92"
   },
   "outputs": [],
   "source": [
    "df.loc[df_copy.label == 6].event.unique()"
   ]
  },
  {
   "cell_type": "markdown",
   "metadata": {
    "id": "G_hVJBU_0MjF"
   },
   "source": [
    "#Testing"
   ]
  },
  {
   "cell_type": "code",
   "execution_count": null,
   "metadata": {
    "id": "fGRCpAKyKX9X"
   },
   "outputs": [],
   "source": [
    "# input = \"Nov 30 09:22:03 ip-172-31-27-153 sshd[22218]: Did not receive identification string from 196.200.90.236\"\n",
    "input = log"
   ]
  },
  {
   "cell_type": "code",
   "execution_count": null,
   "metadata": {},
   "outputs": [],
   "source": [
    "log"
   ]
  },
  {
   "cell_type": "code",
   "execution_count": null,
   "metadata": {
    "id": "c6D8r01qKz5W"
   },
   "outputs": [],
   "source": [
    "data1 = authParser(input)"
   ]
  },
  {
   "cell_type": "code",
   "execution_count": null,
   "metadata": {},
   "outputs": [],
   "source": [
    "data_copy1 = pd.DataFrame(data1)"
   ]
  },
  {
   "cell_type": "code",
   "execution_count": null,
   "metadata": {
    "id": "gpa6CmcDKz5Z"
   },
   "outputs": [],
   "source": [
    "df1 = pd.DataFrame(data1)"
   ]
  },
  {
   "cell_type": "code",
   "execution_count": null,
   "metadata": {
    "id": "skW8XXBoKz5c"
   },
   "outputs": [],
   "source": [
    "df_copy1 = df1.copy()"
   ]
  },
  {
   "cell_type": "code",
   "execution_count": null,
   "metadata": {
    "colab": {
     "base_uri": "https://localhost:8080/"
    },
    "id": "LzqFDv3SKz5e",
    "outputId": "c32da4f4-ca1f-4a9b-d1bf-59e532b4ea40"
   },
   "outputs": [],
   "source": [
    "df1_clean = clean(df1,\"event\")"
   ]
  },
  {
   "cell_type": "code",
   "execution_count": null,
   "metadata": {
    "id": "CaO96lrDKz5h"
   },
   "outputs": [],
   "source": [
    "stopwords1 = ['pam_unixcronsession' 'by', 'string', 'from', 'bye', 'for', 'port', 'sshd', 'ssh', 'root', 'preauth']"
   ]
  },
  {
   "cell_type": "code",
   "execution_count": null,
   "metadata": {
    "colab": {
     "base_uri": "https://localhost:8080/"
    },
    "id": "4jc77M6TKz5k",
    "outputId": "0d249195-2962-4d91-85d7-c6ecb8950744"
   },
   "outputs": [],
   "source": [
    "df1_clean = remStopWord(df1_clean, \"event\", stopwords1)"
   ]
  },
  {
   "cell_type": "code",
   "execution_count": null,
   "metadata": {
    "id": "K8J0RgJORqYl"
   },
   "outputs": [],
   "source": [
    "loaded_vectorizer = loadModel(path,'vectorizer_model')"
   ]
  },
  {
   "cell_type": "code",
   "execution_count": null,
   "metadata": {
    "id": "RlaqmstoYhmM"
   },
   "outputs": [],
   "source": [
    "vector_op1 = loaded_vectorizer.transform(df1_clean['event'])"
   ]
  },
  {
   "cell_type": "code",
   "execution_count": null,
   "metadata": {
    "id": "OL0v1VRXKz5u"
   },
   "outputs": [],
   "source": [
    "loaded_pca = loadModel(path,'pca_model')"
   ]
  },
  {
   "cell_type": "code",
   "execution_count": null,
   "metadata": {
    "colab": {
     "base_uri": "https://localhost:8080/"
    },
    "id": "3tx6gHXdRE2F",
    "outputId": "eb2ac6ea-f7cb-400b-ce32-4384acbedc4e"
   },
   "outputs": [],
   "source": [
    "pca_data1 = loaded_pca.transform(vector_op1.todense())"
   ]
  },
  {
   "cell_type": "code",
   "execution_count": null,
   "metadata": {
    "id": "aKXjemm_Kz5x"
   },
   "outputs": [],
   "source": [
    "loaded_model_kmeans = loadModel(path,'kmeans_model')"
   ]
  },
  {
   "cell_type": "code",
   "execution_count": null,
   "metadata": {},
   "outputs": [],
   "source": [
    "one = pca_data1[1]"
   ]
  },
  {
   "cell_type": "code",
   "execution_count": null,
   "metadata": {},
   "outputs": [],
   "source": [
    "two = loaded_model_kmeans.cluster_centers_[1]"
   ]
  },
  {
   "cell_type": "code",
   "execution_count": null,
   "metadata": {},
   "outputs": [],
   "source": [
    "from scipy.spatial import distance\n",
    "dis = distance.euclidean(one,two)\n",
    "dis"
   ]
  },
  {
   "cell_type": "code",
   "execution_count": null,
   "metadata": {},
   "outputs": [],
   "source": [
    "distance1 = fromCentDistance(pca_data1, loaded_model_kmeans)"
   ]
  },
  {
   "cell_type": "code",
   "execution_count": null,
   "metadata": {},
   "outputs": [],
   "source": [
    "distance1"
   ]
  },
  {
   "cell_type": "code",
   "execution_count": null,
   "metadata": {},
   "outputs": [],
   "source": [
    "df_copy1['distance'] = distance1"
   ]
  },
  {
   "cell_type": "code",
   "execution_count": null,
   "metadata": {},
   "outputs": [],
   "source": [
    "df_copy1['label'] = loaded_model_kmeans.labels_"
   ]
  },
  {
   "cell_type": "code",
   "execution_count": null,
   "metadata": {},
   "outputs": [],
   "source": [
    "mod_zscore, mad = modified_zscore(df_copy1['distance'])"
   ]
  },
  {
   "cell_type": "code",
   "execution_count": null,
   "metadata": {},
   "outputs": [],
   "source": [
    "df_copy1['mod_zscore'] = mod_zscore.tolist()"
   ]
  },
  {
   "cell_type": "code",
   "execution_count": null,
   "metadata": {},
   "outputs": [],
   "source": [
    "df_copy1"
   ]
  },
  {
   "cell_type": "code",
   "execution_count": null,
   "metadata": {
    "id": "-vR7k8VYWMoi"
   },
   "outputs": [],
   "source": [
    "model_data1 = loaded_model_kmeans.predict(pca_data1)"
   ]
  },
  {
   "cell_type": "code",
   "execution_count": null,
   "metadata": {
    "colab": {
     "base_uri": "https://localhost:8080/"
    },
    "id": "U0p8KY2BW2LA",
    "outputId": "300095bb-24c2-4d4c-f3d6-7dec26bb11d3"
   },
   "outputs": [],
   "source": [
    "model_data1"
   ]
  },
  {
   "cell_type": "code",
   "execution_count": null,
   "metadata": {
    "id": "wBjuCPmXfdJb"
   },
   "outputs": [],
   "source": [
    "loaded_model2 = loadModel(path,'sgd_model')"
   ]
  },
  {
   "cell_type": "code",
   "execution_count": null,
   "metadata": {
    "id": "evaPIOLwjJjl"
   },
   "outputs": [],
   "source": [
    "model_data2 = loaded_model2.predict(pd.DataFrame(vector_op1.todense()))"
   ]
  },
  {
   "cell_type": "code",
   "execution_count": null,
   "metadata": {
    "colab": {
     "base_uri": "https://localhost:8080/"
    },
    "id": "g_FlGhQsjl4o",
    "outputId": "89e9b771-14ec-4cb9-914c-8bd9988b64dd"
   },
   "outputs": [],
   "source": [
    "model_data2"
   ]
  },
  {
   "cell_type": "code",
   "execution_count": null,
   "metadata": {
    "id": "BlSjwE9bjnu3"
   },
   "outputs": [],
   "source": []
  }
 ],
 "metadata": {
  "colab": {
   "authorship_tag": "ABX9TyNj/p+DnT6PWN09Egk06xgh",
   "collapsed_sections": [],
   "include_colab_link": true,
   "name": "authlog_training_testing.ipynb",
   "provenance": []
  },
  "kernelspec": {
   "display_name": "Python 3",
   "language": "python",
   "name": "python3"
  },
  "language_info": {
   "codemirror_mode": {
    "name": "ipython",
    "version": 3
   },
   "file_extension": ".py",
   "mimetype": "text/x-python",
   "name": "python",
   "nbconvert_exporter": "python",
   "pygments_lexer": "ipython3",
   "version": "3.9.2"
  }
 },
 "nbformat": 4,
 "nbformat_minor": 1
}
