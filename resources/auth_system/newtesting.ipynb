{
 "cells": [
  {
   "cell_type": "code",
   "execution_count": 1,
   "id": "pharmaceutical-spring",
   "metadata": {},
   "outputs": [],
   "source": [
    "import pandas as pd\n",
    "import numpy as np\n",
    "import re\n",
    "from sklearn.feature_extraction.text import TfidfVectorizer\n",
    "from sklearn.decomposition import PCA\n",
    "from sklearn.cluster import KMeans\n",
    "from sklearn.linear_model import SGDClassifier\n",
    "from sklearn.model_selection import train_test_split\n",
    "from scipy.spatial import distance\n",
    "import matplotlib.pyplot as plt\n",
    "import pickle\n",
    "import joblib"
   ]
  },
  {
   "cell_type": "code",
   "execution_count": 2,
   "id": "hazardous-power",
   "metadata": {},
   "outputs": [],
   "source": [
    "# log = \"/content/drive/MyDrive/Colab Notebooks/DATASET/auth.log\"\n",
    "log = '/home/iamdpk/Project Work/SOC-support-system/Dataset/auth.log'\n",
    "path = '/home/iamdpk/Project Work/SOC-support-system/backend/soc/mlmodels/auth_system/'"
   ]
  },
  {
   "cell_type": "code",
   "execution_count": 3,
   "id": "victorian-soundtrack",
   "metadata": {},
   "outputs": [],
   "source": [
    "def authParser(log_file):\n",
    "  file_name = log_file\n",
    "  file = open(file_name, \"r\")\n",
    "  data = []\n",
    "  order = [\"date\", \"time\", \"ip\", \"process\", \"event\"]\n",
    "  \n",
    "  for line in file.readlines():\n",
    "    split1 = re.split(\":\", line, 3)\n",
    "    event = split1[3]\n",
    "    date = re.findall(\"^\\S+\\s+[0-9]{2}\", line)\n",
    "    time = re.findall(\"([0-9]{2}\\\\:[0-9]{2}\\\\:[0-9]{2})\", line)[0]\n",
    "    ip = re.findall(\"([a-z]{2}\\\\-[0-9]*\\\\-[0-9]*\\\\-[0-9]*\\\\-[0-9]*)\", line)[0]\n",
    "    process = re.findall(\"([a-zA-Z]*\\\\[[0-9]*\\\\])\", line)[0]\n",
    "    details = [date, time, ip, process, event]\n",
    "    structure = {key:value for key, value in zip(order, details)}\n",
    "    data.append(structure)\n",
    "  return data"
   ]
  },
  {
   "cell_type": "code",
   "execution_count": 4,
   "id": "worst-locking",
   "metadata": {},
   "outputs": [],
   "source": [
    "data1 = authParser(log)"
   ]
  },
  {
   "cell_type": "code",
   "execution_count": 5,
   "id": "after-creek",
   "metadata": {},
   "outputs": [
    {
     "data": {
      "text/html": [
       "<div>\n",
       "<style scoped>\n",
       "    .dataframe tbody tr th:only-of-type {\n",
       "        vertical-align: middle;\n",
       "    }\n",
       "\n",
       "    .dataframe tbody tr th {\n",
       "        vertical-align: top;\n",
       "    }\n",
       "\n",
       "    .dataframe thead th {\n",
       "        text-align: right;\n",
       "    }\n",
       "</style>\n",
       "<table border=\"1\" class=\"dataframe\">\n",
       "  <thead>\n",
       "    <tr style=\"text-align: right;\">\n",
       "      <th></th>\n",
       "      <th>date</th>\n",
       "      <th>time</th>\n",
       "      <th>ip</th>\n",
       "      <th>process</th>\n",
       "      <th>event</th>\n",
       "    </tr>\n",
       "  </thead>\n",
       "  <tbody>\n",
       "    <tr>\n",
       "      <th>0</th>\n",
       "      <td>[Nov 30]</td>\n",
       "      <td>06:39:00</td>\n",
       "      <td>ip-172-31-27-153</td>\n",
       "      <td>CRON[21882]</td>\n",
       "      <td>pam_unix(cron:session): session closed for us...</td>\n",
       "    </tr>\n",
       "    <tr>\n",
       "      <th>1</th>\n",
       "      <td>[Nov 30]</td>\n",
       "      <td>06:47:01</td>\n",
       "      <td>ip-172-31-27-153</td>\n",
       "      <td>CRON[22087]</td>\n",
       "      <td>pam_unix(cron:session): session opened for us...</td>\n",
       "    </tr>\n",
       "    <tr>\n",
       "      <th>2</th>\n",
       "      <td>[Nov 30]</td>\n",
       "      <td>06:47:03</td>\n",
       "      <td>ip-172-31-27-153</td>\n",
       "      <td>CRON[22087]</td>\n",
       "      <td>pam_unix(cron:session): session closed for us...</td>\n",
       "    </tr>\n",
       "    <tr>\n",
       "      <th>3</th>\n",
       "      <td>[Nov 30]</td>\n",
       "      <td>07:07:14</td>\n",
       "      <td>ip-172-31-27-153</td>\n",
       "      <td>sshd[22116]</td>\n",
       "      <td>Connection closed by 122.225.103.87 [preauth]\\n</td>\n",
       "    </tr>\n",
       "    <tr>\n",
       "      <th>4</th>\n",
       "      <td>[Nov 30]</td>\n",
       "      <td>07:07:35</td>\n",
       "      <td>ip-172-31-27-153</td>\n",
       "      <td>sshd[22118]</td>\n",
       "      <td>Connection closed by 122.225.103.87 [preauth]\\n</td>\n",
       "    </tr>\n",
       "    <tr>\n",
       "      <th>...</th>\n",
       "      <td>...</td>\n",
       "      <td>...</td>\n",
       "      <td>...</td>\n",
       "      <td>...</td>\n",
       "      <td>...</td>\n",
       "    </tr>\n",
       "    <tr>\n",
       "      <th>86834</th>\n",
       "      <td>[Dec 31]</td>\n",
       "      <td>22:26:20</td>\n",
       "      <td>ip-172-31-27-153</td>\n",
       "      <td>sshd[7998]</td>\n",
       "      <td>Connection closed by 218.2.0.133 [preauth]\\n</td>\n",
       "    </tr>\n",
       "    <tr>\n",
       "      <th>86835</th>\n",
       "      <td>[Dec 31]</td>\n",
       "      <td>22:27:07</td>\n",
       "      <td>ip-172-31-27-153</td>\n",
       "      <td>sshd[8001]</td>\n",
       "      <td>Connection closed by 218.2.0.133 [preauth]\\n</td>\n",
       "    </tr>\n",
       "    <tr>\n",
       "      <th>86836</th>\n",
       "      <td>[Dec 31]</td>\n",
       "      <td>22:27:48</td>\n",
       "      <td>ip-172-31-27-153</td>\n",
       "      <td>sshd[8003]</td>\n",
       "      <td>Invalid user admin from 218.2.0.133\\n</td>\n",
       "    </tr>\n",
       "    <tr>\n",
       "      <th>86837</th>\n",
       "      <td>[Dec 31]</td>\n",
       "      <td>22:27:48</td>\n",
       "      <td>ip-172-31-27-153</td>\n",
       "      <td>sshd[8003]</td>\n",
       "      <td>input_userauth_request: invalid user admin [p...</td>\n",
       "    </tr>\n",
       "    <tr>\n",
       "      <th>86838</th>\n",
       "      <td>[Dec 31]</td>\n",
       "      <td>22:27:48</td>\n",
       "      <td>ip-172-31-27-153</td>\n",
       "      <td>sshd[8003]</td>\n",
       "      <td>Connection closed by 218.2.0.133 [preauth]\\n</td>\n",
       "    </tr>\n",
       "  </tbody>\n",
       "</table>\n",
       "<p>86839 rows × 5 columns</p>\n",
       "</div>"
      ],
      "text/plain": [
       "           date      time                ip      process  \\\n",
       "0      [Nov 30]  06:39:00  ip-172-31-27-153  CRON[21882]   \n",
       "1      [Nov 30]  06:47:01  ip-172-31-27-153  CRON[22087]   \n",
       "2      [Nov 30]  06:47:03  ip-172-31-27-153  CRON[22087]   \n",
       "3      [Nov 30]  07:07:14  ip-172-31-27-153  sshd[22116]   \n",
       "4      [Nov 30]  07:07:35  ip-172-31-27-153  sshd[22118]   \n",
       "...         ...       ...               ...          ...   \n",
       "86834  [Dec 31]  22:26:20  ip-172-31-27-153   sshd[7998]   \n",
       "86835  [Dec 31]  22:27:07  ip-172-31-27-153   sshd[8001]   \n",
       "86836  [Dec 31]  22:27:48  ip-172-31-27-153   sshd[8003]   \n",
       "86837  [Dec 31]  22:27:48  ip-172-31-27-153   sshd[8003]   \n",
       "86838  [Dec 31]  22:27:48  ip-172-31-27-153   sshd[8003]   \n",
       "\n",
       "                                                   event  \n",
       "0       pam_unix(cron:session): session closed for us...  \n",
       "1       pam_unix(cron:session): session opened for us...  \n",
       "2       pam_unix(cron:session): session closed for us...  \n",
       "3        Connection closed by 122.225.103.87 [preauth]\\n  \n",
       "4        Connection closed by 122.225.103.87 [preauth]\\n  \n",
       "...                                                  ...  \n",
       "86834       Connection closed by 218.2.0.133 [preauth]\\n  \n",
       "86835       Connection closed by 218.2.0.133 [preauth]\\n  \n",
       "86836              Invalid user admin from 218.2.0.133\\n  \n",
       "86837   input_userauth_request: invalid user admin [p...  \n",
       "86838       Connection closed by 218.2.0.133 [preauth]\\n  \n",
       "\n",
       "[86839 rows x 5 columns]"
      ]
     },
     "execution_count": 5,
     "metadata": {},
     "output_type": "execute_result"
    }
   ],
   "source": [
    "df1 = pd.DataFrame(data1)\n",
    "df1"
   ]
  },
  {
   "cell_type": "code",
   "execution_count": 6,
   "id": "another-division",
   "metadata": {},
   "outputs": [],
   "source": [
    "df1_copy = df1.copy()"
   ]
  },
  {
   "cell_type": "code",
   "execution_count": 7,
   "id": "turkish-dryer",
   "metadata": {},
   "outputs": [],
   "source": [
    "def clean(dataframe, column_name):\n",
    "  dataframe[column_name] = dataframe[column_name].str.lower()\n",
    "  # Remove numbers and special-characters from Event\n",
    "  dataframe[column_name] = dataframe[column_name].str.replace('\\d+', '')\n",
    "  dataframe[column_name] = dataframe[column_name].str.replace(r'[^\\w\\s]+', '')\n",
    "  # remove after 'user' including user :(\n",
    "  dataframe[column_name] = dataframe[column_name].apply(lambda x: x.split(' user ')[0])\n",
    "  return dataframe"
   ]
  },
  {
   "cell_type": "code",
   "execution_count": 8,
   "id": "dressed-measure",
   "metadata": {},
   "outputs": [
    {
     "name": "stderr",
     "output_type": "stream",
     "text": [
      "<ipython-input-7-4ca01a1ba164>:4: FutureWarning: The default value of regex will change from True to False in a future version.\n",
      "  dataframe[column_name] = dataframe[column_name].str.replace('\\d+', '')\n",
      "<ipython-input-7-4ca01a1ba164>:5: FutureWarning: The default value of regex will change from True to False in a future version.\n",
      "  dataframe[column_name] = dataframe[column_name].str.replace(r'[^\\w\\s]+', '')\n"
     ]
    },
    {
     "data": {
      "text/html": [
       "<div>\n",
       "<style scoped>\n",
       "    .dataframe tbody tr th:only-of-type {\n",
       "        vertical-align: middle;\n",
       "    }\n",
       "\n",
       "    .dataframe tbody tr th {\n",
       "        vertical-align: top;\n",
       "    }\n",
       "\n",
       "    .dataframe thead th {\n",
       "        text-align: right;\n",
       "    }\n",
       "</style>\n",
       "<table border=\"1\" class=\"dataframe\">\n",
       "  <thead>\n",
       "    <tr style=\"text-align: right;\">\n",
       "      <th></th>\n",
       "      <th>date</th>\n",
       "      <th>time</th>\n",
       "      <th>ip</th>\n",
       "      <th>process</th>\n",
       "      <th>event</th>\n",
       "    </tr>\n",
       "  </thead>\n",
       "  <tbody>\n",
       "    <tr>\n",
       "      <th>0</th>\n",
       "      <td>[Nov 30]</td>\n",
       "      <td>06:39:00</td>\n",
       "      <td>ip-172-31-27-153</td>\n",
       "      <td>CRON[21882]</td>\n",
       "      <td>pam_unixcronsession session closed for</td>\n",
       "    </tr>\n",
       "    <tr>\n",
       "      <th>1</th>\n",
       "      <td>[Nov 30]</td>\n",
       "      <td>06:47:01</td>\n",
       "      <td>ip-172-31-27-153</td>\n",
       "      <td>CRON[22087]</td>\n",
       "      <td>pam_unixcronsession session opened for</td>\n",
       "    </tr>\n",
       "    <tr>\n",
       "      <th>2</th>\n",
       "      <td>[Nov 30]</td>\n",
       "      <td>06:47:03</td>\n",
       "      <td>ip-172-31-27-153</td>\n",
       "      <td>CRON[22087]</td>\n",
       "      <td>pam_unixcronsession session closed for</td>\n",
       "    </tr>\n",
       "    <tr>\n",
       "      <th>3</th>\n",
       "      <td>[Nov 30]</td>\n",
       "      <td>07:07:14</td>\n",
       "      <td>ip-172-31-27-153</td>\n",
       "      <td>sshd[22116]</td>\n",
       "      <td>connection closed by  preauth\\n</td>\n",
       "    </tr>\n",
       "    <tr>\n",
       "      <th>4</th>\n",
       "      <td>[Nov 30]</td>\n",
       "      <td>07:07:35</td>\n",
       "      <td>ip-172-31-27-153</td>\n",
       "      <td>sshd[22118]</td>\n",
       "      <td>connection closed by  preauth\\n</td>\n",
       "    </tr>\n",
       "    <tr>\n",
       "      <th>...</th>\n",
       "      <td>...</td>\n",
       "      <td>...</td>\n",
       "      <td>...</td>\n",
       "      <td>...</td>\n",
       "      <td>...</td>\n",
       "    </tr>\n",
       "    <tr>\n",
       "      <th>86834</th>\n",
       "      <td>[Dec 31]</td>\n",
       "      <td>22:26:20</td>\n",
       "      <td>ip-172-31-27-153</td>\n",
       "      <td>sshd[7998]</td>\n",
       "      <td>connection closed by  preauth\\n</td>\n",
       "    </tr>\n",
       "    <tr>\n",
       "      <th>86835</th>\n",
       "      <td>[Dec 31]</td>\n",
       "      <td>22:27:07</td>\n",
       "      <td>ip-172-31-27-153</td>\n",
       "      <td>sshd[8001]</td>\n",
       "      <td>connection closed by  preauth\\n</td>\n",
       "    </tr>\n",
       "    <tr>\n",
       "      <th>86836</th>\n",
       "      <td>[Dec 31]</td>\n",
       "      <td>22:27:48</td>\n",
       "      <td>ip-172-31-27-153</td>\n",
       "      <td>sshd[8003]</td>\n",
       "      <td>invalid</td>\n",
       "    </tr>\n",
       "    <tr>\n",
       "      <th>86837</th>\n",
       "      <td>[Dec 31]</td>\n",
       "      <td>22:27:48</td>\n",
       "      <td>ip-172-31-27-153</td>\n",
       "      <td>sshd[8003]</td>\n",
       "      <td>input_userauth_request invalid</td>\n",
       "    </tr>\n",
       "    <tr>\n",
       "      <th>86838</th>\n",
       "      <td>[Dec 31]</td>\n",
       "      <td>22:27:48</td>\n",
       "      <td>ip-172-31-27-153</td>\n",
       "      <td>sshd[8003]</td>\n",
       "      <td>connection closed by  preauth\\n</td>\n",
       "    </tr>\n",
       "  </tbody>\n",
       "</table>\n",
       "<p>86839 rows × 5 columns</p>\n",
       "</div>"
      ],
      "text/plain": [
       "           date      time                ip      process  \\\n",
       "0      [Nov 30]  06:39:00  ip-172-31-27-153  CRON[21882]   \n",
       "1      [Nov 30]  06:47:01  ip-172-31-27-153  CRON[22087]   \n",
       "2      [Nov 30]  06:47:03  ip-172-31-27-153  CRON[22087]   \n",
       "3      [Nov 30]  07:07:14  ip-172-31-27-153  sshd[22116]   \n",
       "4      [Nov 30]  07:07:35  ip-172-31-27-153  sshd[22118]   \n",
       "...         ...       ...               ...          ...   \n",
       "86834  [Dec 31]  22:26:20  ip-172-31-27-153   sshd[7998]   \n",
       "86835  [Dec 31]  22:27:07  ip-172-31-27-153   sshd[8001]   \n",
       "86836  [Dec 31]  22:27:48  ip-172-31-27-153   sshd[8003]   \n",
       "86837  [Dec 31]  22:27:48  ip-172-31-27-153   sshd[8003]   \n",
       "86838  [Dec 31]  22:27:48  ip-172-31-27-153   sshd[8003]   \n",
       "\n",
       "                                         event  \n",
       "0       pam_unixcronsession session closed for  \n",
       "1       pam_unixcronsession session opened for  \n",
       "2       pam_unixcronsession session closed for  \n",
       "3              connection closed by  preauth\\n  \n",
       "4              connection closed by  preauth\\n  \n",
       "...                                        ...  \n",
       "86834          connection closed by  preauth\\n  \n",
       "86835          connection closed by  preauth\\n  \n",
       "86836                                  invalid  \n",
       "86837           input_userauth_request invalid  \n",
       "86838          connection closed by  preauth\\n  \n",
       "\n",
       "[86839 rows x 5 columns]"
      ]
     },
     "execution_count": 8,
     "metadata": {},
     "output_type": "execute_result"
    }
   ],
   "source": [
    "df1_clean = clean(df1,\"event\")\n",
    "df1_clean"
   ]
  },
  {
   "cell_type": "code",
   "execution_count": 9,
   "id": "closing-evanescence",
   "metadata": {},
   "outputs": [],
   "source": [
    "stopwords1 = ['pam_unixcronsession' 'by', 'string', 'from', 'bye', 'for', 'port', 'sshd', 'ssh', 'root', 'preauth']"
   ]
  },
  {
   "cell_type": "code",
   "execution_count": 10,
   "id": "streaming-operator",
   "metadata": {},
   "outputs": [],
   "source": [
    "def remStopWord(dataframe, column_name, s_words):\n",
    "  import nltk\n",
    "  from nltk.corpus import stopwords\n",
    "  nltk.download('stopwords')\n",
    "  all_stopwords = stopwords.words('english')\n",
    "  all_stopwords.extend(s_words)\n",
    "  dataframe[column_name] = dataframe[column_name].apply(lambda x: ' '.join([word for word in x.split() if word not in (all_stopwords)]))\n",
    "  return dataframe"
   ]
  },
  {
   "cell_type": "code",
   "execution_count": 11,
   "id": "ordinary-logic",
   "metadata": {},
   "outputs": [
    {
     "name": "stderr",
     "output_type": "stream",
     "text": [
      "[nltk_data] Downloading package stopwords to /home/iamdpk/nltk_data...\n",
      "[nltk_data]   Package stopwords is already up-to-date!\n"
     ]
    },
    {
     "data": {
      "text/html": [
       "<div>\n",
       "<style scoped>\n",
       "    .dataframe tbody tr th:only-of-type {\n",
       "        vertical-align: middle;\n",
       "    }\n",
       "\n",
       "    .dataframe tbody tr th {\n",
       "        vertical-align: top;\n",
       "    }\n",
       "\n",
       "    .dataframe thead th {\n",
       "        text-align: right;\n",
       "    }\n",
       "</style>\n",
       "<table border=\"1\" class=\"dataframe\">\n",
       "  <thead>\n",
       "    <tr style=\"text-align: right;\">\n",
       "      <th></th>\n",
       "      <th>date</th>\n",
       "      <th>time</th>\n",
       "      <th>ip</th>\n",
       "      <th>process</th>\n",
       "      <th>event</th>\n",
       "    </tr>\n",
       "  </thead>\n",
       "  <tbody>\n",
       "    <tr>\n",
       "      <th>0</th>\n",
       "      <td>[Nov 30]</td>\n",
       "      <td>06:39:00</td>\n",
       "      <td>ip-172-31-27-153</td>\n",
       "      <td>CRON[21882]</td>\n",
       "      <td>pam_unixcronsession session closed</td>\n",
       "    </tr>\n",
       "    <tr>\n",
       "      <th>1</th>\n",
       "      <td>[Nov 30]</td>\n",
       "      <td>06:47:01</td>\n",
       "      <td>ip-172-31-27-153</td>\n",
       "      <td>CRON[22087]</td>\n",
       "      <td>pam_unixcronsession session opened</td>\n",
       "    </tr>\n",
       "    <tr>\n",
       "      <th>2</th>\n",
       "      <td>[Nov 30]</td>\n",
       "      <td>06:47:03</td>\n",
       "      <td>ip-172-31-27-153</td>\n",
       "      <td>CRON[22087]</td>\n",
       "      <td>pam_unixcronsession session closed</td>\n",
       "    </tr>\n",
       "    <tr>\n",
       "      <th>3</th>\n",
       "      <td>[Nov 30]</td>\n",
       "      <td>07:07:14</td>\n",
       "      <td>ip-172-31-27-153</td>\n",
       "      <td>sshd[22116]</td>\n",
       "      <td>connection closed</td>\n",
       "    </tr>\n",
       "    <tr>\n",
       "      <th>4</th>\n",
       "      <td>[Nov 30]</td>\n",
       "      <td>07:07:35</td>\n",
       "      <td>ip-172-31-27-153</td>\n",
       "      <td>sshd[22118]</td>\n",
       "      <td>connection closed</td>\n",
       "    </tr>\n",
       "    <tr>\n",
       "      <th>...</th>\n",
       "      <td>...</td>\n",
       "      <td>...</td>\n",
       "      <td>...</td>\n",
       "      <td>...</td>\n",
       "      <td>...</td>\n",
       "    </tr>\n",
       "    <tr>\n",
       "      <th>86834</th>\n",
       "      <td>[Dec 31]</td>\n",
       "      <td>22:26:20</td>\n",
       "      <td>ip-172-31-27-153</td>\n",
       "      <td>sshd[7998]</td>\n",
       "      <td>connection closed</td>\n",
       "    </tr>\n",
       "    <tr>\n",
       "      <th>86835</th>\n",
       "      <td>[Dec 31]</td>\n",
       "      <td>22:27:07</td>\n",
       "      <td>ip-172-31-27-153</td>\n",
       "      <td>sshd[8001]</td>\n",
       "      <td>connection closed</td>\n",
       "    </tr>\n",
       "    <tr>\n",
       "      <th>86836</th>\n",
       "      <td>[Dec 31]</td>\n",
       "      <td>22:27:48</td>\n",
       "      <td>ip-172-31-27-153</td>\n",
       "      <td>sshd[8003]</td>\n",
       "      <td>invalid</td>\n",
       "    </tr>\n",
       "    <tr>\n",
       "      <th>86837</th>\n",
       "      <td>[Dec 31]</td>\n",
       "      <td>22:27:48</td>\n",
       "      <td>ip-172-31-27-153</td>\n",
       "      <td>sshd[8003]</td>\n",
       "      <td>input_userauth_request invalid</td>\n",
       "    </tr>\n",
       "    <tr>\n",
       "      <th>86838</th>\n",
       "      <td>[Dec 31]</td>\n",
       "      <td>22:27:48</td>\n",
       "      <td>ip-172-31-27-153</td>\n",
       "      <td>sshd[8003]</td>\n",
       "      <td>connection closed</td>\n",
       "    </tr>\n",
       "  </tbody>\n",
       "</table>\n",
       "<p>86839 rows × 5 columns</p>\n",
       "</div>"
      ],
      "text/plain": [
       "           date      time                ip      process  \\\n",
       "0      [Nov 30]  06:39:00  ip-172-31-27-153  CRON[21882]   \n",
       "1      [Nov 30]  06:47:01  ip-172-31-27-153  CRON[22087]   \n",
       "2      [Nov 30]  06:47:03  ip-172-31-27-153  CRON[22087]   \n",
       "3      [Nov 30]  07:07:14  ip-172-31-27-153  sshd[22116]   \n",
       "4      [Nov 30]  07:07:35  ip-172-31-27-153  sshd[22118]   \n",
       "...         ...       ...               ...          ...   \n",
       "86834  [Dec 31]  22:26:20  ip-172-31-27-153   sshd[7998]   \n",
       "86835  [Dec 31]  22:27:07  ip-172-31-27-153   sshd[8001]   \n",
       "86836  [Dec 31]  22:27:48  ip-172-31-27-153   sshd[8003]   \n",
       "86837  [Dec 31]  22:27:48  ip-172-31-27-153   sshd[8003]   \n",
       "86838  [Dec 31]  22:27:48  ip-172-31-27-153   sshd[8003]   \n",
       "\n",
       "                                    event  \n",
       "0      pam_unixcronsession session closed  \n",
       "1      pam_unixcronsession session opened  \n",
       "2      pam_unixcronsession session closed  \n",
       "3                       connection closed  \n",
       "4                       connection closed  \n",
       "...                                   ...  \n",
       "86834                   connection closed  \n",
       "86835                   connection closed  \n",
       "86836                             invalid  \n",
       "86837      input_userauth_request invalid  \n",
       "86838                   connection closed  \n",
       "\n",
       "[86839 rows x 5 columns]"
      ]
     },
     "execution_count": 11,
     "metadata": {},
     "output_type": "execute_result"
    }
   ],
   "source": [
    "df1_clean = remStopWord(df1_clean, \"event\", stopwords1)\n",
    "df1_clean"
   ]
  },
  {
   "cell_type": "code",
   "execution_count": 12,
   "id": "elementary-closing",
   "metadata": {},
   "outputs": [],
   "source": [
    "def loadModel(path, mod_name):\n",
    "  return pickle.load(open(path + 'auth_'+mod_name+'.sav', 'rb'))"
   ]
  },
  {
   "cell_type": "code",
   "execution_count": 14,
   "id": "federal-range",
   "metadata": {},
   "outputs": [],
   "source": [
    "def authToken(input_data):\n",
    "  return list(set(str(input_data).split(' ')))"
   ]
  },
  {
   "cell_type": "code",
   "execution_count": 15,
   "id": "illegal-preparation",
   "metadata": {},
   "outputs": [
    {
     "data": {
      "text/html": [
       "<style>#sk-container-id-1 {color: black;background-color: white;}#sk-container-id-1 pre{padding: 0;}#sk-container-id-1 div.sk-toggleable {background-color: white;}#sk-container-id-1 label.sk-toggleable__label {cursor: pointer;display: block;width: 100%;margin-bottom: 0;padding: 0.3em;box-sizing: border-box;text-align: center;}#sk-container-id-1 label.sk-toggleable__label-arrow:before {content: \"▸\";float: left;margin-right: 0.25em;color: #696969;}#sk-container-id-1 label.sk-toggleable__label-arrow:hover:before {color: black;}#sk-container-id-1 div.sk-estimator:hover label.sk-toggleable__label-arrow:before {color: black;}#sk-container-id-1 div.sk-toggleable__content {max-height: 0;max-width: 0;overflow: hidden;text-align: left;background-color: #f0f8ff;}#sk-container-id-1 div.sk-toggleable__content pre {margin: 0.2em;color: black;border-radius: 0.25em;background-color: #f0f8ff;}#sk-container-id-1 input.sk-toggleable__control:checked~div.sk-toggleable__content {max-height: 200px;max-width: 100%;overflow: auto;}#sk-container-id-1 input.sk-toggleable__control:checked~label.sk-toggleable__label-arrow:before {content: \"▾\";}#sk-container-id-1 div.sk-estimator input.sk-toggleable__control:checked~label.sk-toggleable__label {background-color: #d4ebff;}#sk-container-id-1 div.sk-label input.sk-toggleable__control:checked~label.sk-toggleable__label {background-color: #d4ebff;}#sk-container-id-1 input.sk-hidden--visually {border: 0;clip: rect(1px 1px 1px 1px);clip: rect(1px, 1px, 1px, 1px);height: 1px;margin: -1px;overflow: hidden;padding: 0;position: absolute;width: 1px;}#sk-container-id-1 div.sk-estimator {font-family: monospace;background-color: #f0f8ff;border: 1px dotted black;border-radius: 0.25em;box-sizing: border-box;margin-bottom: 0.5em;}#sk-container-id-1 div.sk-estimator:hover {background-color: #d4ebff;}#sk-container-id-1 div.sk-parallel-item::after {content: \"\";width: 100%;border-bottom: 1px solid gray;flex-grow: 1;}#sk-container-id-1 div.sk-label:hover label.sk-toggleable__label {background-color: #d4ebff;}#sk-container-id-1 div.sk-serial::before {content: \"\";position: absolute;border-left: 1px solid gray;box-sizing: border-box;top: 0;bottom: 0;left: 50%;z-index: 0;}#sk-container-id-1 div.sk-serial {display: flex;flex-direction: column;align-items: center;background-color: white;padding-right: 0.2em;padding-left: 0.2em;position: relative;}#sk-container-id-1 div.sk-item {position: relative;z-index: 1;}#sk-container-id-1 div.sk-parallel {display: flex;align-items: stretch;justify-content: center;background-color: white;position: relative;}#sk-container-id-1 div.sk-item::before, #sk-container-id-1 div.sk-parallel-item::before {content: \"\";position: absolute;border-left: 1px solid gray;box-sizing: border-box;top: 0;bottom: 0;left: 50%;z-index: -1;}#sk-container-id-1 div.sk-parallel-item {display: flex;flex-direction: column;z-index: 1;position: relative;background-color: white;}#sk-container-id-1 div.sk-parallel-item:first-child::after {align-self: flex-end;width: 50%;}#sk-container-id-1 div.sk-parallel-item:last-child::after {align-self: flex-start;width: 50%;}#sk-container-id-1 div.sk-parallel-item:only-child::after {width: 0;}#sk-container-id-1 div.sk-dashed-wrapped {border: 1px dashed gray;margin: 0 0.4em 0.5em 0.4em;box-sizing: border-box;padding-bottom: 0.4em;background-color: white;}#sk-container-id-1 div.sk-label label {font-family: monospace;font-weight: bold;display: inline-block;line-height: 1.2em;}#sk-container-id-1 div.sk-label-container {text-align: center;}#sk-container-id-1 div.sk-container {/* jupyter's `normalize.less` sets `[hidden] { display: none; }` but bootstrap.min.css set `[hidden] { display: none !important; }` so we also need the `!important` here to be able to override the default hidden behavior on the sphinx rendered scikit-learn.org. See: https://github.com/scikit-learn/scikit-learn/issues/21755 */display: inline-block !important;position: relative;}#sk-container-id-1 div.sk-text-repr-fallback {display: none;}</style><div id=\"sk-container-id-1\" class=\"sk-top-container\"><div class=\"sk-text-repr-fallback\"><pre>TfidfVectorizer(tokenizer=&lt;function authToken at 0x7f3b286f0dc0&gt;)</pre><b>In a Jupyter environment, please rerun this cell to show the HTML representation or trust the notebook. <br />On GitHub, the HTML representation is unable to render, please try loading this page with nbviewer.org.</b></div><div class=\"sk-container\" hidden><div class=\"sk-item\"><div class=\"sk-estimator sk-toggleable\"><input class=\"sk-toggleable__control sk-hidden--visually\" id=\"sk-estimator-id-1\" type=\"checkbox\" checked><label for=\"sk-estimator-id-1\" class=\"sk-toggleable__label sk-toggleable__label-arrow\">TfidfVectorizer</label><div class=\"sk-toggleable__content\"><pre>TfidfVectorizer(tokenizer=&lt;function authToken at 0x7f3b286f0dc0&gt;)</pre></div></div></div></div></div>"
      ],
      "text/plain": [
       "TfidfVectorizer(tokenizer=<function authToken at 0x7f3b286f0dc0>)"
      ]
     },
     "execution_count": 15,
     "metadata": {},
     "output_type": "execute_result"
    }
   ],
   "source": [
    "loaded_vectorizer = loadModel(path,'vectorizer_model')\n",
    "loaded_vectorizer"
   ]
  },
  {
   "cell_type": "code",
   "execution_count": 16,
   "id": "senior-macro",
   "metadata": {},
   "outputs": [
    {
     "data": {
      "text/plain": [
       "<86839x277 sparse matrix of type '<class 'numpy.float64'>'\n",
       "\twith 220161 stored elements in Compressed Sparse Row format>"
      ]
     },
     "execution_count": 16,
     "metadata": {},
     "output_type": "execute_result"
    }
   ],
   "source": [
    "vector_op1 = loaded_vectorizer.transform(df1_clean['event'])\n",
    "vector_op1"
   ]
  },
  {
   "cell_type": "code",
   "execution_count": 17,
   "id": "dedicated-leeds",
   "metadata": {},
   "outputs": [
    {
     "data": {
      "text/html": [
       "<style>#sk-container-id-2 {color: black;background-color: white;}#sk-container-id-2 pre{padding: 0;}#sk-container-id-2 div.sk-toggleable {background-color: white;}#sk-container-id-2 label.sk-toggleable__label {cursor: pointer;display: block;width: 100%;margin-bottom: 0;padding: 0.3em;box-sizing: border-box;text-align: center;}#sk-container-id-2 label.sk-toggleable__label-arrow:before {content: \"▸\";float: left;margin-right: 0.25em;color: #696969;}#sk-container-id-2 label.sk-toggleable__label-arrow:hover:before {color: black;}#sk-container-id-2 div.sk-estimator:hover label.sk-toggleable__label-arrow:before {color: black;}#sk-container-id-2 div.sk-toggleable__content {max-height: 0;max-width: 0;overflow: hidden;text-align: left;background-color: #f0f8ff;}#sk-container-id-2 div.sk-toggleable__content pre {margin: 0.2em;color: black;border-radius: 0.25em;background-color: #f0f8ff;}#sk-container-id-2 input.sk-toggleable__control:checked~div.sk-toggleable__content {max-height: 200px;max-width: 100%;overflow: auto;}#sk-container-id-2 input.sk-toggleable__control:checked~label.sk-toggleable__label-arrow:before {content: \"▾\";}#sk-container-id-2 div.sk-estimator input.sk-toggleable__control:checked~label.sk-toggleable__label {background-color: #d4ebff;}#sk-container-id-2 div.sk-label input.sk-toggleable__control:checked~label.sk-toggleable__label {background-color: #d4ebff;}#sk-container-id-2 input.sk-hidden--visually {border: 0;clip: rect(1px 1px 1px 1px);clip: rect(1px, 1px, 1px, 1px);height: 1px;margin: -1px;overflow: hidden;padding: 0;position: absolute;width: 1px;}#sk-container-id-2 div.sk-estimator {font-family: monospace;background-color: #f0f8ff;border: 1px dotted black;border-radius: 0.25em;box-sizing: border-box;margin-bottom: 0.5em;}#sk-container-id-2 div.sk-estimator:hover {background-color: #d4ebff;}#sk-container-id-2 div.sk-parallel-item::after {content: \"\";width: 100%;border-bottom: 1px solid gray;flex-grow: 1;}#sk-container-id-2 div.sk-label:hover label.sk-toggleable__label {background-color: #d4ebff;}#sk-container-id-2 div.sk-serial::before {content: \"\";position: absolute;border-left: 1px solid gray;box-sizing: border-box;top: 0;bottom: 0;left: 50%;z-index: 0;}#sk-container-id-2 div.sk-serial {display: flex;flex-direction: column;align-items: center;background-color: white;padding-right: 0.2em;padding-left: 0.2em;position: relative;}#sk-container-id-2 div.sk-item {position: relative;z-index: 1;}#sk-container-id-2 div.sk-parallel {display: flex;align-items: stretch;justify-content: center;background-color: white;position: relative;}#sk-container-id-2 div.sk-item::before, #sk-container-id-2 div.sk-parallel-item::before {content: \"\";position: absolute;border-left: 1px solid gray;box-sizing: border-box;top: 0;bottom: 0;left: 50%;z-index: -1;}#sk-container-id-2 div.sk-parallel-item {display: flex;flex-direction: column;z-index: 1;position: relative;background-color: white;}#sk-container-id-2 div.sk-parallel-item:first-child::after {align-self: flex-end;width: 50%;}#sk-container-id-2 div.sk-parallel-item:last-child::after {align-self: flex-start;width: 50%;}#sk-container-id-2 div.sk-parallel-item:only-child::after {width: 0;}#sk-container-id-2 div.sk-dashed-wrapped {border: 1px dashed gray;margin: 0 0.4em 0.5em 0.4em;box-sizing: border-box;padding-bottom: 0.4em;background-color: white;}#sk-container-id-2 div.sk-label label {font-family: monospace;font-weight: bold;display: inline-block;line-height: 1.2em;}#sk-container-id-2 div.sk-label-container {text-align: center;}#sk-container-id-2 div.sk-container {/* jupyter's `normalize.less` sets `[hidden] { display: none; }` but bootstrap.min.css set `[hidden] { display: none !important; }` so we also need the `!important` here to be able to override the default hidden behavior on the sphinx rendered scikit-learn.org. See: https://github.com/scikit-learn/scikit-learn/issues/21755 */display: inline-block !important;position: relative;}#sk-container-id-2 div.sk-text-repr-fallback {display: none;}</style><div id=\"sk-container-id-2\" class=\"sk-top-container\"><div class=\"sk-text-repr-fallback\"><pre>PCA(n_components=0.95)</pre><b>In a Jupyter environment, please rerun this cell to show the HTML representation or trust the notebook. <br />On GitHub, the HTML representation is unable to render, please try loading this page with nbviewer.org.</b></div><div class=\"sk-container\" hidden><div class=\"sk-item\"><div class=\"sk-estimator sk-toggleable\"><input class=\"sk-toggleable__control sk-hidden--visually\" id=\"sk-estimator-id-2\" type=\"checkbox\" checked><label for=\"sk-estimator-id-2\" class=\"sk-toggleable__label sk-toggleable__label-arrow\">PCA</label><div class=\"sk-toggleable__content\"><pre>PCA(n_components=0.95)</pre></div></div></div></div></div>"
      ],
      "text/plain": [
       "PCA(n_components=0.95)"
      ]
     },
     "execution_count": 17,
     "metadata": {},
     "output_type": "execute_result"
    }
   ],
   "source": [
    "loaded_pca = loadModel(path,'pca_model')\n",
    "loaded_pca"
   ]
  },
  {
   "cell_type": "code",
   "execution_count": 18,
   "id": "comparable-source",
   "metadata": {},
   "outputs": [
    {
     "name": "stderr",
     "output_type": "stream",
     "text": [
      "/home/iamdpk/.local/lib/python3.9/site-packages/sklearn/utils/validation.py:727: FutureWarning: np.matrix usage is deprecated in 1.0 and will raise a TypeError in 1.2. Please convert to a numpy array with np.asarray. For more information see: https://numpy.org/doc/stable/reference/generated/numpy.matrix.html\n",
      "  warnings.warn(\n"
     ]
    },
    {
     "data": {
      "text/plain": [
       "array([[ 3.04223988e-01,  5.12274123e-01,  3.06410907e-14, ...,\n",
       "        -6.19885948e-01,  2.43192246e-01, -3.67199292e-01],\n",
       "       [ 2.94032589e-01,  4.36985991e-01,  3.07641817e-14, ...,\n",
       "        -2.85186866e-01,  6.48906022e-01, -6.43508876e-01],\n",
       "       [ 3.04223988e-01,  5.12274123e-01,  3.06410907e-14, ...,\n",
       "        -6.19885948e-01,  2.43192246e-01, -3.67199292e-01],\n",
       "       ...,\n",
       "       [ 8.04050563e-01, -2.49367568e-01, -4.42742406e-01, ...,\n",
       "         4.08813436e-03, -8.08968572e-03, -9.19350297e-04],\n",
       "       [ 8.04050563e-01, -2.49367568e-01,  4.42742406e-01, ...,\n",
       "         4.08813436e-03, -8.08968572e-03, -9.19350297e-04],\n",
       "       [ 3.12452616e-01,  5.82015486e-01,  3.08167358e-14, ...,\n",
       "        -5.14356949e-01, -3.20301718e-01,  1.67126177e-01]])"
      ]
     },
     "execution_count": 18,
     "metadata": {},
     "output_type": "execute_result"
    }
   ],
   "source": [
    "pca_data1 = loaded_pca.transform(vector_op1.todense())\n",
    "pca_data1"
   ]
  },
  {
   "cell_type": "code",
   "execution_count": 20,
   "id": "forced-princess",
   "metadata": {},
   "outputs": [
    {
     "data": {
      "text/html": [
       "<style>#sk-container-id-3 {color: black;background-color: white;}#sk-container-id-3 pre{padding: 0;}#sk-container-id-3 div.sk-toggleable {background-color: white;}#sk-container-id-3 label.sk-toggleable__label {cursor: pointer;display: block;width: 100%;margin-bottom: 0;padding: 0.3em;box-sizing: border-box;text-align: center;}#sk-container-id-3 label.sk-toggleable__label-arrow:before {content: \"▸\";float: left;margin-right: 0.25em;color: #696969;}#sk-container-id-3 label.sk-toggleable__label-arrow:hover:before {color: black;}#sk-container-id-3 div.sk-estimator:hover label.sk-toggleable__label-arrow:before {color: black;}#sk-container-id-3 div.sk-toggleable__content {max-height: 0;max-width: 0;overflow: hidden;text-align: left;background-color: #f0f8ff;}#sk-container-id-3 div.sk-toggleable__content pre {margin: 0.2em;color: black;border-radius: 0.25em;background-color: #f0f8ff;}#sk-container-id-3 input.sk-toggleable__control:checked~div.sk-toggleable__content {max-height: 200px;max-width: 100%;overflow: auto;}#sk-container-id-3 input.sk-toggleable__control:checked~label.sk-toggleable__label-arrow:before {content: \"▾\";}#sk-container-id-3 div.sk-estimator input.sk-toggleable__control:checked~label.sk-toggleable__label {background-color: #d4ebff;}#sk-container-id-3 div.sk-label input.sk-toggleable__control:checked~label.sk-toggleable__label {background-color: #d4ebff;}#sk-container-id-3 input.sk-hidden--visually {border: 0;clip: rect(1px 1px 1px 1px);clip: rect(1px, 1px, 1px, 1px);height: 1px;margin: -1px;overflow: hidden;padding: 0;position: absolute;width: 1px;}#sk-container-id-3 div.sk-estimator {font-family: monospace;background-color: #f0f8ff;border: 1px dotted black;border-radius: 0.25em;box-sizing: border-box;margin-bottom: 0.5em;}#sk-container-id-3 div.sk-estimator:hover {background-color: #d4ebff;}#sk-container-id-3 div.sk-parallel-item::after {content: \"\";width: 100%;border-bottom: 1px solid gray;flex-grow: 1;}#sk-container-id-3 div.sk-label:hover label.sk-toggleable__label {background-color: #d4ebff;}#sk-container-id-3 div.sk-serial::before {content: \"\";position: absolute;border-left: 1px solid gray;box-sizing: border-box;top: 0;bottom: 0;left: 50%;z-index: 0;}#sk-container-id-3 div.sk-serial {display: flex;flex-direction: column;align-items: center;background-color: white;padding-right: 0.2em;padding-left: 0.2em;position: relative;}#sk-container-id-3 div.sk-item {position: relative;z-index: 1;}#sk-container-id-3 div.sk-parallel {display: flex;align-items: stretch;justify-content: center;background-color: white;position: relative;}#sk-container-id-3 div.sk-item::before, #sk-container-id-3 div.sk-parallel-item::before {content: \"\";position: absolute;border-left: 1px solid gray;box-sizing: border-box;top: 0;bottom: 0;left: 50%;z-index: -1;}#sk-container-id-3 div.sk-parallel-item {display: flex;flex-direction: column;z-index: 1;position: relative;background-color: white;}#sk-container-id-3 div.sk-parallel-item:first-child::after {align-self: flex-end;width: 50%;}#sk-container-id-3 div.sk-parallel-item:last-child::after {align-self: flex-start;width: 50%;}#sk-container-id-3 div.sk-parallel-item:only-child::after {width: 0;}#sk-container-id-3 div.sk-dashed-wrapped {border: 1px dashed gray;margin: 0 0.4em 0.5em 0.4em;box-sizing: border-box;padding-bottom: 0.4em;background-color: white;}#sk-container-id-3 div.sk-label label {font-family: monospace;font-weight: bold;display: inline-block;line-height: 1.2em;}#sk-container-id-3 div.sk-label-container {text-align: center;}#sk-container-id-3 div.sk-container {/* jupyter's `normalize.less` sets `[hidden] { display: none; }` but bootstrap.min.css set `[hidden] { display: none !important; }` so we also need the `!important` here to be able to override the default hidden behavior on the sphinx rendered scikit-learn.org. See: https://github.com/scikit-learn/scikit-learn/issues/21755 */display: inline-block !important;position: relative;}#sk-container-id-3 div.sk-text-repr-fallback {display: none;}</style><div id=\"sk-container-id-3\" class=\"sk-top-container\"><div class=\"sk-text-repr-fallback\"><pre>KMeans(n_clusters=7)</pre><b>In a Jupyter environment, please rerun this cell to show the HTML representation or trust the notebook. <br />On GitHub, the HTML representation is unable to render, please try loading this page with nbviewer.org.</b></div><div class=\"sk-container\" hidden><div class=\"sk-item\"><div class=\"sk-estimator sk-toggleable\"><input class=\"sk-toggleable__control sk-hidden--visually\" id=\"sk-estimator-id-3\" type=\"checkbox\" checked><label for=\"sk-estimator-id-3\" class=\"sk-toggleable__label sk-toggleable__label-arrow\">KMeans</label><div class=\"sk-toggleable__content\"><pre>KMeans(n_clusters=7)</pre></div></div></div></div></div>"
      ],
      "text/plain": [
       "KMeans(n_clusters=7)"
      ]
     },
     "execution_count": 20,
     "metadata": {},
     "output_type": "execute_result"
    }
   ],
   "source": [
    "loaded_model_kmeans = loadModel(path,'kmeans_model')\n",
    "loaded_model_kmeans"
   ]
  },
  {
   "cell_type": "code",
   "execution_count": 21,
   "id": "noticed-engine",
   "metadata": {},
   "outputs": [
    {
     "data": {
      "text/plain": [
       "array([4, 4, 4, ..., 1, 2, 4], dtype=int32)"
      ]
     },
     "execution_count": 21,
     "metadata": {},
     "output_type": "execute_result"
    }
   ],
   "source": [
    "model_data1 = loaded_model_kmeans.predict(pca_data1)\n",
    "model_data1"
   ]
  },
  {
   "cell_type": "code",
   "execution_count": 22,
   "id": "catholic-wallace",
   "metadata": {},
   "outputs": [
    {
     "data": {
      "text/html": [
       "<style>#sk-container-id-4 {color: black;background-color: white;}#sk-container-id-4 pre{padding: 0;}#sk-container-id-4 div.sk-toggleable {background-color: white;}#sk-container-id-4 label.sk-toggleable__label {cursor: pointer;display: block;width: 100%;margin-bottom: 0;padding: 0.3em;box-sizing: border-box;text-align: center;}#sk-container-id-4 label.sk-toggleable__label-arrow:before {content: \"▸\";float: left;margin-right: 0.25em;color: #696969;}#sk-container-id-4 label.sk-toggleable__label-arrow:hover:before {color: black;}#sk-container-id-4 div.sk-estimator:hover label.sk-toggleable__label-arrow:before {color: black;}#sk-container-id-4 div.sk-toggleable__content {max-height: 0;max-width: 0;overflow: hidden;text-align: left;background-color: #f0f8ff;}#sk-container-id-4 div.sk-toggleable__content pre {margin: 0.2em;color: black;border-radius: 0.25em;background-color: #f0f8ff;}#sk-container-id-4 input.sk-toggleable__control:checked~div.sk-toggleable__content {max-height: 200px;max-width: 100%;overflow: auto;}#sk-container-id-4 input.sk-toggleable__control:checked~label.sk-toggleable__label-arrow:before {content: \"▾\";}#sk-container-id-4 div.sk-estimator input.sk-toggleable__control:checked~label.sk-toggleable__label {background-color: #d4ebff;}#sk-container-id-4 div.sk-label input.sk-toggleable__control:checked~label.sk-toggleable__label {background-color: #d4ebff;}#sk-container-id-4 input.sk-hidden--visually {border: 0;clip: rect(1px 1px 1px 1px);clip: rect(1px, 1px, 1px, 1px);height: 1px;margin: -1px;overflow: hidden;padding: 0;position: absolute;width: 1px;}#sk-container-id-4 div.sk-estimator {font-family: monospace;background-color: #f0f8ff;border: 1px dotted black;border-radius: 0.25em;box-sizing: border-box;margin-bottom: 0.5em;}#sk-container-id-4 div.sk-estimator:hover {background-color: #d4ebff;}#sk-container-id-4 div.sk-parallel-item::after {content: \"\";width: 100%;border-bottom: 1px solid gray;flex-grow: 1;}#sk-container-id-4 div.sk-label:hover label.sk-toggleable__label {background-color: #d4ebff;}#sk-container-id-4 div.sk-serial::before {content: \"\";position: absolute;border-left: 1px solid gray;box-sizing: border-box;top: 0;bottom: 0;left: 50%;z-index: 0;}#sk-container-id-4 div.sk-serial {display: flex;flex-direction: column;align-items: center;background-color: white;padding-right: 0.2em;padding-left: 0.2em;position: relative;}#sk-container-id-4 div.sk-item {position: relative;z-index: 1;}#sk-container-id-4 div.sk-parallel {display: flex;align-items: stretch;justify-content: center;background-color: white;position: relative;}#sk-container-id-4 div.sk-item::before, #sk-container-id-4 div.sk-parallel-item::before {content: \"\";position: absolute;border-left: 1px solid gray;box-sizing: border-box;top: 0;bottom: 0;left: 50%;z-index: -1;}#sk-container-id-4 div.sk-parallel-item {display: flex;flex-direction: column;z-index: 1;position: relative;background-color: white;}#sk-container-id-4 div.sk-parallel-item:first-child::after {align-self: flex-end;width: 50%;}#sk-container-id-4 div.sk-parallel-item:last-child::after {align-self: flex-start;width: 50%;}#sk-container-id-4 div.sk-parallel-item:only-child::after {width: 0;}#sk-container-id-4 div.sk-dashed-wrapped {border: 1px dashed gray;margin: 0 0.4em 0.5em 0.4em;box-sizing: border-box;padding-bottom: 0.4em;background-color: white;}#sk-container-id-4 div.sk-label label {font-family: monospace;font-weight: bold;display: inline-block;line-height: 1.2em;}#sk-container-id-4 div.sk-label-container {text-align: center;}#sk-container-id-4 div.sk-container {/* jupyter's `normalize.less` sets `[hidden] { display: none; }` but bootstrap.min.css set `[hidden] { display: none !important; }` so we also need the `!important` here to be able to override the default hidden behavior on the sphinx rendered scikit-learn.org. See: https://github.com/scikit-learn/scikit-learn/issues/21755 */display: inline-block !important;position: relative;}#sk-container-id-4 div.sk-text-repr-fallback {display: none;}</style><div id=\"sk-container-id-4\" class=\"sk-top-container\"><div class=\"sk-text-repr-fallback\"><pre>SGDClassifier(loss=&#x27;perceptron&#x27;)</pre><b>In a Jupyter environment, please rerun this cell to show the HTML representation or trust the notebook. <br />On GitHub, the HTML representation is unable to render, please try loading this page with nbviewer.org.</b></div><div class=\"sk-container\" hidden><div class=\"sk-item\"><div class=\"sk-estimator sk-toggleable\"><input class=\"sk-toggleable__control sk-hidden--visually\" id=\"sk-estimator-id-4\" type=\"checkbox\" checked><label for=\"sk-estimator-id-4\" class=\"sk-toggleable__label sk-toggleable__label-arrow\">SGDClassifier</label><div class=\"sk-toggleable__content\"><pre>SGDClassifier(loss=&#x27;perceptron&#x27;)</pre></div></div></div></div></div>"
      ],
      "text/plain": [
       "SGDClassifier(loss='perceptron')"
      ]
     },
     "execution_count": 22,
     "metadata": {},
     "output_type": "execute_result"
    }
   ],
   "source": [
    "loaded_model2 = loadModel(path,'sgd_model')\n",
    "loaded_model2"
   ]
  },
  {
   "cell_type": "code",
   "execution_count": 23,
   "id": "loaded-saskatchewan",
   "metadata": {},
   "outputs": [
    {
     "data": {
      "text/plain": [
       "array(['anomaly', 'anomaly', 'anomaly', ..., 'normal', 'normal',\n",
       "       'anomaly'], dtype='<U7')"
      ]
     },
     "execution_count": 23,
     "metadata": {},
     "output_type": "execute_result"
    }
   ],
   "source": [
    "model_data2 = loaded_model2.predict(pd.DataFrame(vector_op1.todense()))\n",
    "model_data2"
   ]
  },
  {
   "cell_type": "code",
   "execution_count": null,
   "id": "cooked-movement",
   "metadata": {},
   "outputs": [],
   "source": []
  }
 ],
 "metadata": {
  "kernelspec": {
   "display_name": "Python 3",
   "language": "python",
   "name": "python3"
  },
  "language_info": {
   "codemirror_mode": {
    "name": "ipython",
    "version": 3
   },
   "file_extension": ".py",
   "mimetype": "text/x-python",
   "name": "python",
   "nbconvert_exporter": "python",
   "pygments_lexer": "ipython3",
   "version": "3.9.2"
  }
 },
 "nbformat": 4,
 "nbformat_minor": 5
}
